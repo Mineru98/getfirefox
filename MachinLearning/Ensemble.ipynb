{
 "cells": [
  {
   "cell_type": "markdown",
   "id": "f7e986ed",
   "metadata": {},
   "source": [
    "# 앙상블(Ensemble)\n",
    "\n",
    "* 일반화와 강건성(Robustness)을 향상시키기 위해 여러 모델의 예측 값을 결합하는 방법\n",
    "* 앙상블에는 크게 두가지 종류가 존재\n",
    "  * 평균 방법\n",
    "    * 여러개의 추정값을 독립적으로 구한뒤 평균을 취함\n",
    "    * 결합 추정값은 분산이 줄어들기 때문에 단일 추정값보다 좋은 성능을 보임\n",
    "  * 부스팅 방법\n",
    "    * 순차적으로 모델 생성\n",
    "    * 결합된 모델의 편향을 감소 시키기 위해 노력\n",
    "    * 부스팅 방법의 목표는 여러개의 약한 모델들을 결합해 하나의 강력한 앙상블 모델을 구축하는 것"
   ]
  },
  {
   "cell_type": "markdown",
   "id": "b28d1892",
   "metadata": {},
   "source": [
    "## Bagging meta-estimator\n",
    "\n",
    "* bagging은 bootstrap aggregating의 줄임말\n",
    "* 원래 훈련 데이터셋의 일부를 사용해 여러 모델을 훈련\n",
    "* 각각의 결과를 결합해 최종 결과를 생성\n",
    "* 분산을 줄이고 과적합을 막음\n",
    "* 강력하고 복잡한 모델에서 잘 동작"
   ]
  },
  {
   "cell_type": "code",
   "execution_count": 1,
   "id": "16dc2163",
   "metadata": {},
   "outputs": [],
   "source": [
    "from sklearn.datasets import load_iris, load_wine, load_breast_cancer\n",
    "from sklearn.datasets import load_boston, load_diabetes\n",
    "from sklearn.preprocessing import StandardScaler\n",
    "from sklearn.pipeline import make_pipeline\n",
    "from sklearn.model_selection import cross_validate"
   ]
  },
  {
   "cell_type": "code",
   "execution_count": 2,
   "id": "c95e0206",
   "metadata": {},
   "outputs": [],
   "source": [
    "from sklearn.ensemble import BaggingClassifier\n",
    "from sklearn.neighbors import KNeighborsClassifier\n",
    "from sklearn.svm import SVC\n",
    "from sklearn.tree import DecisionTreeClassifier"
   ]
  },
  {
   "cell_type": "code",
   "execution_count": 3,
   "id": "75958609",
   "metadata": {},
   "outputs": [],
   "source": [
    "from sklearn.ensemble import BaggingRegressor\n",
    "from sklearn.neighbors import KNeighborsRegressor\n",
    "from sklearn.svm import SVR\n",
    "from sklearn.tree import DecisionTreeRegressor"
   ]
  },
  {
   "cell_type": "markdown",
   "id": "3f2e698c",
   "metadata": {},
   "source": [
    "### Bagging을 사용한 분류"
   ]
  },
  {
   "cell_type": "markdown",
   "id": "3374d4a7",
   "metadata": {},
   "source": [
    "#### 데이터셋 불러오기"
   ]
  },
  {
   "cell_type": "code",
   "execution_count": 4,
   "id": "2ae8f6b1",
   "metadata": {},
   "outputs": [],
   "source": [
    "iris = load_iris()\n",
    "wine = load_wine()\n",
    "cancer = load_breast_cancer()"
   ]
  },
  {
   "cell_type": "markdown",
   "id": "de1c820e",
   "metadata": {},
   "source": [
    "#### KNN"
   ]
  },
  {
   "cell_type": "markdown",
   "id": "2559423c",
   "metadata": {},
   "source": [
    "##### 붓꽃 데이터"
   ]
  },
  {
   "cell_type": "code",
   "execution_count": 5,
   "id": "0a1674e5",
   "metadata": {},
   "outputs": [],
   "source": [
    "base_model = make_pipeline(\n",
    "    StandardScaler(),\n",
    "    KNeighborsClassifier()\n",
    ")\n",
    "\n",
    "bagging_model = BaggingClassifier(base_model, n_estimators=10, max_samples=0.5, max_features=0.5)"
   ]
  },
  {
   "cell_type": "code",
   "execution_count": 6,
   "id": "be1e56d7",
   "metadata": {},
   "outputs": [
    {
     "name": "stdout",
     "output_type": "stream",
     "text": [
      "avg fit time : 0.00046677589416503905 (+/- 0.00011399573919867105)\n",
      "avg score time : 0.0006638526916503906 (+/- 5.781040454412449e-05)\n",
      "avg test score : 0.96 (+/- 0.024944382578492935)\n"
     ]
    }
   ],
   "source": [
    "cross_val = cross_validate(\n",
    "    estimator=base_model,\n",
    "    X=iris.data, y=iris.target,\n",
    "    cv=5\n",
    ")\n",
    "print(\"avg fit time : {} (+/- {})\".format(cross_val[\"fit_time\"].mean(), cross_val[\"fit_time\"].std()))\n",
    "print(\"avg score time : {} (+/- {})\".format(cross_val[\"score_time\"].mean(), cross_val[\"score_time\"].std()))\n",
    "print(\"avg test score : {} (+/- {})\".format(cross_val[\"test_score\"].mean(), cross_val[\"test_score\"].std()))"
   ]
  },
  {
   "cell_type": "code",
   "execution_count": 7,
   "id": "118441d3",
   "metadata": {},
   "outputs": [
    {
     "name": "stdout",
     "output_type": "stream",
     "text": [
      "avg fit time : 0.00663142204284668 (+/- 0.00014811174671109877)\n",
      "avg score time : 0.0023138046264648436 (+/- 0.0001736870692355251)\n",
      "avg test score : 0.9466666666666667 (+/- 0.04521553322083511)\n"
     ]
    }
   ],
   "source": [
    "cross_val = cross_validate(\n",
    "    estimator=bagging_model,\n",
    "    X=iris.data, y=iris.target,\n",
    "    cv=5\n",
    ")\n",
    "print(\"avg fit time : {} (+/- {})\".format(cross_val[\"fit_time\"].mean(), cross_val[\"fit_time\"].std()))\n",
    "print(\"avg score time : {} (+/- {})\".format(cross_val[\"score_time\"].mean(), cross_val[\"score_time\"].std()))\n",
    "print(\"avg test score : {} (+/- {})\".format(cross_val[\"test_score\"].mean(), cross_val[\"test_score\"].std()))"
   ]
  },
  {
   "cell_type": "markdown",
   "id": "87206931",
   "metadata": {},
   "source": [
    "##### 와인 데이터"
   ]
  },
  {
   "cell_type": "code",
   "execution_count": 8,
   "id": "c552c1f7",
   "metadata": {},
   "outputs": [],
   "source": [
    "base_model = make_pipeline(\n",
    "    StandardScaler(),\n",
    "    KNeighborsClassifier()\n",
    ")\n",
    "\n",
    "bagging_model = BaggingClassifier(base_model, n_estimators=10, max_samples=0.5, max_features=0.5)"
   ]
  },
  {
   "cell_type": "code",
   "execution_count": 9,
   "id": "00777f4c",
   "metadata": {},
   "outputs": [
    {
     "name": "stdout",
     "output_type": "stream",
     "text": [
      "avg fit time : 0.00047926902770996095 (+/- 0.00014827146965293073)\n",
      "avg score time : 0.0007113933563232422 (+/- 4.4140391024775406e-05)\n",
      "avg test score : 0.9493650793650794 (+/- 0.037910929811115976)\n"
     ]
    }
   ],
   "source": [
    "cross_val = cross_validate(\n",
    "    estimator=base_model,\n",
    "    X=wine.data, y=wine.target,\n",
    "    cv=5\n",
    ")\n",
    "print(\"avg fit time : {} (+/- {})\".format(cross_val[\"fit_time\"].mean(), cross_val[\"fit_time\"].std()))\n",
    "print(\"avg score time : {} (+/- {})\".format(cross_val[\"score_time\"].mean(), cross_val[\"score_time\"].std()))\n",
    "print(\"avg test score : {} (+/- {})\".format(cross_val[\"test_score\"].mean(), cross_val[\"test_score\"].std()))"
   ]
  },
  {
   "cell_type": "code",
   "execution_count": 10,
   "id": "0bf7affc",
   "metadata": {},
   "outputs": [
    {
     "name": "stdout",
     "output_type": "stream",
     "text": [
      "avg fit time : 0.007098865509033203 (+/- 0.0005941199717496691)\n",
      "avg score time : 0.0024253368377685548 (+/- 7.1641764045619e-05)\n",
      "avg test score : 0.9496825396825397 (+/- 0.04428713657612523)\n"
     ]
    }
   ],
   "source": [
    "cross_val = cross_validate(\n",
    "    estimator=bagging_model,\n",
    "    X=wine.data, y=wine.target,\n",
    "    cv=5\n",
    ")\n",
    "print(\"avg fit time : {} (+/- {})\".format(cross_val[\"fit_time\"].mean(), cross_val[\"fit_time\"].std()))\n",
    "print(\"avg score time : {} (+/- {})\".format(cross_val[\"score_time\"].mean(), cross_val[\"score_time\"].std()))\n",
    "print(\"avg test score : {} (+/- {})\".format(cross_val[\"test_score\"].mean(), cross_val[\"test_score\"].std()))"
   ]
  },
  {
   "cell_type": "markdown",
   "id": "80f7832f",
   "metadata": {},
   "source": [
    "##### 유방암 데이터"
   ]
  },
  {
   "cell_type": "code",
   "execution_count": 11,
   "id": "6f410507",
   "metadata": {},
   "outputs": [],
   "source": [
    "base_model = make_pipeline(\n",
    "    StandardScaler(),\n",
    "    KNeighborsClassifier()\n",
    ")\n",
    "\n",
    "bagging_model = BaggingClassifier(base_model, n_estimators=10, max_samples=0.5, max_features=0.5)"
   ]
  },
  {
   "cell_type": "code",
   "execution_count": 12,
   "id": "f906ebdb",
   "metadata": {},
   "outputs": [
    {
     "name": "stdout",
     "output_type": "stream",
     "text": [
      "avg fit time : 0.0006194591522216796 (+/- 8.557525348731005e-05)\n",
      "avg score time : 0.007991552352905273 (+/- 0.0032551314082841566)\n",
      "avg test score : 0.9648501785437045 (+/- 0.009609970350036127)\n"
     ]
    }
   ],
   "source": [
    "cross_val = cross_validate(\n",
    "    estimator=base_model,\n",
    "    X=cancer.data, y=cancer.target,\n",
    "    cv=5\n",
    ")\n",
    "print(\"avg fit time : {} (+/- {})\".format(cross_val[\"fit_time\"].mean(), cross_val[\"fit_time\"].std()))\n",
    "print(\"avg score time : {} (+/- {})\".format(cross_val[\"score_time\"].mean(), cross_val[\"score_time\"].std()))\n",
    "print(\"avg test score : {} (+/- {})\".format(cross_val[\"test_score\"].mean(), cross_val[\"test_score\"].std()))"
   ]
  },
  {
   "cell_type": "code",
   "execution_count": 13,
   "id": "1e378484",
   "metadata": {},
   "outputs": [
    {
     "name": "stdout",
     "output_type": "stream",
     "text": [
      "avg fit time : 0.007300901412963867 (+/- 0.00021901501823318612)\n",
      "avg score time : 0.0057353973388671875 (+/- 0.0002932895856927691)\n",
      "avg test score : 0.9525384257102936 (+/- 0.014288271344313564)\n"
     ]
    }
   ],
   "source": [
    "cross_val = cross_validate(\n",
    "    estimator=bagging_model,\n",
    "    X=cancer.data, y=cancer.target,\n",
    "    cv=5\n",
    ")\n",
    "print(\"avg fit time : {} (+/- {})\".format(cross_val[\"fit_time\"].mean(), cross_val[\"fit_time\"].std()))\n",
    "print(\"avg score time : {} (+/- {})\".format(cross_val[\"score_time\"].mean(), cross_val[\"score_time\"].std()))\n",
    "print(\"avg test score : {} (+/- {})\".format(cross_val[\"test_score\"].mean(), cross_val[\"test_score\"].std()))"
   ]
  },
  {
   "cell_type": "markdown",
   "id": "5d4078d3",
   "metadata": {},
   "source": [
    "#### SVC"
   ]
  },
  {
   "cell_type": "markdown",
   "id": "583aba45",
   "metadata": {},
   "source": [
    "##### 붓꽃 데이터"
   ]
  },
  {
   "cell_type": "code",
   "execution_count": 14,
   "id": "dfbeee7e",
   "metadata": {},
   "outputs": [],
   "source": [
    "base_model = make_pipeline(\n",
    "    StandardScaler(),\n",
    "    SVC()\n",
    ")\n",
    "\n",
    "bagging_model = BaggingClassifier(base_model, n_estimators=10, max_samples=0.5, max_features=0.5)"
   ]
  },
  {
   "cell_type": "code",
   "execution_count": 15,
   "id": "79e75852",
   "metadata": {},
   "outputs": [
    {
     "name": "stdout",
     "output_type": "stream",
     "text": [
      "avg fit time : 0.0006686687469482422 (+/- 6.926223454206165e-05)\n",
      "avg score time : 0.0002422332763671875 (+/- 5.692465138741933e-05)\n",
      "avg test score : 0.9666666666666666 (+/- 0.02108185106778919)\n"
     ]
    }
   ],
   "source": [
    "cross_val = cross_validate(\n",
    "    estimator=base_model,\n",
    "    X=iris.data, y=iris.target,\n",
    "    cv=5\n",
    ")\n",
    "print(\"avg fit time : {} (+/- {})\".format(cross_val[\"fit_time\"].mean(), cross_val[\"fit_time\"].std()))\n",
    "print(\"avg score time : {} (+/- {})\".format(cross_val[\"score_time\"].mean(), cross_val[\"score_time\"].std()))\n",
    "print(\"avg test score : {} (+/- {})\".format(cross_val[\"test_score\"].mean(), cross_val[\"test_score\"].std()))"
   ]
  },
  {
   "cell_type": "code",
   "execution_count": 16,
   "id": "8eca657f",
   "metadata": {},
   "outputs": [
    {
     "name": "stdout",
     "output_type": "stream",
     "text": [
      "avg fit time : 0.014164161682128907 (+/- 0.0010023886440558266)\n",
      "avg score time : 0.004321432113647461 (+/- 0.00015961297486033322)\n",
      "avg test score : 0.9683900015525537 (+/- 0.013095532590146609)\n"
     ]
    }
   ],
   "source": [
    "cross_val = cross_validate(\n",
    "    estimator=bagging_model,\n",
    "    X=cancer.data, y=cancer.target,\n",
    "    cv=5\n",
    ")\n",
    "print(\"avg fit time : {} (+/- {})\".format(cross_val[\"fit_time\"].mean(), cross_val[\"fit_time\"].std()))\n",
    "print(\"avg score time : {} (+/- {})\".format(cross_val[\"score_time\"].mean(), cross_val[\"score_time\"].std()))\n",
    "print(\"avg test score : {} (+/- {})\".format(cross_val[\"test_score\"].mean(), cross_val[\"test_score\"].std()))"
   ]
  },
  {
   "cell_type": "markdown",
   "id": "4bbab0f3",
   "metadata": {},
   "source": [
    "##### 와인 데이터"
   ]
  },
  {
   "cell_type": "code",
   "execution_count": 17,
   "id": "4d2c7834",
   "metadata": {},
   "outputs": [],
   "source": [
    "base_model = make_pipeline(\n",
    "    StandardScaler(),\n",
    "    SVC()\n",
    ")\n",
    "\n",
    "bagging_model = BaggingClassifier(base_model, n_estimators=10, max_samples=0.5, max_features=0.5)"
   ]
  },
  {
   "cell_type": "code",
   "execution_count": 18,
   "id": "19308511",
   "metadata": {},
   "outputs": [
    {
     "name": "stdout",
     "output_type": "stream",
     "text": [
      "avg fit time : 0.0007236003875732422 (+/- 0.00015621290101758268)\n",
      "avg score time : 0.00021920204162597656 (+/- 1.9899940592184178e-05)\n",
      "avg test score : 0.9833333333333334 (+/- 0.022222222222222233)\n"
     ]
    }
   ],
   "source": [
    "cross_val = cross_validate(\n",
    "    estimator=base_model,\n",
    "    X=wine.data, y=wine.target,\n",
    "    cv=5\n",
    ")\n",
    "print(\"avg fit time : {} (+/- {})\".format(cross_val[\"fit_time\"].mean(), cross_val[\"fit_time\"].std()))\n",
    "print(\"avg score time : {} (+/- {})\".format(cross_val[\"score_time\"].mean(), cross_val[\"score_time\"].std()))\n",
    "print(\"avg test score : {} (+/- {})\".format(cross_val[\"test_score\"].mean(), cross_val[\"test_score\"].std()))"
   ]
  },
  {
   "cell_type": "code",
   "execution_count": 19,
   "id": "9337aa13",
   "metadata": {},
   "outputs": [
    {
     "name": "stdout",
     "output_type": "stream",
     "text": [
      "avg fit time : 0.009865427017211914 (+/- 0.000788321282643619)\n",
      "avg score time : 0.0013907432556152343 (+/- 4.554765907331146e-05)\n",
      "avg test score : 0.9663492063492063 (+/- 0.0109581305359322)\n"
     ]
    }
   ],
   "source": [
    "cross_val = cross_validate(\n",
    "    estimator=bagging_model,\n",
    "    X=wine.data, y=wine.target,\n",
    "    cv=5\n",
    ")\n",
    "print(\"avg fit time : {} (+/- {})\".format(cross_val[\"fit_time\"].mean(), cross_val[\"fit_time\"].std()))\n",
    "print(\"avg score time : {} (+/- {})\".format(cross_val[\"score_time\"].mean(), cross_val[\"score_time\"].std()))\n",
    "print(\"avg test score : {} (+/- {})\".format(cross_val[\"test_score\"].mean(), cross_val[\"test_score\"].std()))"
   ]
  },
  {
   "cell_type": "markdown",
   "id": "cf5c32d6",
   "metadata": {},
   "source": [
    "##### 유방암 데이터"
   ]
  },
  {
   "cell_type": "code",
   "execution_count": 20,
   "id": "50af0569",
   "metadata": {},
   "outputs": [],
   "source": [
    "base_model = make_pipeline(\n",
    "    StandardScaler(),\n",
    "    SVC()\n",
    ")\n",
    "\n",
    "bagging_model = BaggingClassifier(base_model, n_estimators=10, max_samples=0.5, max_features=0.5)"
   ]
  },
  {
   "cell_type": "code",
   "execution_count": 21,
   "id": "593a2373",
   "metadata": {},
   "outputs": [
    {
     "name": "stdout",
     "output_type": "stream",
     "text": [
      "avg fit time : 0.001786041259765625 (+/- 6.804558139172527e-05)\n",
      "avg score time : 0.0006872177124023438 (+/- 1.9473179528705753e-05)\n",
      "avg test score : 0.9736376339077782 (+/- 0.014678541667933545)\n"
     ]
    }
   ],
   "source": [
    "cross_val = cross_validate(\n",
    "    estimator=base_model,\n",
    "    X=cancer.data, y=cancer.target,\n",
    "    cv=5\n",
    ")\n",
    "print(\"avg fit time : {} (+/- {})\".format(cross_val[\"fit_time\"].mean(), cross_val[\"fit_time\"].std()))\n",
    "print(\"avg score time : {} (+/- {})\".format(cross_val[\"score_time\"].mean(), cross_val[\"score_time\"].std()))\n",
    "print(\"avg test score : {} (+/- {})\".format(cross_val[\"test_score\"].mean(), cross_val[\"test_score\"].std()))"
   ]
  },
  {
   "cell_type": "code",
   "execution_count": 22,
   "id": "73a356e3",
   "metadata": {},
   "outputs": [
    {
     "name": "stdout",
     "output_type": "stream",
     "text": [
      "avg fit time : 0.013214826583862305 (+/- 0.0008849205725423934)\n",
      "avg score time : 0.004121065139770508 (+/- 0.00013052479827876817)\n",
      "avg test score : 0.9631113181183046 (+/- 0.012854302909333468)\n"
     ]
    }
   ],
   "source": [
    "cross_val = cross_validate(\n",
    "    estimator=bagging_model,\n",
    "    X=cancer.data, y=cancer.target,\n",
    "    cv=5\n",
    ")\n",
    "print(\"avg fit time : {} (+/- {})\".format(cross_val[\"fit_time\"].mean(), cross_val[\"fit_time\"].std()))\n",
    "print(\"avg score time : {} (+/- {})\".format(cross_val[\"score_time\"].mean(), cross_val[\"score_time\"].std()))\n",
    "print(\"avg test score : {} (+/- {})\".format(cross_val[\"test_score\"].mean(), cross_val[\"test_score\"].std()))"
   ]
  },
  {
   "cell_type": "markdown",
   "id": "f8cb90bb",
   "metadata": {},
   "source": [
    "#### Decision Tree"
   ]
  },
  {
   "cell_type": "markdown",
   "id": "da9d5bad",
   "metadata": {},
   "source": [
    "##### 붓꽃 데이터"
   ]
  },
  {
   "cell_type": "code",
   "execution_count": 23,
   "id": "0ebcf841",
   "metadata": {},
   "outputs": [],
   "source": [
    "base_model = make_pipeline(\n",
    "    StandardScaler(),\n",
    "    DecisionTreeClassifier()\n",
    ")\n",
    "\n",
    "bagging_model = BaggingClassifier(base_model, n_estimators=10, max_samples=0.5, max_features=0.5)"
   ]
  },
  {
   "cell_type": "code",
   "execution_count": 24,
   "id": "75818179",
   "metadata": {},
   "outputs": [
    {
     "name": "stdout",
     "output_type": "stream",
     "text": [
      "avg fit time : 0.00047121047973632815 (+/- 0.0002034875182943484)\n",
      "avg score time : 0.0001227855682373047 (+/- 2.5059596050348908e-05)\n",
      "avg test score : 0.9533333333333334 (+/- 0.03399346342395189)\n"
     ]
    }
   ],
   "source": [
    "cross_val = cross_validate(\n",
    "    estimator=base_model,\n",
    "    X=iris.data, y=iris.target,\n",
    "    cv=5\n",
    ")\n",
    "print(\"avg fit time : {} (+/- {})\".format(cross_val[\"fit_time\"].mean(), cross_val[\"fit_time\"].std()))\n",
    "print(\"avg score time : {} (+/- {})\".format(cross_val[\"score_time\"].mean(), cross_val[\"score_time\"].std()))\n",
    "print(\"avg test score : {} (+/- {})\".format(cross_val[\"test_score\"].mean(), cross_val[\"test_score\"].std()))"
   ]
  },
  {
   "cell_type": "code",
   "execution_count": 25,
   "id": "c7be50f6",
   "metadata": {},
   "outputs": [
    {
     "name": "stdout",
     "output_type": "stream",
     "text": [
      "avg fit time : 0.008451604843139648 (+/- 0.0008265875050249921)\n",
      "avg score time : 0.0006665706634521485 (+/- 4.834089411993571e-05)\n",
      "avg test score : 0.9466666666666667 (+/- 0.039999999999999994)\n"
     ]
    }
   ],
   "source": [
    "cross_val = cross_validate(\n",
    "    estimator=bagging_model,\n",
    "    X=iris.data, y=iris.target,\n",
    "    cv=5\n",
    ")\n",
    "print(\"avg fit time : {} (+/- {})\".format(cross_val[\"fit_time\"].mean(), cross_val[\"fit_time\"].std()))\n",
    "print(\"avg score time : {} (+/- {})\".format(cross_val[\"score_time\"].mean(), cross_val[\"score_time\"].std()))\n",
    "print(\"avg test score : {} (+/- {})\".format(cross_val[\"test_score\"].mean(), cross_val[\"test_score\"].std()))"
   ]
  },
  {
   "cell_type": "markdown",
   "id": "6087f5ed",
   "metadata": {},
   "source": [
    "##### 와인 데이터"
   ]
  },
  {
   "cell_type": "code",
   "execution_count": 26,
   "id": "3851d2cf",
   "metadata": {},
   "outputs": [],
   "source": [
    "base_model = make_pipeline(\n",
    "    StandardScaler(),\n",
    "    DecisionTreeClassifier()\n",
    ")\n",
    "\n",
    "bagging_model = BaggingClassifier(base_model, n_estimators=10, max_samples=0.5, max_features=0.5)"
   ]
  },
  {
   "cell_type": "code",
   "execution_count": 27,
   "id": "358860fc",
   "metadata": {},
   "outputs": [
    {
     "name": "stdout",
     "output_type": "stream",
     "text": [
      "avg fit time : 0.0008285999298095703 (+/- 0.00028468231041132774)\n",
      "avg score time : 0.00014429092407226564 (+/- 5.082766503293816e-05)\n",
      "avg test score : 0.8931746031746031 (+/- 0.04124419227384009)\n"
     ]
    }
   ],
   "source": [
    "cross_val = cross_validate(\n",
    "    estimator=base_model,\n",
    "    X=wine.data, y=wine.target,\n",
    "    cv=5\n",
    ")\n",
    "print(\"avg fit time : {} (+/- {})\".format(cross_val[\"fit_time\"].mean(), cross_val[\"fit_time\"].std()))\n",
    "print(\"avg score time : {} (+/- {})\".format(cross_val[\"score_time\"].mean(), cross_val[\"score_time\"].std()))\n",
    "print(\"avg test score : {} (+/- {})\".format(cross_val[\"test_score\"].mean(), cross_val[\"test_score\"].std()))"
   ]
  },
  {
   "cell_type": "code",
   "execution_count": 28,
   "id": "b3b20f77",
   "metadata": {},
   "outputs": [
    {
     "name": "stdout",
     "output_type": "stream",
     "text": [
      "avg fit time : 0.00904850959777832 (+/- 0.0007036101788182974)\n",
      "avg score time : 0.0007098674774169922 (+/- 3.565983258099155e-05)\n",
      "avg test score : 0.9719047619047618 (+/- 0.025205629512735514)\n"
     ]
    }
   ],
   "source": [
    "cross_val = cross_validate(\n",
    "    estimator=bagging_model,\n",
    "    X=wine.data, y=wine.target,\n",
    "    cv=5\n",
    ")\n",
    "print(\"avg fit time : {} (+/- {})\".format(cross_val[\"fit_time\"].mean(), cross_val[\"fit_time\"].std()))\n",
    "print(\"avg score time : {} (+/- {})\".format(cross_val[\"score_time\"].mean(), cross_val[\"score_time\"].std()))\n",
    "print(\"avg test score : {} (+/- {})\".format(cross_val[\"test_score\"].mean(), cross_val[\"test_score\"].std()))"
   ]
  },
  {
   "cell_type": "markdown",
   "id": "f9b58426",
   "metadata": {},
   "source": [
    "##### 유방암 데이터"
   ]
  },
  {
   "cell_type": "code",
   "execution_count": 29,
   "id": "07b30723",
   "metadata": {},
   "outputs": [],
   "source": [
    "base_model = make_pipeline(\n",
    "    StandardScaler(),\n",
    "    DecisionTreeClassifier()\n",
    ")\n",
    "\n",
    "bagging_model = BaggingClassifier(base_model, n_estimators=10, max_samples=0.5, max_features=0.5)"
   ]
  },
  {
   "cell_type": "code",
   "execution_count": 30,
   "id": "b28c6688",
   "metadata": {},
   "outputs": [
    {
     "name": "stdout",
     "output_type": "stream",
     "text": [
      "avg fit time : 0.0043830394744873045 (+/- 0.0003197114525325432)\n",
      "avg score time : 0.00024862289428710936 (+/- 7.571948862450151e-05)\n",
      "avg test score : 0.9156342182890856 (+/- 0.016305911758910666)\n"
     ]
    }
   ],
   "source": [
    "cross_val = cross_validate(\n",
    "    estimator=base_model,\n",
    "    X=cancer.data, y=cancer.target,\n",
    "    cv=5\n",
    ")\n",
    "print(\"avg fit time : {} (+/- {})\".format(cross_val[\"fit_time\"].mean(), cross_val[\"fit_time\"].std()))\n",
    "print(\"avg score time : {} (+/- {})\".format(cross_val[\"score_time\"].mean(), cross_val[\"score_time\"].std()))\n",
    "print(\"avg test score : {} (+/- {})\".format(cross_val[\"test_score\"].mean(), cross_val[\"test_score\"].std()))"
   ]
  },
  {
   "cell_type": "code",
   "execution_count": 31,
   "id": "9e9c371b",
   "metadata": {},
   "outputs": [
    {
     "name": "stdout",
     "output_type": "stream",
     "text": [
      "avg fit time : 0.014297819137573243 (+/- 0.0004687518962077317)\n",
      "avg score time : 0.0007755756378173828 (+/- 4.816527390711379e-05)\n",
      "avg test score : 0.9561092997981679 (+/- 0.01917587033296461)\n"
     ]
    }
   ],
   "source": [
    "cross_val = cross_validate(\n",
    "    estimator=bagging_model,\n",
    "    X=cancer.data, y=cancer.target,\n",
    "    cv=5\n",
    ")\n",
    "print(\"avg fit time : {} (+/- {})\".format(cross_val[\"fit_time\"].mean(), cross_val[\"fit_time\"].std()))\n",
    "print(\"avg score time : {} (+/- {})\".format(cross_val[\"score_time\"].mean(), cross_val[\"score_time\"].std()))\n",
    "print(\"avg test score : {} (+/- {})\".format(cross_val[\"test_score\"].mean(), cross_val[\"test_score\"].std()))"
   ]
  },
  {
   "cell_type": "markdown",
   "id": "5350ef92",
   "metadata": {},
   "source": [
    "### Bagging을 사용한 회귀"
   ]
  },
  {
   "cell_type": "markdown",
   "id": "576a375c",
   "metadata": {},
   "source": [
    "#### 데이터셋 불러오기"
   ]
  },
  {
   "cell_type": "code",
   "execution_count": 32,
   "id": "cb9d4a79",
   "metadata": {},
   "outputs": [],
   "source": [
    "boston = load_boston()\n",
    "diabetes = load_diabetes()"
   ]
  },
  {
   "cell_type": "markdown",
   "id": "95d2d418",
   "metadata": {},
   "source": [
    "#### KNN"
   ]
  },
  {
   "cell_type": "markdown",
   "id": "96b5c32f",
   "metadata": {},
   "source": [
    "##### 보스턴 주택 가격 데이터"
   ]
  },
  {
   "cell_type": "code",
   "execution_count": 33,
   "id": "6c09dc5b",
   "metadata": {},
   "outputs": [],
   "source": [
    "base_model = make_pipeline(\n",
    "    StandardScaler(),\n",
    "    KNeighborsRegressor()\n",
    ")\n",
    "\n",
    "bagging_model = BaggingRegressor(base_model, n_estimators=10, max_samples=0.5, max_features=0.5)"
   ]
  },
  {
   "cell_type": "code",
   "execution_count": 34,
   "id": "bc2500a1",
   "metadata": {},
   "outputs": [
    {
     "name": "stdout",
     "output_type": "stream",
     "text": [
      "avg fit time : 0.0005565166473388671 (+/- 0.00023149579225488858)\n",
      "avg score time : 0.0005901813507080078 (+/- 7.938624112159284e-05)\n",
      "avg test score : 0.47357748833823543 (+/- 0.13243123464477455)\n"
     ]
    }
   ],
   "source": [
    "cross_val = cross_validate(\n",
    "    estimator=base_model,\n",
    "    X=boston.data, y=boston.target,\n",
    "    cv=5\n",
    ")\n",
    "print(\"avg fit time : {} (+/- {})\".format(cross_val[\"fit_time\"].mean(), cross_val[\"fit_time\"].std()))\n",
    "print(\"avg score time : {} (+/- {})\".format(cross_val[\"score_time\"].mean(), cross_val[\"score_time\"].std()))\n",
    "print(\"avg test score : {} (+/- {})\".format(cross_val[\"test_score\"].mean(), cross_val[\"test_score\"].std()))"
   ]
  },
  {
   "cell_type": "code",
   "execution_count": 35,
   "id": "d5cf06f4",
   "metadata": {},
   "outputs": [
    {
     "name": "stdout",
     "output_type": "stream",
     "text": [
      "avg fit time : 0.006714153289794922 (+/- 0.0006308833553681515)\n",
      "avg score time : 0.003120279312133789 (+/- 0.0002152749780426422)\n",
      "avg test score : 0.43518511975342233 (+/- 0.13877613129585323)\n"
     ]
    }
   ],
   "source": [
    "cross_val = cross_validate(\n",
    "    estimator=bagging_model,\n",
    "    X=boston.data, y=boston.target,\n",
    "    cv=5\n",
    ")\n",
    "print(\"avg fit time : {} (+/- {})\".format(cross_val[\"fit_time\"].mean(), cross_val[\"fit_time\"].std()))\n",
    "print(\"avg score time : {} (+/- {})\".format(cross_val[\"score_time\"].mean(), cross_val[\"score_time\"].std()))\n",
    "print(\"avg test score : {} (+/- {})\".format(cross_val[\"test_score\"].mean(), cross_val[\"test_score\"].std()))"
   ]
  },
  {
   "cell_type": "markdown",
   "id": "2d20ec8f",
   "metadata": {},
   "source": [
    "##### 당뇨병 데이터"
   ]
  },
  {
   "cell_type": "code",
   "execution_count": 36,
   "id": "23e910ee",
   "metadata": {},
   "outputs": [],
   "source": [
    "base_model = make_pipeline(\n",
    "    StandardScaler(),\n",
    "    KNeighborsRegressor()\n",
    ")\n",
    "\n",
    "bagging_model = BaggingRegressor(base_model, n_estimators=10, max_samples=0.5, max_features=0.5)"
   ]
  },
  {
   "cell_type": "code",
   "execution_count": 37,
   "id": "ac42ce62",
   "metadata": {},
   "outputs": [
    {
     "name": "stdout",
     "output_type": "stream",
     "text": [
      "avg fit time : 0.0005021572113037109 (+/- 0.00020437473121349219)\n",
      "avg score time : 0.0005678653717041016 (+/- 6.0034044400074744e-05)\n",
      "avg test score : 0.3689720650295623 (+/- 0.044659049060165365)\n"
     ]
    }
   ],
   "source": [
    "cross_val = cross_validate(\n",
    "    estimator=base_model,\n",
    "    X=diabetes.data, y=diabetes.target,\n",
    "    cv=5\n",
    ")\n",
    "print(\"avg fit time : {} (+/- {})\".format(cross_val[\"fit_time\"].mean(), cross_val[\"fit_time\"].std()))\n",
    "print(\"avg score time : {} (+/- {})\".format(cross_val[\"score_time\"].mean(), cross_val[\"score_time\"].std()))\n",
    "print(\"avg test score : {} (+/- {})\".format(cross_val[\"test_score\"].mean(), cross_val[\"test_score\"].std()))"
   ]
  },
  {
   "cell_type": "code",
   "execution_count": 38,
   "id": "8910b04f",
   "metadata": {},
   "outputs": [
    {
     "name": "stdout",
     "output_type": "stream",
     "text": [
      "avg fit time : 0.006580638885498047 (+/- 0.000666380455753889)\n",
      "avg score time : 0.0029415607452392576 (+/- 0.0003247362364926281)\n",
      "avg test score : 0.39812529148876197 (+/- 0.05667482690236365)\n"
     ]
    }
   ],
   "source": [
    "cross_val = cross_validate(\n",
    "    estimator=bagging_model,\n",
    "    X=diabetes.data, y=diabetes.target,\n",
    "    cv=5\n",
    ")\n",
    "print(\"avg fit time : {} (+/- {})\".format(cross_val[\"fit_time\"].mean(), cross_val[\"fit_time\"].std()))\n",
    "print(\"avg score time : {} (+/- {})\".format(cross_val[\"score_time\"].mean(), cross_val[\"score_time\"].std()))\n",
    "print(\"avg test score : {} (+/- {})\".format(cross_val[\"test_score\"].mean(), cross_val[\"test_score\"].std()))"
   ]
  },
  {
   "cell_type": "markdown",
   "id": "d34c722f",
   "metadata": {},
   "source": [
    "#### SVR"
   ]
  },
  {
   "cell_type": "markdown",
   "id": "646ff86a",
   "metadata": {},
   "source": [
    "##### 보스턴 주택 가격 데이터"
   ]
  },
  {
   "cell_type": "code",
   "execution_count": 39,
   "id": "59d7ebe4",
   "metadata": {},
   "outputs": [],
   "source": [
    "base_model = make_pipeline(\n",
    "    StandardScaler(),\n",
    "    SVR()\n",
    ")\n",
    "\n",
    "bagging_model = BaggingRegressor(base_model, n_estimators=10, max_samples=0.5, max_features=0.5)"
   ]
  },
  {
   "cell_type": "code",
   "execution_count": 40,
   "id": "6f4422a6",
   "metadata": {},
   "outputs": [
    {
     "name": "stdout",
     "output_type": "stream",
     "text": [
      "avg fit time : 0.004419946670532226 (+/- 0.00031382020970657163)\n",
      "avg score time : 0.001684284210205078 (+/- 0.0001219822334873864)\n",
      "avg test score : 0.17631266230186604 (+/- 0.522491491512898)\n"
     ]
    }
   ],
   "source": [
    "cross_val = cross_validate(\n",
    "    estimator=base_model,\n",
    "    X=boston.data, y=boston.target,\n",
    "    cv=5\n",
    ")\n",
    "print(\"avg fit time : {} (+/- {})\".format(cross_val[\"fit_time\"].mean(), cross_val[\"fit_time\"].std()))\n",
    "print(\"avg score time : {} (+/- {})\".format(cross_val[\"score_time\"].mean(), cross_val[\"score_time\"].std()))\n",
    "print(\"avg test score : {} (+/- {})\".format(cross_val[\"test_score\"].mean(), cross_val[\"test_score\"].std()))"
   ]
  },
  {
   "cell_type": "code",
   "execution_count": 41,
   "id": "3357739b",
   "metadata": {},
   "outputs": [
    {
     "name": "stdout",
     "output_type": "stream",
     "text": [
      "avg fit time : 0.015502023696899413 (+/- 0.0007630075841523685)\n",
      "avg score time : 0.00754694938659668 (+/- 0.00022239091048969413)\n",
      "avg test score : 0.16315249350987646 (+/- 0.2718610367384817)\n"
     ]
    }
   ],
   "source": [
    "cross_val = cross_validate(\n",
    "    estimator=bagging_model,\n",
    "    X=boston.data, y=boston.target,\n",
    "    cv=5\n",
    ")\n",
    "print(\"avg fit time : {} (+/- {})\".format(cross_val[\"fit_time\"].mean(), cross_val[\"fit_time\"].std()))\n",
    "print(\"avg score time : {} (+/- {})\".format(cross_val[\"score_time\"].mean(), cross_val[\"score_time\"].std()))\n",
    "print(\"avg test score : {} (+/- {})\".format(cross_val[\"test_score\"].mean(), cross_val[\"test_score\"].std()))"
   ]
  },
  {
   "cell_type": "markdown",
   "id": "381f31ee",
   "metadata": {},
   "source": [
    "##### 당뇨병 데이터"
   ]
  },
  {
   "cell_type": "code",
   "execution_count": 42,
   "id": "3538827f",
   "metadata": {},
   "outputs": [],
   "source": [
    "base_model = make_pipeline(\n",
    "    StandardScaler(),\n",
    "    SVR()\n",
    ")\n",
    "\n",
    "bagging_model = BaggingRegressor(base_model, n_estimators=10, max_samples=0.5, max_features=0.5)"
   ]
  },
  {
   "cell_type": "code",
   "execution_count": 43,
   "id": "6369a603",
   "metadata": {},
   "outputs": [
    {
     "name": "stdout",
     "output_type": "stream",
     "text": [
      "avg fit time : 0.0030000686645507814 (+/- 0.0001665385023436923)\n",
      "avg score time : 0.0012916088104248046 (+/- 2.907596438789275e-05)\n",
      "avg test score : 0.14659936199629436 (+/- 0.02190798003342926)\n"
     ]
    }
   ],
   "source": [
    "cross_val = cross_validate(\n",
    "    estimator=base_model,\n",
    "    X=diabetes.data, y=diabetes.target,\n",
    "    cv=5\n",
    ")\n",
    "print(\"avg fit time : {} (+/- {})\".format(cross_val[\"fit_time\"].mean(), cross_val[\"fit_time\"].std()))\n",
    "print(\"avg score time : {} (+/- {})\".format(cross_val[\"score_time\"].mean(), cross_val[\"score_time\"].std()))\n",
    "print(\"avg test score : {} (+/- {})\".format(cross_val[\"test_score\"].mean(), cross_val[\"test_score\"].std()))"
   ]
  },
  {
   "cell_type": "code",
   "execution_count": 44,
   "id": "d0113c66",
   "metadata": {},
   "outputs": [
    {
     "name": "stdout",
     "output_type": "stream",
     "text": [
      "avg fit time : 0.012761974334716797 (+/- 0.0010151824642017178)\n",
      "avg score time : 0.006027841567993164 (+/- 0.00035970152163146066)\n",
      "avg test score : 0.05887479016846313 (+/- 0.0329541494181774)\n"
     ]
    }
   ],
   "source": [
    "cross_val = cross_validate(\n",
    "    estimator=bagging_model,\n",
    "    X=diabetes.data, y=diabetes.target,\n",
    "    cv=5\n",
    ")\n",
    "print(\"avg fit time : {} (+/- {})\".format(cross_val[\"fit_time\"].mean(), cross_val[\"fit_time\"].std()))\n",
    "print(\"avg score time : {} (+/- {})\".format(cross_val[\"score_time\"].mean(), cross_val[\"score_time\"].std()))\n",
    "print(\"avg test score : {} (+/- {})\".format(cross_val[\"test_score\"].mean(), cross_val[\"test_score\"].std()))"
   ]
  },
  {
   "cell_type": "markdown",
   "id": "e0dc6bed",
   "metadata": {},
   "source": [
    "#### Decision Tree"
   ]
  },
  {
   "cell_type": "markdown",
   "id": "3bc90373",
   "metadata": {},
   "source": [
    "##### 보스턴 주택 가격 데이터"
   ]
  },
  {
   "cell_type": "code",
   "execution_count": 45,
   "id": "17e7977b",
   "metadata": {},
   "outputs": [],
   "source": [
    "base_model = make_pipeline(\n",
    "    StandardScaler(),\n",
    "    DecisionTreeRegressor()\n",
    ")\n",
    "\n",
    "bagging_model = BaggingRegressor(base_model, n_estimators=10, max_samples=0.5, max_features=0.5)"
   ]
  },
  {
   "cell_type": "code",
   "execution_count": 46,
   "id": "5f05b401",
   "metadata": {},
   "outputs": [
    {
     "name": "stdout",
     "output_type": "stream",
     "text": [
      "avg fit time : 0.0020972251892089843 (+/- 0.00011076451979849733)\n",
      "avg score time : 0.00018868446350097656 (+/- 2.242584976686206e-05)\n",
      "avg test score : 0.06088218070142428 (+/- 0.9634988294421836)\n"
     ]
    }
   ],
   "source": [
    "cross_val = cross_validate(\n",
    "    estimator=base_model,\n",
    "    X=boston.data, y=boston.target,\n",
    "    cv=5\n",
    ")\n",
    "print(\"avg fit time : {} (+/- {})\".format(cross_val[\"fit_time\"].mean(), cross_val[\"fit_time\"].std()))\n",
    "print(\"avg score time : {} (+/- {})\".format(cross_val[\"score_time\"].mean(), cross_val[\"score_time\"].std()))\n",
    "print(\"avg test score : {} (+/- {})\".format(cross_val[\"test_score\"].mean(), cross_val[\"test_score\"].std()))"
   ]
  },
  {
   "cell_type": "code",
   "execution_count": 47,
   "id": "9ea2de1c",
   "metadata": {},
   "outputs": [
    {
     "name": "stdout",
     "output_type": "stream",
     "text": [
      "avg fit time : 0.01176142692565918 (+/- 0.000733760514435699)\n",
      "avg score time : 0.0007637977600097656 (+/- 8.52299702304354e-05)\n",
      "avg test score : 0.35759990248939155 (+/- 0.3456105549472444)\n"
     ]
    }
   ],
   "source": [
    "cross_val = cross_validate(\n",
    "    estimator=bagging_model,\n",
    "    X=boston.data, y=boston.target,\n",
    "    cv=5\n",
    ")\n",
    "print(\"avg fit time : {} (+/- {})\".format(cross_val[\"fit_time\"].mean(), cross_val[\"fit_time\"].std()))\n",
    "print(\"avg score time : {} (+/- {})\".format(cross_val[\"score_time\"].mean(), cross_val[\"score_time\"].std()))\n",
    "print(\"avg test score : {} (+/- {})\".format(cross_val[\"test_score\"].mean(), cross_val[\"test_score\"].std()))"
   ]
  },
  {
   "cell_type": "markdown",
   "id": "4a6a163a",
   "metadata": {},
   "source": [
    "##### 당뇨병 데이터"
   ]
  },
  {
   "cell_type": "code",
   "execution_count": 48,
   "id": "813b1da5",
   "metadata": {},
   "outputs": [],
   "source": [
    "base_model = make_pipeline(\n",
    "    StandardScaler(),\n",
    "    DecisionTreeRegressor()\n",
    ")\n",
    "\n",
    "bagging_model = BaggingRegressor(base_model, n_estimators=10, max_samples=0.5, max_features=0.5)"
   ]
  },
  {
   "cell_type": "code",
   "execution_count": 49,
   "id": "bec52452",
   "metadata": {},
   "outputs": [
    {
     "name": "stdout",
     "output_type": "stream",
     "text": [
      "avg fit time : 0.0015457630157470702 (+/- 0.0002703135806647185)\n",
      "avg score time : 0.00014467239379882811 (+/- 2.3317970860141725e-05)\n",
      "avg test score : -0.16304422383061304 (+/- 0.13194959049519764)\n"
     ]
    }
   ],
   "source": [
    "cross_val = cross_validate(\n",
    "    estimator=base_model,\n",
    "    X=diabetes.data, y=diabetes.target,\n",
    "    cv=5\n",
    ")\n",
    "print(\"avg fit time : {} (+/- {})\".format(cross_val[\"fit_time\"].mean(), cross_val[\"fit_time\"].std()))\n",
    "print(\"avg score time : {} (+/- {})\".format(cross_val[\"score_time\"].mean(), cross_val[\"score_time\"].std()))\n",
    "print(\"avg test score : {} (+/- {})\".format(cross_val[\"test_score\"].mean(), cross_val[\"test_score\"].std()))"
   ]
  },
  {
   "cell_type": "code",
   "execution_count": 50,
   "id": "2ae185eb",
   "metadata": {},
   "outputs": [
    {
     "name": "stdout",
     "output_type": "stream",
     "text": [
      "avg fit time : 0.01127171516418457 (+/- 0.0007518404897900106)\n",
      "avg score time : 0.0007656574249267578 (+/- 5.243921121861937e-05)\n",
      "avg test score : 0.36697569215336195 (+/- 0.061634968765828635)\n"
     ]
    }
   ],
   "source": [
    "cross_val = cross_validate(\n",
    "    estimator=bagging_model,\n",
    "    X=diabetes.data, y=diabetes.target,\n",
    "    cv=5\n",
    ")\n",
    "print(\"avg fit time : {} (+/- {})\".format(cross_val[\"fit_time\"].mean(), cross_val[\"fit_time\"].std()))\n",
    "print(\"avg score time : {} (+/- {})\".format(cross_val[\"score_time\"].mean(), cross_val[\"score_time\"].std()))\n",
    "print(\"avg test score : {} (+/- {})\".format(cross_val[\"test_score\"].mean(), cross_val[\"test_score\"].std()))"
   ]
  },
  {
   "cell_type": "markdown",
   "id": "7acc989a",
   "metadata": {},
   "source": [
    "## Forests of randomized trees\n",
    "\n",
    "* `sklearn.ensemble` 모듈에는 무작위 결정 트리를 기반으로하는 두 개의 평균화 알고리즘이 존재\n",
    "  * Random Forest\n",
    "  * Extra-Trees\n",
    "* 모델 구성에 임의성을 추가해 다양한 모델 집합이 생성\n",
    "* 앙상블 모델의 예측은 각 모델의 평균"
   ]
  },
  {
   "cell_type": "code",
   "execution_count": 51,
   "id": "e1e7fad0",
   "metadata": {},
   "outputs": [],
   "source": [
    "from sklearn.ensemble import  RandomForestClassifier, ExtraTreesClassifier\n",
    "from sklearn.ensemble import RandomForestRegressor, ExtraTreesRegressor"
   ]
  },
  {
   "cell_type": "markdown",
   "id": "141936ec",
   "metadata": {},
   "source": [
    "### Random Forests 분류"
   ]
  },
  {
   "cell_type": "code",
   "execution_count": 53,
   "id": "ef6fe8bc",
   "metadata": {},
   "outputs": [],
   "source": [
    "model = make_pipeline(\n",
    "    StandardScaler(),\n",
    "    RandomForestClassifier()\n",
    ")"
   ]
  },
  {
   "cell_type": "code",
   "execution_count": 54,
   "id": "795371c1",
   "metadata": {},
   "outputs": [
    {
     "name": "stdout",
     "output_type": "stream",
     "text": [
      "avg fit time : 0.047977542877197264 (+/- 0.014465430358617167)\n",
      "avg score time : 0.0028211593627929686 (+/- 0.00030507616563029197)\n",
      "avg test score : 0.96 (+/- 0.024944382578492935)\n"
     ]
    }
   ],
   "source": [
    "cross_val = cross_validate(\n",
    "    estimator=model,\n",
    "    X=iris.data, y=iris.target,\n",
    "    cv=5\n",
    ")\n",
    "print(\"avg fit time : {} (+/- {})\".format(cross_val[\"fit_time\"].mean(), cross_val[\"fit_time\"].std()))\n",
    "print(\"avg score time : {} (+/- {})\".format(cross_val[\"score_time\"].mean(), cross_val[\"score_time\"].std()))\n",
    "print(\"avg test score : {} (+/- {})\".format(cross_val[\"test_score\"].mean(), cross_val[\"test_score\"].std()))"
   ]
  },
  {
   "cell_type": "code",
   "execution_count": 55,
   "id": "d85932a2",
   "metadata": {},
   "outputs": [
    {
     "name": "stdout",
     "output_type": "stream",
     "text": [
      "avg fit time : 0.05122904777526856 (+/- 0.014915487252065828)\n",
      "avg score time : 0.002807331085205078 (+/- 0.0001998203393237627)\n",
      "avg test score : 0.9722222222222221 (+/- 0.024845199749997673)\n"
     ]
    }
   ],
   "source": [
    "cross_val = cross_validate(\n",
    "    estimator=model,\n",
    "    X=wine.data, y=wine.target,\n",
    "    cv=5\n",
    ")\n",
    "print(\"avg fit time : {} (+/- {})\".format(cross_val[\"fit_time\"].mean(), cross_val[\"fit_time\"].std()))\n",
    "print(\"avg score time : {} (+/- {})\".format(cross_val[\"score_time\"].mean(), cross_val[\"score_time\"].std()))\n",
    "print(\"avg test score : {} (+/- {})\".format(cross_val[\"test_score\"].mean(), cross_val[\"test_score\"].std()))"
   ]
  },
  {
   "cell_type": "code",
   "execution_count": 56,
   "id": "62621a2a",
   "metadata": {},
   "outputs": [
    {
     "name": "stdout",
     "output_type": "stream",
     "text": [
      "avg fit time : 0.08192882537841797 (+/- 0.014772090918003607)\n",
      "avg score time : 0.0029922962188720704 (+/- 3.574898771457391e-05)\n",
      "avg test score : 0.9631113181183046 (+/- 0.016980809987752244)\n"
     ]
    }
   ],
   "source": [
    "cross_val = cross_validate(\n",
    "    estimator=model,\n",
    "    X=cancer.data, y=cancer.target,\n",
    "    cv=5\n",
    ")\n",
    "print(\"avg fit time : {} (+/- {})\".format(cross_val[\"fit_time\"].mean(), cross_val[\"fit_time\"].std()))\n",
    "print(\"avg score time : {} (+/- {})\".format(cross_val[\"score_time\"].mean(), cross_val[\"score_time\"].std()))\n",
    "print(\"avg test score : {} (+/- {})\".format(cross_val[\"test_score\"].mean(), cross_val[\"test_score\"].std()))"
   ]
  },
  {
   "cell_type": "markdown",
   "id": "564f364e",
   "metadata": {},
   "source": [
    "### Random Forests 회귀"
   ]
  },
  {
   "cell_type": "code",
   "execution_count": 57,
   "id": "177b5938",
   "metadata": {},
   "outputs": [],
   "source": [
    "model = make_pipeline(\n",
    "    StandardScaler(),\n",
    "    RandomForestRegressor()\n",
    ")"
   ]
  },
  {
   "cell_type": "code",
   "execution_count": 58,
   "id": "3fc2e340",
   "metadata": {},
   "outputs": [
    {
     "name": "stdout",
     "output_type": "stream",
     "text": [
      "avg fit time : 0.13486533164978026 (+/- 0.014361157626596486)\n",
      "avg score time : 0.0029972553253173827 (+/- 7.891368284521293e-05)\n",
      "avg test score : 0.6410904530453099 (+/- 0.18862138819549162)\n"
     ]
    }
   ],
   "source": [
    "cross_val = cross_validate(\n",
    "    estimator=model,\n",
    "    X=boston.data, y=boston.target,\n",
    "    cv=5\n",
    ")\n",
    "print(\"avg fit time : {} (+/- {})\".format(cross_val[\"fit_time\"].mean(), cross_val[\"fit_time\"].std()))\n",
    "print(\"avg score time : {} (+/- {})\".format(cross_val[\"score_time\"].mean(), cross_val[\"score_time\"].std()))\n",
    "print(\"avg test score : {} (+/- {})\".format(cross_val[\"test_score\"].mean(), cross_val[\"test_score\"].std()))"
   ]
  },
  {
   "cell_type": "code",
   "execution_count": 59,
   "id": "835b5528",
   "metadata": {},
   "outputs": [
    {
     "name": "stdout",
     "output_type": "stream",
     "text": [
      "avg fit time : 0.1100389003753662 (+/- 0.016299597259225997)\n",
      "avg score time : 0.003046560287475586 (+/- 6.604296204925585e-05)\n",
      "avg test score : 0.42252838378524393 (+/- 0.04449039780492468)\n"
     ]
    }
   ],
   "source": [
    "cross_val = cross_validate(\n",
    "    estimator=model,\n",
    "    X=diabetes.data, y=diabetes.target,\n",
    "    cv=5\n",
    ")\n",
    "print(\"avg fit time : {} (+/- {})\".format(cross_val[\"fit_time\"].mean(), cross_val[\"fit_time\"].std()))\n",
    "print(\"avg score time : {} (+/- {})\".format(cross_val[\"score_time\"].mean(), cross_val[\"score_time\"].std()))\n",
    "print(\"avg test score : {} (+/- {})\".format(cross_val[\"test_score\"].mean(), cross_val[\"test_score\"].std()))"
   ]
  },
  {
   "cell_type": "markdown",
   "id": "550af421",
   "metadata": {},
   "source": [
    "### Extremely Randomized Trees 분류"
   ]
  },
  {
   "cell_type": "code",
   "execution_count": 60,
   "id": "29ca4d75",
   "metadata": {},
   "outputs": [],
   "source": [
    "model = make_pipeline(\n",
    "    StandardScaler(),\n",
    "    ExtraTreesClassifier()\n",
    ")"
   ]
  },
  {
   "cell_type": "code",
   "execution_count": 61,
   "id": "9426f98a",
   "metadata": {},
   "outputs": [
    {
     "name": "stdout",
     "output_type": "stream",
     "text": [
      "avg fit time : 0.03599681854248047 (+/- 0.010491353548725378)\n",
      "avg score time : 0.003101968765258789 (+/- 0.0007634931670967673)\n",
      "avg test score : 0.9533333333333334 (+/- 0.03399346342395189)\n"
     ]
    }
   ],
   "source": [
    "cross_val = cross_validate(\n",
    "    estimator=model,\n",
    "    X=iris.data, y=iris.target,\n",
    "    cv=5\n",
    ")\n",
    "print(\"avg fit time : {} (+/- {})\".format(cross_val[\"fit_time\"].mean(), cross_val[\"fit_time\"].std()))\n",
    "print(\"avg score time : {} (+/- {})\".format(cross_val[\"score_time\"].mean(), cross_val[\"score_time\"].std()))\n",
    "print(\"avg test score : {} (+/- {})\".format(cross_val[\"test_score\"].mean(), cross_val[\"test_score\"].std()))"
   ]
  },
  {
   "cell_type": "code",
   "execution_count": 62,
   "id": "9ee056b7",
   "metadata": {},
   "outputs": [
    {
     "name": "stdout",
     "output_type": "stream",
     "text": [
      "avg fit time : 0.03984112739562988 (+/- 0.015448794225838504)\n",
      "avg score time : 0.0030402660369873045 (+/- 0.0004390216539167838)\n",
      "avg test score : 0.9887301587301588 (+/- 0.01380496184454534)\n"
     ]
    }
   ],
   "source": [
    "cross_val = cross_validate(\n",
    "    estimator=model,\n",
    "    X=wine.data, y=wine.target,\n",
    "    cv=5\n",
    ")\n",
    "print(\"avg fit time : {} (+/- {})\".format(cross_val[\"fit_time\"].mean(), cross_val[\"fit_time\"].std()))\n",
    "print(\"avg score time : {} (+/- {})\".format(cross_val[\"score_time\"].mean(), cross_val[\"score_time\"].std()))\n",
    "print(\"avg test score : {} (+/- {})\".format(cross_val[\"test_score\"].mean(), cross_val[\"test_score\"].std()))"
   ]
  },
  {
   "cell_type": "code",
   "execution_count": 63,
   "id": "5a761f6f",
   "metadata": {},
   "outputs": [
    {
     "name": "stdout",
     "output_type": "stream",
     "text": [
      "avg fit time : 0.04911584854125976 (+/- 0.015422956629339244)\n",
      "avg score time : 0.0034227848052978517 (+/- 0.00022860432729215817)\n",
      "avg test score : 0.9631113181183046 (+/- 0.012854302909333468)\n"
     ]
    }
   ],
   "source": [
    "cross_val = cross_validate(\n",
    "    estimator=model,\n",
    "    X=cancer.data, y=cancer.target,\n",
    "    cv=5\n",
    ")\n",
    "print(\"avg fit time : {} (+/- {})\".format(cross_val[\"fit_time\"].mean(), cross_val[\"fit_time\"].std()))\n",
    "print(\"avg score time : {} (+/- {})\".format(cross_val[\"score_time\"].mean(), cross_val[\"score_time\"].std()))\n",
    "print(\"avg test score : {} (+/- {})\".format(cross_val[\"test_score\"].mean(), cross_val[\"test_score\"].std()))"
   ]
  },
  {
   "cell_type": "markdown",
   "id": "dcf17aae",
   "metadata": {},
   "source": [
    "### Extremely Randomized Trees 회귀"
   ]
  },
  {
   "cell_type": "code",
   "execution_count": 64,
   "id": "997b77d9",
   "metadata": {},
   "outputs": [],
   "source": [
    "model = make_pipeline(\n",
    "    StandardScaler(),\n",
    "    ExtraTreesRegressor()\n",
    ")"
   ]
  },
  {
   "cell_type": "code",
   "execution_count": 65,
   "id": "cfc8843a",
   "metadata": {},
   "outputs": [
    {
     "name": "stdout",
     "output_type": "stream",
     "text": [
      "avg fit time : 0.08663740158081054 (+/- 0.015136842624858983)\n",
      "avg score time : 0.0030996322631835936 (+/- 0.0001414314927148554)\n",
      "avg test score : 0.6115234154057957 (+/- 0.2821589362270394)\n"
     ]
    }
   ],
   "source": [
    "cross_val = cross_validate(\n",
    "    estimator=model,\n",
    "    X=boston.data, y=boston.target,\n",
    "    cv=5\n",
    ")\n",
    "print(\"avg fit time : {} (+/- {})\".format(cross_val[\"fit_time\"].mean(), cross_val[\"fit_time\"].std()))\n",
    "print(\"avg score time : {} (+/- {})\".format(cross_val[\"score_time\"].mean(), cross_val[\"score_time\"].std()))\n",
    "print(\"avg test score : {} (+/- {})\".format(cross_val[\"test_score\"].mean(), cross_val[\"test_score\"].std()))"
   ]
  },
  {
   "cell_type": "code",
   "execution_count": 66,
   "id": "63eaa100",
   "metadata": {},
   "outputs": [
    {
     "name": "stdout",
     "output_type": "stream",
     "text": [
      "avg fit time : 0.08778672218322754 (+/- 0.015472570230166993)\n",
      "avg score time : 0.0031902313232421873 (+/- 0.00012609736636611532)\n",
      "avg test score : 0.6270666419399543 (+/- 0.23882973340702968)\n"
     ]
    }
   ],
   "source": [
    "cross_val = cross_validate(\n",
    "    estimator=model,\n",
    "    X=boston.data, y=boston.target,\n",
    "    cv=5\n",
    ")\n",
    "print(\"avg fit time : {} (+/- {})\".format(cross_val[\"fit_time\"].mean(), cross_val[\"fit_time\"].std()))\n",
    "print(\"avg score time : {} (+/- {})\".format(cross_val[\"score_time\"].mean(), cross_val[\"score_time\"].std()))\n",
    "print(\"avg test score : {} (+/- {})\".format(cross_val[\"test_score\"].mean(), cross_val[\"test_score\"].std()))"
   ]
  },
  {
   "cell_type": "code",
   "execution_count": 67,
   "id": "f4770fef",
   "metadata": {},
   "outputs": [
    {
     "name": "stdout",
     "output_type": "stream",
     "text": [
      "avg fit time : 0.07547516822814941 (+/- 0.01626175563608426)\n",
      "avg score time : 0.0033311843872070312 (+/- 0.00012917508934639772)\n",
      "avg test score : 0.4347361522866587 (+/- 0.02496664862245082)\n"
     ]
    }
   ],
   "source": [
    "cross_val = cross_validate(\n",
    "    estimator=model,\n",
    "    X=diabetes.data, y=diabetes.target,\n",
    "    cv=5\n",
    ")\n",
    "print(\"avg fit time : {} (+/- {})\".format(cross_val[\"fit_time\"].mean(), cross_val[\"fit_time\"].std()))\n",
    "print(\"avg score time : {} (+/- {})\".format(cross_val[\"score_time\"].mean(), cross_val[\"score_time\"].std()))\n",
    "print(\"avg test score : {} (+/- {})\".format(cross_val[\"test_score\"].mean(), cross_val[\"test_score\"].std()))"
   ]
  },
  {
   "cell_type": "markdown",
   "id": "4eec3dd0",
   "metadata": {},
   "source": [
    "### Random Forest, Extra Tree 시각화\n",
    "\n",
    "* 결정 트리, Random Forest, Extra Tree의 결정 경계와 회귀식 시각화"
   ]
  },
  {
   "cell_type": "code",
   "execution_count": 75,
   "id": "892c5c3f",
   "metadata": {},
   "outputs": [],
   "source": [
    "import numpy as np\n",
    "import matplotlib.pyplot as plt\n",
    "plt.style.use([\"seaborn-whitegrid\"])\n",
    "from matplotlib.colors import ListedColormap\n",
    "from sklearn.tree import DecisionTreeClassifier"
   ]
  },
  {
   "cell_type": "code",
   "execution_count": 76,
   "id": "c9de0e6d",
   "metadata": {},
   "outputs": [],
   "source": [
    "n_classes = 3\n",
    "n_estimators = 30\n",
    "cmap = plt.cm.RdYlBu\n",
    "plot_step = 0.02\n",
    "plot_step_coarser = 0.5\n",
    "RANDOM_SEED = 13"
   ]
  },
  {
   "cell_type": "code",
   "execution_count": 104,
   "id": "69938aba",
   "metadata": {},
   "outputs": [],
   "source": [
    "iris = load_iris()\n",
    "plot_idx = 1\n",
    "models = [\n",
    "    DecisionTreeClassifier(max_depth=None),\n",
    "    RandomForestClassifier(n_estimators=n_estimators),\n",
    "    ExtraTreesClassifier(n_estimators=n_estimators)\n",
    "]"
   ]
  },
  {
   "cell_type": "code",
   "execution_count": 105,
   "id": "fa23edbb",
   "metadata": {},
   "outputs": [
    {
     "data": {
      "image/png": "[encoded data removed]",
      "text/plain": [
       "<Figure size 1152x576 with 9 Axes>"
      ]
     },
     "metadata": {},
     "output_type": "display_data"
    }
   ],
   "source": [
    "plt.figure(figsize=(16, 8))\n",
    "\n",
    "for pair in ([0, 1], [0, 2], [2, 3]):\n",
    "    \n",
    "    for model in models:\n",
    "        \n",
    "        X = iris.data[:, pair]\n",
    "        y = iris.target\n",
    "        \n",
    "        idx = np.arange(X.shape[0])\n",
    "        np.random.seed(RANDOM_SEED)\n",
    "        np.random.shuffle(idx)\n",
    "        X = X[idx]\n",
    "        y = y[idx]\n",
    "        \n",
    "        mean = X.mean(axis=0)\n",
    "        std = X.std(axis=0)\n",
    "        X = (X - mean) / std\n",
    "        \n",
    "        model.fit(X, y)\n",
    "        \n",
    "        model_title = str(type(model)).split(\".\")[-1][:-2][:-len(\"Classifier\")]\n",
    "        \n",
    "        plt.subplot(3, 3, plot_idx)\n",
    "        if plot_idx <= len(models):\n",
    "            plt.title(model_title, fontsize=9)\n",
    "        \n",
    "        x_min, x_max = X[:, 0].min() - 1, X[:, 0].max() + 1\n",
    "        y_min, y_max = X[:, 1].min() - 1, X[:, 1].max() + 1\n",
    "        xx, yy = np.meshgrid(\n",
    "            np.arange(x_min, x_max, plot_step),\n",
    "            np.arange(y_min, y_max, plot_step))\n",
    "        \n",
    "        if isinstance(model, DecisionTreeClassifier):\n",
    "            Z = model.predict(np.c_[xx.ravel(), yy.ravel()])\n",
    "            Z = Z.reshape(xx.shape)\n",
    "            cs = plt.contourf(xx, yy, Z, cmap=cmap)\n",
    "        else:\n",
    "            estimator_alpha = 1.0 / len(model.estimators_)\n",
    "            for tree in model.estimators_:\n",
    "                Z = model.predict(np.c_[xx.ravel(), yy.ravel()])\n",
    "                Z = Z.reshape(xx.shape)\n",
    "                cs = plt.contourf(xx, yy, Z, alpha=estimator_alpha, cmap=cmap)\n",
    "        \n",
    "        xx_coarser, yy_coarser = np.meshgrid(\n",
    "            np.arange(x_min, x_max, plot_step_coarser),\n",
    "            np.arange(y_min, y_max, plot_step_coarser)\n",
    "        )\n",
    "\n",
    "        Z_points_coarser = model.predict(np.c_[\n",
    "            xx_coarser.ravel(),\n",
    "            yy_coarser.ravel()\n",
    "        ]).reshape(xx_coarser.shape)\n",
    "\n",
    "        cs_points = plt.scatter(\n",
    "            xx_coarser, yy_coarser, s=15,\n",
    "            c=Z_points_coarser, cmap=cmap,\n",
    "            edgecolors=None\n",
    "        )\n",
    "\n",
    "        plt.scatter(\n",
    "            X[:, 0], X[:, 1], c=y,\n",
    "            cmap=ListedColormap([\"r\", \"y\", \"b\"]),\n",
    "            edgecolors=\"k\", s=20)\n",
    "        plot_idx += 1\n",
    "\n",
    "plt.suptitle(\"Classifiers\", fontsize=12)\n",
    "plt.axis(\"tight\")\n",
    "plt.tight_layout(h_pad=0.2, w_pad=0.2, pad=2.5)\n",
    "plt.show()"
   ]
  },
  {
   "cell_type": "code",
   "execution_count": 120,
   "id": "2cce75d4",
   "metadata": {},
   "outputs": [],
   "source": [
    "plot_idx = 1\n",
    "models = [\n",
    "    DecisionTreeRegressor(max_depth=None),\n",
    "    RandomForestRegressor(n_estimators=n_estimators),\n",
    "    ExtraTreesRegressor(n_estimators=n_estimators)\n",
    "]"
   ]
  },
  {
   "cell_type": "code",
   "execution_count": 121,
   "id": "b1c0e882",
   "metadata": {},
   "outputs": [
    {
     "data": {
      "image/png": "[encoded data removed]",
      "text/plain": [
       "<Figure size 1152x576 with 9 Axes>"
      ]
     },
     "metadata": {},
     "output_type": "display_data"
    }
   ],
   "source": [
    "plt.figure(figsize=(16, 8))\n",
    "\n",
    "for pair in (0, 1, 2):\n",
    "    \n",
    "    for model in models:\n",
    "        \n",
    "        X = boston.data[:, pair]\n",
    "        y = boston.target\n",
    "        \n",
    "        idx = np.arange(X.shape[0])\n",
    "        np.random.seed(RANDOM_SEED)\n",
    "        np.random.shuffle(idx)\n",
    "        X = X[idx]\n",
    "        y = y[idx]\n",
    "        \n",
    "        mean = X.mean(axis=0)\n",
    "        std = X.std(axis=0)\n",
    "        X = (X - mean) / std\n",
    "        \n",
    "        model.fit(X.reshape(-1, 1), y)\n",
    "        \n",
    "        model_title = str(type(model)).split(\".\")[-1][:-2][:-len(\"Regressor\")]\n",
    "        \n",
    "        plt.subplot(3, 3, plot_idx)\n",
    "        if plot_idx <= len(models):\n",
    "            plt.title(model_title, fontsize=9)\n",
    "        \n",
    "        x_min, x_max = X.min() - 1, X.max() + 1\n",
    "        y_min, y_max = y.min() - 1, y.max() + 1\n",
    "        xx, yy = np.arange(x_min - 1, x_max + 1, plot_step), np.arange(y_min - 1 , y_max + 1, plot_step)\n",
    "        \n",
    "        if isinstance(model, DecisionTreeRegressor):\n",
    "            Z = model.predict(xx.reshape(-1, 1))\n",
    "            cs = plt.plot(xx, Z)\n",
    "        else:\n",
    "            estimator_alpha = 1.0 / len(model.estimators_)\n",
    "            for tree in model.estimators_:\n",
    "                Z = tree.predict(xx.reshape(-1, 1))\n",
    "                cs = plt.plot(xx, Z, alpha=estimator_alpha)\n",
    "        \n",
    "        plt.scatter(X, y, edgecolors=\"k\", s=20)\n",
    "        plot_idx += 1\n",
    "\n",
    "plt.suptitle(\"Regressor\", fontsize=12)\n",
    "plt.axis(\"tight\")\n",
    "plt.tight_layout(h_pad=0.2, w_pad=0.2, pad=2.5)\n",
    "plt.show()"
   ]
  },
  {
   "cell_type": "markdown",
   "id": "01d8dd1e",
   "metadata": {},
   "source": [
    "## AdaBoost(54분29초)\n",
    "\n",
    "* 대표적인 부스팅 알고리즘\n",
    "* 일련의 약한 모델들을 학습\n",
    "* 수정된 버전의 데이터를 반복 학습 (가중치가 적용된)\n",
    "* 가중치 투표(또는 합)을 통해 각 모델의 예측 값을 결합\n",
    "* 첫 단계에서는 원본 데이터를 학습하고 연속적인 반복마다 개별 샘플에 대한 가중치가 수정되고 다시 모델이 학습\n",
    "  * 잘못 예측된 샘플은 가중치 증가, 올바르게 예측된 샘플은 가중치 감소\n",
    "  * 각각의 약한 모델들은 예측하기 어려운 샘플에 집중하게 됨\n",
    "\n",
    "![AdaBoost](https://scikit-learn.org/stable/_images/sphx_glr_plot_adaboost_hastie_10_2_0011.png)"
   ]
  },
  {
   "cell_type": "code",
   "execution_count": null,
   "id": "0a7bf42d",
   "metadata": {},
   "outputs": [],
   "source": []
  },
  {
   "cell_type": "markdown",
   "id": "2f073922",
   "metadata": {},
   "source": [
    "### AdaBoost 분류"
   ]
  },
  {
   "cell_type": "code",
   "execution_count": null,
   "id": "009eb6ec",
   "metadata": {},
   "outputs": [],
   "source": []
  },
  {
   "cell_type": "code",
   "execution_count": null,
   "id": "78411efb",
   "metadata": {},
   "outputs": [],
   "source": []
  },
  {
   "cell_type": "code",
   "execution_count": null,
   "id": "8662dd13",
   "metadata": {},
   "outputs": [],
   "source": []
  },
  {
   "cell_type": "code",
   "execution_count": null,
   "id": "2d10283a",
   "metadata": {},
   "outputs": [],
   "source": []
  },
  {
   "cell_type": "markdown",
   "id": "a60d31ab",
   "metadata": {},
   "source": [
    "### AdaBoost 회귀"
   ]
  },
  {
   "cell_type": "code",
   "execution_count": null,
   "id": "7baf516e",
   "metadata": {},
   "outputs": [],
   "source": []
  },
  {
   "cell_type": "code",
   "execution_count": null,
   "id": "6db5d4c8",
   "metadata": {},
   "outputs": [],
   "source": []
  },
  {
   "cell_type": "code",
   "execution_count": null,
   "id": "9c51559d",
   "metadata": {},
   "outputs": [],
   "source": []
  },
  {
   "cell_type": "markdown",
   "id": "fca5d7b3",
   "metadata": {},
   "source": [
    "## Gradient Tree Boosting\n",
    "\n",
    "* 임의의 차별화 가능한 손실함수로 일반화한 부스팅 알고리즘\n",
    "* 웹 검색, 분류 및 회귀 등 다양한 분야에서 모두 사용 가능"
   ]
  },
  {
   "cell_type": "code",
   "execution_count": null,
   "id": "4387d53c",
   "metadata": {},
   "outputs": [],
   "source": []
  },
  {
   "cell_type": "markdown",
   "id": "a5f434be",
   "metadata": {},
   "source": [
    "### Gradient Tree Boosting 분류"
   ]
  },
  {
   "cell_type": "code",
   "execution_count": null,
   "id": "0ba622b0",
   "metadata": {},
   "outputs": [],
   "source": []
  },
  {
   "cell_type": "code",
   "execution_count": null,
   "id": "7565ef77",
   "metadata": {},
   "outputs": [],
   "source": []
  },
  {
   "cell_type": "code",
   "execution_count": null,
   "id": "30219ac1",
   "metadata": {},
   "outputs": [],
   "source": []
  },
  {
   "cell_type": "code",
   "execution_count": null,
   "id": "8e321fde",
   "metadata": {},
   "outputs": [],
   "source": []
  },
  {
   "cell_type": "markdown",
   "id": "0e5e1d61",
   "metadata": {},
   "source": [
    "### Gradient Tree Boosting 회귀"
   ]
  },
  {
   "cell_type": "code",
   "execution_count": null,
   "id": "0b3197e1",
   "metadata": {},
   "outputs": [],
   "source": []
  },
  {
   "cell_type": "code",
   "execution_count": null,
   "id": "4ebed84a",
   "metadata": {},
   "outputs": [],
   "source": []
  },
  {
   "cell_type": "code",
   "execution_count": null,
   "id": "306f4e69",
   "metadata": {},
   "outputs": [],
   "source": []
  },
  {
   "cell_type": "markdown",
   "id": "9353319e",
   "metadata": {},
   "source": [
    "## 투표 기반 분류 (Voting Classifier)\n",
    "\n",
    "* 서로 다른 모델들의 결과를 투표를 통해 결합\n",
    "* 두가지 방법으로 투표 가능\n",
    "  * 가장 많이 예측된 클래스를 정답으로 채택 (hard voting)\n",
    "  * 예측된 확률의 가중치 평균 (soft voting)"
   ]
  },
  {
   "cell_type": "code",
   "execution_count": null,
   "id": "39c45648",
   "metadata": {},
   "outputs": [],
   "source": []
  },
  {
   "cell_type": "code",
   "execution_count": null,
   "id": "017fdb2c",
   "metadata": {},
   "outputs": [],
   "source": []
  },
  {
   "cell_type": "code",
   "execution_count": null,
   "id": "b9d5c052",
   "metadata": {},
   "outputs": [],
   "source": []
  },
  {
   "cell_type": "code",
   "execution_count": null,
   "id": "36dc5aea",
   "metadata": {},
   "outputs": [],
   "source": []
  },
  {
   "cell_type": "code",
   "execution_count": null,
   "id": "04a92afc",
   "metadata": {},
   "outputs": [],
   "source": []
  },
  {
   "cell_type": "markdown",
   "id": "3f6e04fd",
   "metadata": {},
   "source": [
    "### 결정 경계 시각화"
   ]
  },
  {
   "cell_type": "code",
   "execution_count": null,
   "id": "a0098f19",
   "metadata": {},
   "outputs": [],
   "source": []
  },
  {
   "cell_type": "code",
   "execution_count": null,
   "id": "55f0266e",
   "metadata": {},
   "outputs": [],
   "source": []
  },
  {
   "cell_type": "code",
   "execution_count": null,
   "id": "a142bbfb",
   "metadata": {},
   "outputs": [],
   "source": []
  },
  {
   "cell_type": "code",
   "execution_count": null,
   "id": "aa23aa4f",
   "metadata": {},
   "outputs": [],
   "source": []
  },
  {
   "cell_type": "code",
   "execution_count": null,
   "id": "f06f3928",
   "metadata": {},
   "outputs": [],
   "source": []
  },
  {
   "cell_type": "markdown",
   "id": "cafe8a14",
   "metadata": {},
   "source": [
    "## 투표 기반 회귀 (Voting Regressor)\n",
    "\n",
    "* 서로 다른 모델의 예측 값의 평균을 사용"
   ]
  },
  {
   "cell_type": "code",
   "execution_count": null,
   "id": "4ce97536",
   "metadata": {},
   "outputs": [],
   "source": []
  },
  {
   "cell_type": "code",
   "execution_count": null,
   "id": "efe1ae19",
   "metadata": {},
   "outputs": [],
   "source": []
  },
  {
   "cell_type": "code",
   "execution_count": null,
   "id": "25fa329b",
   "metadata": {},
   "outputs": [],
   "source": []
  },
  {
   "cell_type": "markdown",
   "id": "e25f4ab2",
   "metadata": {},
   "source": [
    "### 회귀식 시각화"
   ]
  },
  {
   "cell_type": "code",
   "execution_count": null,
   "id": "d7c6d18b",
   "metadata": {},
   "outputs": [],
   "source": []
  },
  {
   "cell_type": "code",
   "execution_count": null,
   "id": "1b138a9f",
   "metadata": {},
   "outputs": [],
   "source": []
  },
  {
   "cell_type": "code",
   "execution_count": null,
   "id": "8d4782c8",
   "metadata": {},
   "outputs": [],
   "source": []
  },
  {
   "cell_type": "code",
   "execution_count": null,
   "id": "3c37f682",
   "metadata": {},
   "outputs": [],
   "source": []
  },
  {
   "cell_type": "markdown",
   "id": "47adefc1",
   "metadata": {},
   "source": [
    "## 스택 일반화 (Stacked Generalization)\n",
    "\n",
    "* 각 모델의 예측 값을 최종 모델의 입력으로 사용\n",
    "* 모델의 편향을 줄이는데 효과적"
   ]
  },
  {
   "cell_type": "markdown",
   "id": "1b0d6b55",
   "metadata": {},
   "source": [
    "### 스택 회귀"
   ]
  },
  {
   "cell_type": "code",
   "execution_count": null,
   "id": "f76f9fdd",
   "metadata": {},
   "outputs": [],
   "source": []
  },
  {
   "cell_type": "code",
   "execution_count": null,
   "id": "3554996b",
   "metadata": {},
   "outputs": [],
   "source": []
  },
  {
   "cell_type": "code",
   "execution_count": null,
   "id": "aae3ec69",
   "metadata": {},
   "outputs": [],
   "source": []
  },
  {
   "cell_type": "code",
   "execution_count": null,
   "id": "70b8b5e9",
   "metadata": {},
   "outputs": [],
   "source": []
  },
  {
   "cell_type": "markdown",
   "id": "16cc6fc0",
   "metadata": {},
   "source": [
    "#### 회귀식 시각화"
   ]
  },
  {
   "cell_type": "code",
   "execution_count": null,
   "id": "1ca2e160",
   "metadata": {},
   "outputs": [],
   "source": []
  },
  {
   "cell_type": "code",
   "execution_count": null,
   "id": "253a9069",
   "metadata": {},
   "outputs": [],
   "source": []
  },
  {
   "cell_type": "code",
   "execution_count": null,
   "id": "87681a59",
   "metadata": {},
   "outputs": [],
   "source": []
  },
  {
   "cell_type": "markdown",
   "id": "c0797cd0",
   "metadata": {},
   "source": [
    "### 스택 분류"
   ]
  },
  {
   "cell_type": "code",
   "execution_count": null,
   "id": "d5099e2f",
   "metadata": {},
   "outputs": [],
   "source": []
  },
  {
   "cell_type": "code",
   "execution_count": null,
   "id": "43848dc5",
   "metadata": {},
   "outputs": [],
   "source": []
  },
  {
   "cell_type": "code",
   "execution_count": null,
   "id": "01cedc49",
   "metadata": {},
   "outputs": [],
   "source": []
  },
  {
   "cell_type": "code",
   "execution_count": null,
   "id": "5391da67",
   "metadata": {},
   "outputs": [],
   "source": []
  },
  {
   "cell_type": "markdown",
   "id": "0de7e878",
   "metadata": {},
   "source": [
    "#### 결정 경계 시각화"
   ]
  },
  {
   "cell_type": "code",
   "execution_count": null,
   "id": "42ab744b",
   "metadata": {},
   "outputs": [],
   "source": []
  },
  {
   "cell_type": "code",
   "execution_count": null,
   "id": "51a7408b",
   "metadata": {},
   "outputs": [],
   "source": []
  },
  {
   "cell_type": "code",
   "execution_count": null,
   "id": "8887fd23",
   "metadata": {},
   "outputs": [],
   "source": []
  },
  {
   "cell_type": "code",
   "execution_count": null,
   "id": "a1bcff6d",
   "metadata": {},
   "outputs": [],
   "source": []
  }
 ],
 "metadata": {
  "kernelspec": {
   "display_name": "Python 3",
   "language": "python",
   "name": "python3"
  },
  "language_info": {
   "codemirror_mode": {
    "name": "ipython",
    "version": 3
   },
   "file_extension": ".py",
   "mimetype": "text/x-python",
   "name": "python",
   "nbconvert_exporter": "python",
   "pygments_lexer": "ipython3",
   "version": "3.8.10"
  }
 },
 "nbformat": 4,
 "nbformat_minor": 5
}
