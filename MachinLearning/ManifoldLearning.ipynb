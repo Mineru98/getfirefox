{
 "cells": [
  {
   "cell_type": "markdown",
   "id": "f0330178",
   "metadata": {},
   "source": [
    "# 다양체 학습 (Manifold Learning)\n",
    "\n",
    "* 높은 차원의 데이터를 저차원으로 축소하는 방법\n",
    "\n",
    "![manifold](https://scikit-learn.org/stable/_images/sphx_glr_plot_compare_methods_0011.png)\n",
    "\n",
    "* 고차원 데이터를 2차원 또는 3차원으로 축소해 시각화에 활용할 수 있음\n",
    "* 차원 축소 과정에서 중요하지 않은 정보는 버려지고 중요한 정보만 남기 때문에 데이터 정제에 활용 가능"
   ]
  },
  {
   "cell_type": "markdown",
   "id": "2015db55",
   "metadata": {},
   "source": [
    "## 데이터 생성 및 시각화 함수"
   ]
  },
  {
   "cell_type": "code",
   "execution_count": null,
   "id": "7ed41cae",
   "metadata": {},
   "outputs": [],
   "source": []
  },
  {
   "cell_type": "code",
   "execution_count": null,
   "id": "86bd061f",
   "metadata": {},
   "outputs": [],
   "source": []
  },
  {
   "cell_type": "code",
   "execution_count": null,
   "id": "d2fb278f",
   "metadata": {},
   "outputs": [],
   "source": []
  },
  {
   "cell_type": "code",
   "execution_count": null,
   "id": "3b81647a",
   "metadata": {},
   "outputs": [],
   "source": []
  },
  {
   "cell_type": "code",
   "execution_count": null,
   "id": "4b8dd676",
   "metadata": {},
   "outputs": [],
   "source": []
  },
  {
   "cell_type": "code",
   "execution_count": null,
   "id": "d95a4eeb",
   "metadata": {},
   "outputs": [],
   "source": []
  },
  {
   "cell_type": "code",
   "execution_count": null,
   "id": "02a33472",
   "metadata": {},
   "outputs": [],
   "source": []
  },
  {
   "cell_type": "code",
   "execution_count": null,
   "id": "1342d03f",
   "metadata": {},
   "outputs": [],
   "source": []
  },
  {
   "cell_type": "markdown",
   "id": "4f362b90",
   "metadata": {},
   "source": [
    "## Locally Linear Embedding (LLE)\n",
    "\n",
    "* 국소 이웃 거리를 보존하는 저차원 임베딩을 찾음"
   ]
  },
  {
   "cell_type": "code",
   "execution_count": null,
   "id": "565e79cc",
   "metadata": {},
   "outputs": [],
   "source": []
  },
  {
   "cell_type": "code",
   "execution_count": null,
   "id": "78f564dd",
   "metadata": {},
   "outputs": [],
   "source": []
  },
  {
   "cell_type": "markdown",
   "id": "f0e11130",
   "metadata": {},
   "source": [
    "## Local Tangent Space Alignment (LTSA)\n",
    "\n",
    "* 탄젠트 공간을 통해 각 이웃의 국소 성질을 특성화\n",
    "* 국소 탄젠트 공간을 정렬"
   ]
  },
  {
   "cell_type": "code",
   "execution_count": null,
   "id": "4f43c452",
   "metadata": {},
   "outputs": [],
   "source": []
  },
  {
   "cell_type": "code",
   "execution_count": null,
   "id": "c51043cc",
   "metadata": {},
   "outputs": [],
   "source": []
  },
  {
   "cell_type": "markdown",
   "id": "74e5b29b",
   "metadata": {},
   "source": [
    "## Hessian Eigenmapping\n",
    "\n",
    "* LLE의 문제를 해결한 다른 방법\n",
    "* 국소 선형 구조를 복원하기 위해 각 이웃에서 hessian 기반의 이차 형태를 중심으로 회전"
   ]
  },
  {
   "cell_type": "code",
   "execution_count": null,
   "id": "d6c1255b",
   "metadata": {},
   "outputs": [],
   "source": []
  },
  {
   "cell_type": "code",
   "execution_count": null,
   "id": "a1ac3e5e",
   "metadata": {},
   "outputs": [],
   "source": []
  },
  {
   "cell_type": "markdown",
   "id": "c6a57556",
   "metadata": {},
   "source": [
    "## Modified Locally Linear Embedding\n",
    "\n",
    "* 각 이웃에 여러 가중치 벡터를 사용\n",
    "* n_neighbors > n_components를 만족해야 함"
   ]
  },
  {
   "cell_type": "code",
   "execution_count": null,
   "id": "2df5a00d",
   "metadata": {},
   "outputs": [],
   "source": []
  },
  {
   "cell_type": "code",
   "execution_count": null,
   "id": "7b7e250d",
   "metadata": {},
   "outputs": [],
   "source": []
  },
  {
   "cell_type": "markdown",
   "id": "36c6f773",
   "metadata": {},
   "source": [
    "## Isomap\n",
    "\n",
    "* 초기의 다양체 학습 알고리즘\n",
    "* MDS와 커널 PCA의 확장으로 볼 수 있음\n",
    "* 모든 점들 사이의 측지 거리를 유지하는 저차원 임베딩을 찾음"
   ]
  },
  {
   "cell_type": "code",
   "execution_count": null,
   "id": "ad352a8b",
   "metadata": {},
   "outputs": [],
   "source": []
  },
  {
   "cell_type": "code",
   "execution_count": null,
   "id": "8ac5f172",
   "metadata": {},
   "outputs": [],
   "source": []
  },
  {
   "cell_type": "markdown",
   "id": "74b9a536",
   "metadata": {},
   "source": [
    "## Multi-Dimensional Scaling (MDS)\n",
    "\n",
    "* 고차원 공간에서의 거리를 고려하는 저차원 공간을 찾음"
   ]
  },
  {
   "cell_type": "code",
   "execution_count": null,
   "id": "fb95aeae",
   "metadata": {},
   "outputs": [],
   "source": []
  },
  {
   "cell_type": "code",
   "execution_count": null,
   "id": "636389c7",
   "metadata": {},
   "outputs": [],
   "source": []
  },
  {
   "cell_type": "markdown",
   "id": "23c4ca4f",
   "metadata": {},
   "source": [
    "## Spectral Embedding\n",
    "\n",
    "* 스펙트럼 분해를 통해 데이터의 저차원 표현을 찾음\n",
    "* 데이터의 점이 저차원 공간에서도 서로 가깝게 유지되도록 함"
   ]
  },
  {
   "cell_type": "code",
   "execution_count": null,
   "id": "bafd5ee8",
   "metadata": {},
   "outputs": [],
   "source": []
  },
  {
   "cell_type": "code",
   "execution_count": null,
   "id": "4971f912",
   "metadata": {},
   "outputs": [],
   "source": []
  },
  {
   "cell_type": "markdown",
   "id": "1bcaccd7",
   "metadata": {},
   "source": [
    "## t-distributed Stochastic Neighbor Embedding (t-SNE)\n",
    "\n",
    "* 데이터 포인트의 유사성을 확률로 변환\n",
    "* 국소 구조에 민감\n",
    "* 국소 구조를 기반으로 샘플 그룹을 추출하는데 강함\n",
    "* 항상 KL발산의 국소 최소값에서 끝남\n",
    "* 계산 비용이 많이 듬\n",
    "* 전역 구조를 보존하지 않음"
   ]
  },
  {
   "cell_type": "code",
   "execution_count": null,
   "id": "1b84691f",
   "metadata": {},
   "outputs": [],
   "source": []
  },
  {
   "cell_type": "code",
   "execution_count": null,
   "id": "d0aa62c1",
   "metadata": {},
   "outputs": [],
   "source": []
  },
  {
   "cell_type": "code",
   "execution_count": null,
   "id": "eafd65bd",
   "metadata": {},
   "outputs": [],
   "source": []
  },
  {
   "cell_type": "markdown",
   "id": "38a591cc",
   "metadata": {},
   "source": [
    "## 정제된 표현을 이용한 학습\n",
    "* 다양체 학습의 결과를 정제된 데이터로 생각할 수 있음\n",
    "* 정제된 표현이기 때문에 분석에 비교적 용이함\n",
    "* 기계학습 모델의 입력으로 사용했을때 성능향상을 기대할 수 있음"
   ]
  },
  {
   "cell_type": "code",
   "execution_count": null,
   "id": "885da7b7",
   "metadata": {},
   "outputs": [],
   "source": []
  },
  {
   "cell_type": "code",
   "execution_count": null,
   "id": "19f4f4a1",
   "metadata": {},
   "outputs": [],
   "source": []
  },
  {
   "cell_type": "code",
   "execution_count": null,
   "id": "da3b6bb1",
   "metadata": {},
   "outputs": [],
   "source": []
  },
  {
   "cell_type": "markdown",
   "id": "cd354111",
   "metadata": {},
   "source": [
    "### 원본 데이터를 사용할 때"
   ]
  },
  {
   "cell_type": "markdown",
   "id": "1051933d",
   "metadata": {},
   "source": [
    "#### KNN"
   ]
  },
  {
   "cell_type": "code",
   "execution_count": null,
   "id": "b4ac5710",
   "metadata": {},
   "outputs": [],
   "source": []
  },
  {
   "cell_type": "code",
   "execution_count": null,
   "id": "5442fcd8",
   "metadata": {},
   "outputs": [],
   "source": []
  },
  {
   "cell_type": "markdown",
   "id": "6efb2439",
   "metadata": {},
   "source": [
    "#### SVM"
   ]
  },
  {
   "cell_type": "code",
   "execution_count": null,
   "id": "0107dab2",
   "metadata": {},
   "outputs": [],
   "source": []
  },
  {
   "cell_type": "code",
   "execution_count": null,
   "id": "faac717e",
   "metadata": {},
   "outputs": [],
   "source": []
  },
  {
   "cell_type": "markdown",
   "id": "e54fc817",
   "metadata": {},
   "source": [
    "#### Decision Tree"
   ]
  },
  {
   "cell_type": "code",
   "execution_count": null,
   "id": "8d8b6aab",
   "metadata": {},
   "outputs": [],
   "source": []
  },
  {
   "cell_type": "code",
   "execution_count": null,
   "id": "b1b1a16c",
   "metadata": {},
   "outputs": [],
   "source": []
  },
  {
   "cell_type": "markdown",
   "id": "4c9c2e88",
   "metadata": {},
   "source": [
    "#### Random Forest"
   ]
  },
  {
   "cell_type": "code",
   "execution_count": null,
   "id": "7b3c0bca",
   "metadata": {},
   "outputs": [],
   "source": []
  },
  {
   "cell_type": "code",
   "execution_count": null,
   "id": "97701b4f",
   "metadata": {},
   "outputs": [],
   "source": []
  },
  {
   "cell_type": "markdown",
   "id": "3bbfa7b7",
   "metadata": {},
   "source": [
    "### 정제된 데이터를 사용할 때"
   ]
  },
  {
   "cell_type": "markdown",
   "id": "331171a5",
   "metadata": {},
   "source": [
    "#### KNN"
   ]
  },
  {
   "cell_type": "code",
   "execution_count": null,
   "id": "67a666b1",
   "metadata": {},
   "outputs": [],
   "source": []
  },
  {
   "cell_type": "code",
   "execution_count": null,
   "id": "a704a8ad",
   "metadata": {},
   "outputs": [],
   "source": []
  },
  {
   "cell_type": "markdown",
   "id": "71f616b2",
   "metadata": {},
   "source": [
    "#### SVM"
   ]
  },
  {
   "cell_type": "code",
   "execution_count": null,
   "id": "e1b357fd",
   "metadata": {},
   "outputs": [],
   "source": []
  },
  {
   "cell_type": "code",
   "execution_count": null,
   "id": "79d954c6",
   "metadata": {},
   "outputs": [],
   "source": []
  },
  {
   "cell_type": "markdown",
   "id": "0d9ad872",
   "metadata": {},
   "source": [
    "#### Decision Tree"
   ]
  },
  {
   "cell_type": "code",
   "execution_count": null,
   "id": "70df1252",
   "metadata": {},
   "outputs": [],
   "source": []
  },
  {
   "cell_type": "code",
   "execution_count": null,
   "id": "6c73be02",
   "metadata": {},
   "outputs": [],
   "source": []
  },
  {
   "cell_type": "markdown",
   "id": "612ebe9b",
   "metadata": {},
   "source": [
    "#### Random Forest"
   ]
  },
  {
   "cell_type": "code",
   "execution_count": null,
   "id": "01d7af37",
   "metadata": {},
   "outputs": [],
   "source": []
  },
  {
   "cell_type": "code",
   "execution_count": null,
   "id": "7217244e",
   "metadata": {},
   "outputs": [],
   "source": []
  }
 ],
 "metadata": {
  "kernelspec": {
   "display_name": "Python 3",
   "language": "python",
   "name": "python3"
  },
  "language_info": {
   "codemirror_mode": {
    "name": "ipython",
    "version": 3
   },
   "file_extension": ".py",
   "mimetype": "text/x-python",
   "name": "python",
   "nbconvert_exporter": "python",
   "pygments_lexer": "ipython3",
   "version": "3.8.10"
  }
 },
 "nbformat": 4,
 "nbformat_minor": 5
}
