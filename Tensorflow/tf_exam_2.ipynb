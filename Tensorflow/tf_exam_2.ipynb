{
 "cells": [
  {
   "cell_type": "code",
   "execution_count": 1,
   "id": "26b92b94",
   "metadata": {},
   "outputs": [],
   "source": [
    "import numpy as np\n",
    "import tensorflow as tf"
   ]
  },
  {
   "cell_type": "code",
   "execution_count": 2,
   "id": "0aa44c19",
   "metadata": {},
   "outputs": [
    {
     "name": "stdout",
     "output_type": "stream",
     "text": [
      "2.4.0-rc0\n"
     ]
    }
   ],
   "source": [
    "print(tf.__version__)"
   ]
  },
  {
   "cell_type": "code",
   "execution_count": 3,
   "id": "e53a2ce2",
   "metadata": {},
   "outputs": [
    {
     "name": "stdout",
     "output_type": "stream",
     "text": [
      "tf.Tensor(0, shape=(), dtype=int32)\n",
      "tf.Tensor(2, shape=(), dtype=int32)\n"
     ]
    }
   ],
   "source": [
    "a = tf.constant(2)\n",
    "print(tf.rank(a)) # rank가 0이면, 0차원이라는 의미\n",
    "print(a)"
   ]
  },
  {
   "cell_type": "code",
   "execution_count": 4,
   "id": "6d36260a",
   "metadata": {},
   "outputs": [
    {
     "name": "stdout",
     "output_type": "stream",
     "text": [
      "tf.Tensor(1, shape=(), dtype=int32)\n",
      "tf.Tensor([2 3], shape=(2,), dtype=int32)\n"
     ]
    }
   ],
   "source": [
    "b = tf.constant([2, 3])\n",
    "print(tf.rank(b))\n",
    "print(b)"
   ]
  },
  {
   "cell_type": "code",
   "execution_count": 5,
   "id": "f4e0fea3",
   "metadata": {},
   "outputs": [
    {
     "name": "stdout",
     "output_type": "stream",
     "text": [
      "tf.Tensor(2, shape=(), dtype=int32)\n",
      "tf.Tensor(\n",
      "[[2 3]\n",
      " [3 6]], shape=(2, 2), dtype=int32)\n"
     ]
    }
   ],
   "source": [
    "c = tf.constant([[2, 3], [3, 6]])\n",
    "print(tf.rank(c))\n",
    "print(c)"
   ]
  },
  {
   "cell_type": "code",
   "execution_count": 6,
   "id": "5003bf33",
   "metadata": {},
   "outputs": [
    {
     "name": "stdout",
     "output_type": "stream",
     "text": [
      "tf.Tensor(1, shape=(), dtype=int32)\n",
      "tf.Tensor([b'Hello'], shape=(1,), dtype=string)\n"
     ]
    }
   ],
   "source": [
    "d = tf.constant([\"Hello\"])\n",
    "print(tf.rank(d))\n",
    "print(d)"
   ]
  },
  {
   "cell_type": "code",
   "execution_count": 7,
   "id": "47c1845a",
   "metadata": {},
   "outputs": [
    {
     "name": "stdout",
     "output_type": "stream",
     "text": [
      "(1,)\n",
      "tf.Tensor([0.3724432], shape=(1,), dtype=float32)\n"
     ]
    }
   ],
   "source": [
    "rand = tf.random.uniform(shape=[1], minval=0, maxval=1)\n",
    "print(rand.shape)\n",
    "print(rand)"
   ]
  },
  {
   "cell_type": "code",
   "execution_count": 8,
   "id": "4b0d23ab",
   "metadata": {},
   "outputs": [
    {
     "name": "stdout",
     "output_type": "stream",
     "text": [
      "(1, 2)\n",
      "tf.Tensor([[-0.03290645  1.1528369 ]], shape=(1, 2), dtype=float32)\n"
     ]
    }
   ],
   "source": [
    "rand2 = tf.random.normal([1, 2], mean=0, stddev=1)\n",
    "print(rand2.shape)\n",
    "print(rand2)"
   ]
  },
  {
   "cell_type": "code",
   "execution_count": 9,
   "id": "7bb3594d",
   "metadata": {},
   "outputs": [
    {
     "name": "stdout",
     "output_type": "stream",
     "text": [
      "(3, 2)\n",
      "tf.Tensor(\n",
      "[[ 0.5552202   1.2081689 ]\n",
      " [-0.01211592  0.64916116]\n",
      " [-0.627849    0.45665666]], shape=(3, 2), dtype=float32)\n"
     ]
    }
   ],
   "source": [
    "rand3 = tf.random.normal(shape=(3, 2), mean=0, stddev=1)\n",
    "print(rand3.shape)\n",
    "print(rand3)"
   ]
  },
  {
   "cell_type": "code",
   "execution_count": 10,
   "id": "376234e3",
   "metadata": {},
   "outputs": [
    {
     "name": "stdout",
     "output_type": "stream",
     "text": [
      "tf.Tensor(5, shape=(), dtype=int32)\n",
      "tf.Tensor(5, shape=(), dtype=int32)\n"
     ]
    }
   ],
   "source": [
    "# 즉시 실행 모드(Eager Mode)\n",
    "a = tf.constant(2)\n",
    "b = tf.constant(3)\n",
    "print(tf.add(a, b))\n",
    "print(a + b)"
   ]
  },
  {
   "cell_type": "code",
   "execution_count": 11,
   "id": "d942f1bc",
   "metadata": {},
   "outputs": [
    {
     "name": "stdout",
     "output_type": "stream",
     "text": [
      "tf.Tensor(-1, shape=(), dtype=int32)\n",
      "tf.Tensor(-1, shape=(), dtype=int32)\n"
     ]
    }
   ],
   "source": [
    "print(tf.subtract(a, b))\n",
    "print(a - b)"
   ]
  },
  {
   "cell_type": "code",
   "execution_count": 12,
   "id": "befd5a2a",
   "metadata": {},
   "outputs": [
    {
     "name": "stdout",
     "output_type": "stream",
     "text": [
      "tf.Tensor(6, shape=(), dtype=int32)\n",
      "tf.Tensor(6, shape=(), dtype=int32)\n"
     ]
    }
   ],
   "source": [
    "print(tf.multiply(a, b))\n",
    "print(a * b)"
   ]
  },
  {
   "cell_type": "code",
   "execution_count": 13,
   "id": "857c370f",
   "metadata": {},
   "outputs": [
    {
     "name": "stdout",
     "output_type": "stream",
     "text": [
      "<class 'numpy.int32'>\n",
      "5\n"
     ]
    }
   ],
   "source": [
    "# numpy with tensorflow\n",
    "c = tf.add(a, b).numpy()\n",
    "print(type(c))\n",
    "print(c)"
   ]
  },
  {
   "cell_type": "code",
   "execution_count": 14,
   "id": "fab7435d",
   "metadata": {},
   "outputs": [
    {
     "name": "stdout",
     "output_type": "stream",
     "text": [
      "tf.Tensor(25.0, shape=(), dtype=float32)\n",
      "<class 'tensorflow.python.framework.ops.EagerTensor'>\n"
     ]
    }
   ],
   "source": [
    "c_square = np.square(c, dtype=np.float32)\n",
    "c_tensor = tf.convert_to_tensor(c_square)\n",
    "\n",
    "print(c_tensor)\n",
    "print(type(c_tensor))"
   ]
  },
  {
   "cell_type": "code",
   "execution_count": 15,
   "id": "83a4f8cd",
   "metadata": {},
   "outputs": [
    {
     "name": "stdout",
     "output_type": "stream",
     "text": [
      "(2, 3)\n",
      "<dtype: 'float32'>\n"
     ]
    }
   ],
   "source": [
    "# numpy 처럼 사용하기\n",
    "t = tf.constant([[1.0, 2.0, 3.0], [4.0, 5.0, 6.0]])\n",
    "print(t.shape)\n",
    "print(t.dtype)"
   ]
  },
  {
   "cell_type": "code",
   "execution_count": 16,
   "id": "33e453b2",
   "metadata": {},
   "outputs": [
    {
     "name": "stdout",
     "output_type": "stream",
     "text": [
      "tf.Tensor(\n",
      "[[2. 3.]\n",
      " [5. 6.]], shape=(2, 2), dtype=float32)\n"
     ]
    }
   ],
   "source": [
    "print(t[:, 1:])"
   ]
  },
  {
   "cell_type": "code",
   "execution_count": 17,
   "id": "7a4d66fb",
   "metadata": {},
   "outputs": [
    {
     "data": {
      "text/plain": [
       "<tf.Tensor: shape=(2, 1), dtype=float32, numpy=\n",
       "array([[2.],\n",
       "       [5.]], dtype=float32)>"
      ]
     },
     "execution_count": 17,
     "metadata": {},
     "output_type": "execute_result"
    }
   ],
   "source": [
    "t[..., 1, tf.newaxis]"
   ]
  },
  {
   "cell_type": "code",
   "execution_count": 18,
   "id": "ed1439de",
   "metadata": {},
   "outputs": [
    {
     "data": {
      "text/plain": [
       "<tf.Tensor: shape=(2, 3), dtype=float32, numpy=\n",
       "array([[11., 12., 13.],\n",
       "       [14., 15., 16.]], dtype=float32)>"
      ]
     },
     "execution_count": 18,
     "metadata": {},
     "output_type": "execute_result"
    }
   ],
   "source": [
    "t + 10"
   ]
  },
  {
   "cell_type": "code",
   "execution_count": 19,
   "id": "533e6421",
   "metadata": {},
   "outputs": [
    {
     "data": {
      "text/plain": [
       "<tf.Tensor: shape=(2, 3), dtype=float32, numpy=\n",
       "array([[ 1.,  4.,  9.],\n",
       "       [16., 25., 36.]], dtype=float32)>"
      ]
     },
     "execution_count": 19,
     "metadata": {},
     "output_type": "execute_result"
    }
   ],
   "source": [
    "tf.square(t)"
   ]
  },
  {
   "cell_type": "code",
   "execution_count": 20,
   "id": "70c7e269",
   "metadata": {},
   "outputs": [
    {
     "data": {
      "text/plain": [
       "<tf.Tensor: shape=(2, 2), dtype=float32, numpy=\n",
       "array([[14., 32.],\n",
       "       [32., 77.]], dtype=float32)>"
      ]
     },
     "execution_count": 20,
     "metadata": {},
     "output_type": "execute_result"
    }
   ],
   "source": [
    "t @ tf.transpose(t)"
   ]
  },
  {
   "cell_type": "code",
   "execution_count": 21,
   "id": "b34497fa",
   "metadata": {},
   "outputs": [
    {
     "name": "stdout",
     "output_type": "stream",
     "text": [
      "tf.Tensor(2, shape=(), dtype=int32)\n",
      "tf.Tensor(2.0, shape=(), dtype=float32)\n"
     ]
    }
   ],
   "source": [
    "# type cast\n",
    "# tensor의 기본 dtype\n",
    "# float type tensor : float32\n",
    "# int type tensor : int32\n",
    "# 연산 시 tensor type을 맞춰줘야함.\n",
    "# float32 ~ float32 (o)\n",
    "# int32 ~ int32 (o)\n",
    "# float32 ~ int32 (x)\n",
    "# type 변환은 tf.cast()\n",
    "\n",
    "a = tf.constant(2)\n",
    "print(a)\n",
    "\n",
    "b = tf.constant(2.0)\n",
    "print(b)"
   ]
  },
  {
   "cell_type": "code",
   "execution_count": 22,
   "id": "f93f87c0",
   "metadata": {},
   "outputs": [
    {
     "data": {
      "text/plain": [
       "<tf.Tensor: shape=(), dtype=float32, numpy=42.0>"
      ]
     },
     "execution_count": 22,
     "metadata": {},
     "output_type": "execute_result"
    }
   ],
   "source": [
    "tf.constant(2.0) + tf.cast(tf.constant(40), tf.float32)"
   ]
  },
  {
   "cell_type": "code",
   "execution_count": 23,
   "id": "e458e5ea",
   "metadata": {},
   "outputs": [],
   "source": [
    "# Auto Graph\n",
    "# tensorflow가 작업을 좀 더 빠르게  동작하기 위한 방법으로 Graph로 만들어 연산을 진행\n",
    "# 유연성이 있음\n",
    "# python 인터프리터가 없는 환경에서도 tensor를 동작할 수 있음\n",
    "import timeit"
   ]
  },
  {
   "cell_type": "code",
   "execution_count": 24,
   "id": "3805efd7",
   "metadata": {},
   "outputs": [
    {
     "name": "stdout",
     "output_type": "stream",
     "text": [
      "tf.Tensor(-13, shape=(), dtype=int32)\n",
      "tf.Tensor(-13, shape=(), dtype=int32)\n"
     ]
    }
   ],
   "source": [
    "@tf.function\n",
    "def my_func(x):\n",
    "    return x**2 - 10*x + 3\n",
    "\n",
    "print(my_func(2))\n",
    "print(my_func(tf.constant(2)))"
   ]
  },
  {
   "cell_type": "code",
   "execution_count": 25,
   "id": "ba361221",
   "metadata": {},
   "outputs": [
    {
     "name": "stdout",
     "output_type": "stream",
     "text": [
      "-13\n",
      "tf.Tensor(-13, shape=(), dtype=int32)\n"
     ]
    }
   ],
   "source": [
    "def my_func_(x):\n",
    "    return x**2 - 10*x + 3\n",
    "\n",
    "print(my_func_(2))\n",
    "print(my_func_(tf.constant(2)))"
   ]
  },
  {
   "cell_type": "code",
   "execution_count": 26,
   "id": "fa44fd72",
   "metadata": {},
   "outputs": [
    {
     "name": "stdout",
     "output_type": "stream",
     "text": [
      "<tensorflow.python.eager.def_function.Function object at 0x1117f7610>\n",
      "tf.Tensor(-13, shape=(), dtype=int32)\n"
     ]
    }
   ],
   "source": [
    "tf_my_func_ = tf.function(my_func_)\n",
    "print(tf_my_func_)\n",
    "print(tf_my_func_(2))"
   ]
  },
  {
   "cell_type": "code",
   "execution_count": 27,
   "id": "8cbd3eb5",
   "metadata": {},
   "outputs": [
    {
     "data": {
      "text/plain": [
       "-13"
      ]
     },
     "execution_count": 27,
     "metadata": {},
     "output_type": "execute_result"
    }
   ],
   "source": [
    "tf_my_func_.python_function(2)"
   ]
  },
  {
   "cell_type": "code",
   "execution_count": 28,
   "id": "356cb1a8",
   "metadata": {},
   "outputs": [
    {
     "data": {
      "text/plain": [
       "array([[12.]], dtype=float32)"
      ]
     },
     "execution_count": 28,
     "metadata": {},
     "output_type": "execute_result"
    }
   ],
   "source": [
    "def func_to_get_faster(x, y, b):\n",
    "    x = tf.matmul(x, y)\n",
    "    x = x + b\n",
    "    return x\n",
    "\n",
    "a_function_that_uses_a_graph = tf.function(func_to_get_faster)\n",
    "\n",
    "x1 = tf.constant([[1.0, 2.0]])\n",
    "y1 = tf.constant([[2.0], [3.0]])\n",
    "b1 = tf.constant(4.0)\n",
    "\n",
    "a_function_that_uses_a_graph(x1, y1, b1).numpy()"
   ]
  },
  {
   "cell_type": "code",
   "execution_count": 29,
   "id": "19de9197",
   "metadata": {},
   "outputs": [
    {
     "data": {
      "text/plain": [
       "array([[12.]], dtype=float32)"
      ]
     },
     "execution_count": 29,
     "metadata": {},
     "output_type": "execute_result"
    }
   ],
   "source": [
    "def inner_func(x, y, b):\n",
    "    x = tf.matmul(x, y)\n",
    "    x = x + b\n",
    "    return x\n",
    "\n",
    "@tf.function\n",
    "def other_func(x):\n",
    "    y = tf.constant([[2.0], [3.0]])\n",
    "    b = tf.constant(4.0)\n",
    "    return inner_func(x, y, b)\n",
    "\n",
    "other_func(tf.constant([[1.0, 2.0]])).numpy()"
   ]
  },
  {
   "cell_type": "code",
   "execution_count": 30,
   "id": "fed1a180",
   "metadata": {},
   "outputs": [
    {
     "name": "stdout",
     "output_type": "stream",
     "text": [
      "def tf__my_func(x):\n",
      "    with ag__.FunctionScope('my_func', 'fscope', ag__.ConversionOptions(recursive=True, user_requested=True, optional_features=(), internal_convert_user_code=True)) as fscope:\n",
      "        do_return = False\n",
      "        retval_ = ag__.UndefinedReturnValue()\n",
      "        try:\n",
      "            do_return = True\n",
      "            retval_ = (((ag__.ld(x) ** 2) - (10 * ag__.ld(x))) + 3)\n",
      "        except:\n",
      "            do_return = False\n",
      "            raise\n",
      "        return fscope.ret(retval_, do_return)\n",
      "\n",
      "def tf__my_func_(x):\n",
      "    with ag__.FunctionScope('my_func_', 'fscope', ag__.ConversionOptions(recursive=True, user_requested=True, optional_features=(), internal_convert_user_code=True)) as fscope:\n",
      "        do_return = False\n",
      "        retval_ = ag__.UndefinedReturnValue()\n",
      "        try:\n",
      "            do_return = True\n",
      "            retval_ = (((ag__.ld(x) ** 2) - (10 * ag__.ld(x))) + 3)\n",
      "        except:\n",
      "            do_return = False\n",
      "            raise\n",
      "        return fscope.ret(retval_, do_return)\n",
      "\n",
      "def tf__other_func(x):\n",
      "    with ag__.FunctionScope('other_func', 'fscope', ag__.ConversionOptions(recursive=True, user_requested=True, optional_features=(), internal_convert_user_code=True)) as fscope:\n",
      "        do_return = False\n",
      "        retval_ = ag__.UndefinedReturnValue()\n",
      "        y = ag__.converted_call(ag__.ld(tf).constant, ([[2.0], [3.0]],), None, fscope)\n",
      "        b = ag__.converted_call(ag__.ld(tf).constant, (4.0,), None, fscope)\n",
      "        try:\n",
      "            do_return = True\n",
      "            retval_ = ag__.converted_call(ag__.ld(inner_func), (ag__.ld(x), ag__.ld(y), ag__.ld(b)), None, fscope)\n",
      "        except:\n",
      "            do_return = False\n",
      "            raise\n",
      "        return fscope.ret(retval_, do_return)\n",
      "\n"
     ]
    }
   ],
   "source": [
    "# code로 추출\n",
    "print(tf.autograph.to_code(my_func.python_function))\n",
    "print(tf.autograph.to_code(tf_my_func_.python_function))\n",
    "print(tf.autograph.to_code(other_func.python_function))"
   ]
  },
  {
   "cell_type": "code",
   "execution_count": 31,
   "id": "3b3d460b",
   "metadata": {},
   "outputs": [
    {
     "name": "stdout",
     "output_type": "stream",
     "text": [
      "Eager Time:  5.127563042\n",
      "WARNING:tensorflow:AutoGraph could not transform <__main__.SequentialModel object at 0x113d687c0> and will run it as-is.\n",
      "Please report this to the TensorFlow team. When filing the bug, set the verbosity to 10 (on Linux, `export AUTOGRAPH_VERBOSITY=10`) and attach the full output.\n",
      "Cause: module 'gast' has no attribute 'Index'\n",
      "To silence this warning, decorate the function with @tf.autograph.experimental.do_not_convert\n",
      "WARNING: AutoGraph could not transform <__main__.SequentialModel object at 0x113d687c0> and will run it as-is.\n",
      "Please report this to the TensorFlow team. When filing the bug, set the verbosity to 10 (on Linux, `export AUTOGRAPH_VERBOSITY=10`) and attach the full output.\n",
      "Cause: module 'gast' has no attribute 'Index'\n",
      "To silence this warning, decorate the function with @tf.autograph.experimental.do_not_convert\n",
      "Graph Time:  0.9296038329999998\n"
     ]
    }
   ],
   "source": [
    "# 속도 향상\n",
    "class SequentialModel(tf.keras.Model):\n",
    "    def __init__(self, **kwargs):\n",
    "        super(SequentialModel, self).__init__(**kwargs)\n",
    "        self.flatten = tf.keras.layers.Flatten(input_shape=(28, 28))\n",
    "        self.dense_1 = tf.keras.layers.Dense(128, activation='relu')\n",
    "        self.dropout = tf.keras.layers.Dropout(0.2)\n",
    "        self.dense_2 = tf.keras.layers.Dense(10)\n",
    "    \n",
    "    def call(self, x):\n",
    "        x = self.flatten(x)\n",
    "        x = self.dense_1(x)\n",
    "        x = self.dropout(x)        \n",
    "        x = self.dense_2(x)\n",
    "        return x\n",
    "    \n",
    "input_data = tf.random.uniform([60, 28, 28])\n",
    "\n",
    "eager_model = SequentialModel()\n",
    "graph_model = tf.function(eager_model)\n",
    "\n",
    "print(\"Eager Time: \", timeit.timeit(lambda: eager_model(input_data), number=10000))\n",
    "print(\"Graph Time: \", timeit.timeit(lambda: graph_model(input_data), number=10000))"
   ]
  },
  {
   "cell_type": "code",
   "execution_count": 32,
   "id": "10f98333",
   "metadata": {},
   "outputs": [
    {
     "name": "stdout",
     "output_type": "stream",
     "text": [
      "<tf.Variable 'Variable:0' shape=() dtype=float32, numpy=20.0>\n"
     ]
    }
   ],
   "source": [
    "# 변수 생성\n",
    "X = tf.Variable(20.0)\n",
    "\n",
    "print(X)"
   ]
  },
  {
   "cell_type": "code",
   "execution_count": 33,
   "id": "8a627b57",
   "metadata": {},
   "outputs": [],
   "source": [
    "# 자동 미분(Autograd)\n",
    "# tf.GradientTape API 이용\n",
    "# tf.Variable 같은 일부 입력에 대한 기울기 계산\n",
    "#     - 기본적으로 한번만 사용됨\n",
    "# 변수가 포함된 연산만 기록\n",
    "\n",
    "x = tf.Variable(3.0)\n",
    "\n",
    "with tf.GradientTape() as tape:\n",
    "    y = x**2"
   ]
  },
  {
   "cell_type": "code",
   "execution_count": 34,
   "id": "e5410eaf",
   "metadata": {},
   "outputs": [
    {
     "data": {
      "text/plain": [
       "6.0"
      ]
     },
     "execution_count": 34,
     "metadata": {},
     "output_type": "execute_result"
    }
   ],
   "source": [
    "dy_dx = tape.gradient(y, x)\n",
    "dy_dx.numpy()"
   ]
  },
  {
   "cell_type": "code",
   "execution_count": 35,
   "id": "59a6e8b2",
   "metadata": {},
   "outputs": [
    {
     "name": "stdout",
     "output_type": "stream",
     "text": [
      "dz/dx: tf.Tensor(4.0, shape=(), dtype=float32)\n",
      "dz/dy: None\n"
     ]
    }
   ],
   "source": [
    "# 위에서 이미 한번 호출 했기 때문에 아래 코드 실행시 에러 발생\n",
    "# x2 = tf.Variable(4)\n",
    "# dy_dx = tape.gradient(y, x2)\n",
    "# dy_dx.numpy()\n",
    "\n",
    "x = tf.Variable(2.0)\n",
    "y = tf.Variable(3.0)\n",
    "with tf.GradientTape() as tape:\n",
    "    y_sq = y**2\n",
    "    z = x**2 + tf.stop_gradient(y_sq)\n",
    "\n",
    "grad = tape.gradient(z, {'x': x, 'y': y})\n",
    "\n",
    "print('dz/dx:', grad['x'])\n",
    "\n",
    "print('dz/dy:', grad['y'])"
   ]
  },
  {
   "cell_type": "code",
   "execution_count": 36,
   "id": "87cb330c",
   "metadata": {},
   "outputs": [],
   "source": [
    "weights = tf.Variable(tf.random.normal((3, 2)), name='weights')\n",
    "biases = tf.Variable(tf.zeros(2, dtype=tf.float32), name='biases')\n",
    "\n",
    "x = [[1., 2., 3.]]\n",
    "\n",
    "with tf.GradientTape(persistent=True) as tape:\n",
    "    y = x @ weights + biases\n",
    "    loss = tf.reduce_mean(y**2)"
   ]
  },
  {
   "cell_type": "code",
   "execution_count": 37,
   "id": "b2496086",
   "metadata": {},
   "outputs": [],
   "source": [
    "[dl_dw, dl_db] = tape.gradient(loss, [weights, biases])"
   ]
  },
  {
   "cell_type": "code",
   "execution_count": 38,
   "id": "df79f5ae",
   "metadata": {},
   "outputs": [
    {
     "name": "stdout",
     "output_type": "stream",
     "text": [
      "(3, 2)\n",
      "(3, 2)\n"
     ]
    }
   ],
   "source": [
    "print(weights.shape)\n",
    "print(dl_dw.shape)"
   ]
  },
  {
   "cell_type": "code",
   "execution_count": 39,
   "id": "0188c10b",
   "metadata": {},
   "outputs": [
    {
     "name": "stdout",
     "output_type": "stream",
     "text": [
      "(3, 2)\n",
      "(3, 2)\n"
     ]
    }
   ],
   "source": [
    "weights2 = tf.Variable(tf.random.normal((3, 2)), name='weights')\n",
    "biases2 = tf.Variable(tf.zeros(2, dtype=tf.float32), name='biases')\n",
    "\n",
    "x2 =[[4., 5., 6.]]\n",
    "\n",
    "[dl_dw2, dl_db2] = tape.gradient(loss, [weights2, biases2])\n",
    "\n",
    "print(weights2.shape)\n",
    "print(dl_dw.shape)"
   ]
  },
  {
   "cell_type": "code",
   "execution_count": 40,
   "id": "97d6f61d",
   "metadata": {},
   "outputs": [],
   "source": [
    "# 간단하 뉴런 만들기\n",
    "# 입력 -> 연산 -> 활성화함수 -> 출력\n",
    "\n",
    "def sigmoid(x):\n",
    "    return (1 / (1 + np.exp(-x)))\n",
    "\n",
    "def Neuron(x, W, bias=0):\n",
    "    z = x * W + bias\n",
    "    return sigmoid(z)"
   ]
  },
  {
   "cell_type": "code",
   "execution_count": 41,
   "id": "54521490",
   "metadata": {},
   "outputs": [
    {
     "name": "stdout",
     "output_type": "stream",
     "text": [
      "x.shape:  (1, 2)\n",
      "W.shape:  (1, 2)\n",
      "tf.Tensor([[ 0.57430965 -1.5363925 ]], shape=(1, 2), dtype=float32)\n",
      "tf.Tensor([[ 0.16853055 -1.5589889 ]], shape=(1, 2), dtype=float32)\n",
      "[[0.5241783  0.91646206]]\n"
     ]
    }
   ],
   "source": [
    "x = tf.random.normal((1, 2), 0, 1)\n",
    "W = tf.random.normal((1, 2), 0, 1)\n",
    "\n",
    "print('x.shape: ', x.shape)\n",
    "print('W.shape: ', W.shape)\n",
    "\n",
    "print(x)\n",
    "print(W)\n",
    "\n",
    "print(Neuron(x, W))"
   ]
  },
  {
   "cell_type": "code",
   "execution_count": 42,
   "id": "ba4bf2d3",
   "metadata": {},
   "outputs": [
    {
     "name": "stdout",
     "output_type": "stream",
     "text": [
      "x.shape:  (2, 1)\n",
      "W.shape:  (2, 1)\n",
      "tf.Tensor(\n",
      "[[1.7750536]\n",
      " [2.232183 ]], shape=(2, 1), dtype=float32)\n",
      "tf.Tensor(\n",
      "[[-1.5573641 ]\n",
      " [-0.25723422]], shape=(2, 1), dtype=float32)\n",
      "[[0.05927826]\n",
      " [0.3602697 ]]\n"
     ]
    }
   ],
   "source": [
    "x = tf.random.normal((2, 1), 0, 1)\n",
    "W = tf.random.normal((2, 1), 0, 1)\n",
    "\n",
    "print('x.shape: ', x.shape)\n",
    "print('W.shape: ', W.shape)\n",
    "\n",
    "print(x)\n",
    "print(W)\n",
    "\n",
    "print(Neuron(x, W))"
   ]
  },
  {
   "cell_type": "code",
   "execution_count": 43,
   "id": "161316ce",
   "metadata": {},
   "outputs": [
    {
     "name": "stdout",
     "output_type": "stream",
     "text": [
      "x.shape:  (1,)\n",
      "W.shape:  (1, 2)\n",
      "tf.Tensor([-0.3036896], shape=(1,), dtype=float32)\n",
      "tf.Tensor([[ 1.8306755  -0.21721222]], shape=(1, 2), dtype=float32)\n",
      "[[0.36448342 0.5164853 ]]\n"
     ]
    }
   ],
   "source": [
    "x = tf.random.normal((1,), 0, 1)\n",
    "W = tf.random.normal((1, 2), 0, 1)\n",
    "\n",
    "print('x.shape: ', x.shape)\n",
    "print('W.shape: ', W.shape)\n",
    "\n",
    "print(x)\n",
    "print(W)\n",
    "\n",
    "print(Neuron(x, W))"
   ]
  },
  {
   "cell_type": "code",
   "execution_count": 44,
   "id": "b9813f9d",
   "metadata": {},
   "outputs": [],
   "source": [
    "# 퍼셉트론 학습 알고리즘(가중치 업데이트)\n",
    "# - w : 가중치\n",
    "# - n : 학습률\n",
    "# - y : 정답 레이블\n",
    "# - y~ : 예측 레이블"
   ]
  },
  {
   "cell_type": "code",
   "execution_count": 45,
   "id": "39de251d",
   "metadata": {},
   "outputs": [
    {
     "name": "stdout",
     "output_type": "stream",
     "text": [
      "[0.82741517]\n",
      "y:  0\n"
     ]
    }
   ],
   "source": [
    "x = 1\n",
    "y = 0\n",
    "W = tf.random.normal([1], 0, 1)\n",
    "print(Neuron(x, W))\n",
    "print(\"y: \", y)"
   ]
  },
  {
   "cell_type": "code",
   "execution_count": 46,
   "id": "b160ed5f",
   "metadata": {},
   "outputs": [
    {
     "name": "stdout",
     "output_type": "stream",
     "text": [
      "100\t[-0.12939973]\t[0.12939973]\n",
      "200\t[-0.05914794]\t[0.05914794]\n",
      "300\t[-0.03779453]\t[0.03779453]\n",
      "400\t[-0.02766108]\t[0.02766108]\n",
      "500\t[-0.02177762]\t[0.02177762]\n",
      "600\t[-0.0179434]\t[0.0179434]\n",
      "700\t[-0.01525004]\t[0.01525004]\n",
      "800\t[-0.01325585]\t[0.01325585]\n",
      "900\t[-0.01172061]\t[0.01172061]\n",
      "1000\t[-0.01050263]\t[0.01050263]\n"
     ]
    }
   ],
   "source": [
    "for i in range(1000):\n",
    "    output = Neuron(x, W)\n",
    "    error = y - output\n",
    "    W = W + x * 0.1 * error\n",
    "    \n",
    "    if i % 100 == 99:\n",
    "        print(\"{}\\t{}\\t{}\".format(i+1, error, output))"
   ]
  },
  {
   "cell_type": "code",
   "execution_count": 47,
   "id": "f9cce4e2",
   "metadata": {},
   "outputs": [],
   "source": [
    "def Neuron2(x, W, bias=0):\n",
    "    z = tf.matmul(a=x, b=W, transpose_b=True) + bias\n",
    "    return sigmoid(z)"
   ]
  },
  {
   "cell_type": "code",
   "execution_count": 48,
   "id": "62204046",
   "metadata": {},
   "outputs": [
    {
     "name": "stdout",
     "output_type": "stream",
     "text": [
      "[[0.7953944]]\n",
      "y:  tf.Tensor([1.], shape=(1,), dtype=float32)\n"
     ]
    }
   ],
   "source": [
    "x = tf.random.normal((1, 3), 0, 1)\n",
    "y = tf.ones(1)\n",
    "W = tf.random.normal((1, 3), 0, 1)\n",
    "\n",
    "print(Neuron2(x, W))\n",
    "print(\"y: \", y)"
   ]
  },
  {
   "cell_type": "code",
   "execution_count": 49,
   "id": "8fc78dc3",
   "metadata": {},
   "outputs": [
    {
     "name": "stdout",
     "output_type": "stream",
     "text": [
      "100\t[[0.08244592]]\t[[0.9175541]]\n",
      "200\t[[0.05010957]]\t[[0.94989043]]\n",
      "300\t[[0.03576905]]\t[[0.96423095]]\n",
      "400\t[[0.02774358]]\t[[0.9722564]]\n",
      "500\t[[0.02263325]]\t[[0.97736675]]\n",
      "600\t[[0.01910019]]\t[[0.9808998]]\n",
      "700\t[[0.0165146]]\t[[0.9834854]]\n",
      "800\t[[0.01454175]]\t[[0.98545825]]\n",
      "900\t[[0.01298767]]\t[[0.9870123]]\n",
      "1000\t[[0.01173204]]\t[[0.98826796]]\n"
     ]
    }
   ],
   "source": [
    "for i in range(1000):\n",
    "    output = Neuron2(x, W)\n",
    "    error = y - output\n",
    "    W = W + x * 0.1 * error\n",
    "    \n",
    "    if i % 100 == 99:\n",
    "        print(\"{}\\t{}\\t{}\".format(i+1, error, output))"
   ]
  },
  {
   "cell_type": "code",
   "execution_count": 50,
   "id": "2b05bbb7",
   "metadata": {},
   "outputs": [
    {
     "name": "stdout",
     "output_type": "stream",
     "text": [
      "x\t: [[ 0.60686237 -1.1954796   0.6357367 ]]\n",
      "weights\t: [[ 0.6496437 -0.3079025  1.4041382]]\n",
      "bias: [[0.]]\n"
     ]
    }
   ],
   "source": [
    "x = tf.random.normal((1, 3), 0, 1)\n",
    "weights = tf.random.normal((1, 3), 0, 1)\n",
    "bias = tf.zeros((1, 1))\n",
    "\n",
    "y = tf.ones((1, ))\n",
    "\n",
    "print(\"x\\t: {}\\nweights\\t: {}\\nbias: {}\".format(x, weights, bias))"
   ]
  },
  {
   "cell_type": "code",
   "execution_count": 51,
   "id": "7b19c707",
   "metadata": {},
   "outputs": [
    {
     "name": "stdout",
     "output_type": "stream",
     "text": [
      "100\t[[0.02754509]]\t[[0.9724549]]\n",
      "200\t[[0.01475298]]\t[[0.985247]]\n",
      "300\t[[0.0100531]]\t[[0.9899469]]\n",
      "400\t[[0.00761884]]\t[[0.99238116]]\n",
      "500\t[[0.00613171]]\t[[0.9938683]]\n",
      "600\t[[0.00512946]]\t[[0.99487054]]\n",
      "700\t[[0.00440842]]\t[[0.9955916]]\n",
      "800\t[[0.00386477]]\t[[0.99613523]]\n",
      "900\t[[0.00344044]]\t[[0.99655956]]\n",
      "1000\t[[0.00309992]]\t[[0.9969001]]\n"
     ]
    }
   ],
   "source": [
    "for i in range(1000):\n",
    "    output = Neuron2(x, weights, bias=bias)\n",
    "    error = y - output\n",
    "    weights = weights + x * 0.1 * error\n",
    "    bias = bias + 1 * 0.1 * error\n",
    "    \n",
    "    if i % 100 == 99:\n",
    "        print(\"{}\\t{}\\t{}\".format(i+1, error, output))"
   ]
  },
  {
   "cell_type": "code",
   "execution_count": 52,
   "id": "0afeb781",
   "metadata": {},
   "outputs": [
    {
     "name": "stdout",
     "output_type": "stream",
     "text": [
      "x\t: [[ 0.60686237 -1.1954796   0.6357367 ]]\n",
      "weights\t: [[ 1.4304482 -1.8460344  2.222093 ]]\n",
      "bias: [[1.2866248]]\n"
     ]
    }
   ],
   "source": [
    "print(\"x\\t: {}\\nweights\\t: {}\\nbias: {}\".format(x, weights, bias))"
   ]
  },
  {
   "cell_type": "code",
   "execution_count": 53,
   "id": "5196ba85",
   "metadata": {},
   "outputs": [
    {
     "name": "stdout",
     "output_type": "stream",
     "text": [
      "Epoch :    0\tError Sum [-0.18168]\n",
      "Epoch :  200\tError Sum [-0.11988045]\n",
      "Epoch :  400\tError Sum [-0.06894699]\n",
      "Epoch :  600\tError Sum [-0.04831161]\n",
      "Epoch :  800\tError Sum [-0.0370708]\n",
      "Epoch : 1000\tError Sum [-0.03001521]\n",
      "Epoch : 1200\tError Sum [-0.02518543]\n",
      "Epoch : 1400\tError Sum [-0.02167759]\n",
      "Epoch : 1600\tError Sum [-0.01901714]\n",
      "Epoch : 1800\tError Sum [-0.01693059]\n",
      "\n",
      "가중치\t: [6.9488254 6.9520082]\n",
      "편향\t: [-11.602446]\n"
     ]
    }
   ],
   "source": [
    "# AND Gate\n",
    "X = np.array([[1, 1], [1, 0], [0, 1], [0, 0]])\n",
    "Y = np.array([[1], [0], [0], [0]])\n",
    "\n",
    "W = tf.random.normal([2], 0, 1)\n",
    "b = tf.random.normal([1], 0, 1)\n",
    "b_x = 1\n",
    "\n",
    "for i in range(2000):\n",
    "    error_sum = 0\n",
    "    \n",
    "    for j in range(4):\n",
    "        output = sigmoid(np.sum(X[j] * W) + b_x + b)\n",
    "        error = Y[j][0] - output\n",
    "        W = W + X[j] * 0.1 * error\n",
    "        b = b + b_x * 0.1 * error\n",
    "        error_sum += error\n",
    "    \n",
    "    if i % 200 == 0:\n",
    "        print(\"Epoch : {:4d}\\tError Sum {}\".format(i, error_sum))\n",
    "\n",
    "print(\"\\n가중치\\t: {}\".format(W))\n",
    "print(\"편향\\t: {}\".format(b))\n"
   ]
  },
  {
   "cell_type": "code",
   "execution_count": 54,
   "id": "d72964e9",
   "metadata": {},
   "outputs": [
    {
     "name": "stdout",
     "output_type": "stream",
     "text": [
      "X: [1 1] Y: [1] Output: [0.90874344]\n",
      "X: [1 0] Y: [0] Output: [0.00943714]\n",
      "X: [0 1] Y: [0] Output: [0.00946694]\n",
      "X: [0 0] Y: [0] Output: [9.143615e-06]\n"
     ]
    }
   ],
   "source": [
    "for i in range(4):\n",
    "    print(\"X: {} Y: {} Output: {}\".format(X[i], Y[i], sigmoid(np.sum(X[i] * W) + b)))"
   ]
  },
  {
   "cell_type": "code",
   "execution_count": 55,
   "id": "ae93bf95",
   "metadata": {},
   "outputs": [
    {
     "name": "stdout",
     "output_type": "stream",
     "text": [
      "Epoch :    0\tError Sum [0.05637121]\n",
      "Epoch :  200\tError Sum [-0.04946029]\n",
      "Epoch :  400\tError Sum [-0.02550638]\n",
      "Epoch :  600\tError Sum [-0.01719473]\n",
      "Epoch :  800\tError Sum [-0.01293659]\n",
      "Epoch : 1000\tError Sum [-0.01035242]\n",
      "Epoch : 1200\tError Sum [-0.00862004]\n",
      "Epoch : 1400\tError Sum [-0.00738041]\n",
      "Epoch : 1600\tError Sum [-0.006449]\n",
      "Epoch : 1800\tError Sum [-0.00572602]\n",
      "\n",
      "가중치\t: [8.218566 8.212219]\n",
      "편향\t: [-4.642166]\n"
     ]
    }
   ],
   "source": [
    "# OR Gate\n",
    "X2 = np.array([[1, 1], [1, 0], [0, 1], [0, 0]])\n",
    "Y2 = np.array([[1], [1], [1], [0]])\n",
    "\n",
    "W2 = tf.random.normal([2], 0, 1)\n",
    "b2 = tf.random.normal([1], 0, 1)\n",
    "b_x = 1\n",
    "\n",
    "for i in range(2000):\n",
    "    error_sum = 0\n",
    "    \n",
    "    for j in range(4):\n",
    "        output = sigmoid(np.sum(X2[j] * W2) + b_x + b2)\n",
    "        error = Y2[j][0] - output\n",
    "        W2 = W2 + X2[j] * 0.1 * error\n",
    "        b2 = b2 + b_x * 0.1 * error\n",
    "        error_sum += error\n",
    "    \n",
    "    if i % 200 == 0:\n",
    "        print(\"Epoch : {:4d}\\tError Sum {}\".format(i, error_sum))\n",
    "\n",
    "print(\"\\n가중치\\t: {}\".format(W2))\n",
    "print(\"편향\\t: {}\".format(b2))\n"
   ]
  },
  {
   "cell_type": "code",
   "execution_count": 56,
   "id": "ade585b7",
   "metadata": {},
   "outputs": [
    {
     "name": "stdout",
     "output_type": "stream",
     "text": [
      "X: [1 1] Y: [1] Output: [0.9999924]\n",
      "X: [1 0] Y: [1] Output: [0.9727851]\n",
      "X: [0 1] Y: [1] Output: [0.9726166]\n",
      "X: [0 0] Y: [0] Output: [0.00954482]\n"
     ]
    }
   ],
   "source": [
    "for i in range(4):\n",
    "    print(\"X: {} Y: {} Output: {}\".format(X2[i], Y2[i], sigmoid(np.sum(X2[i] * W2) + b2)))"
   ]
  },
  {
   "cell_type": "code",
   "execution_count": 57,
   "id": "380a86ba",
   "metadata": {},
   "outputs": [
    {
     "name": "stdout",
     "output_type": "stream",
     "text": [
      "Epoch :    0\tError Sum [0.06664199]\n",
      "Epoch :  200\tError Sum [-0.0028165]\n",
      "Epoch :  400\tError Sum [-0.0001145]\n",
      "Epoch :  600\tError Sum [-4.708767e-06]\n",
      "Epoch :  800\tError Sum [-1.013279e-06]\n",
      "Epoch : 1000\tError Sum [-1.013279e-06]\n",
      "Epoch : 1200\tError Sum [-1.013279e-06]\n",
      "Epoch : 1400\tError Sum [-1.013279e-06]\n",
      "Epoch : 1600\tError Sum [-1.013279e-06]\n",
      "Epoch : 1800\tError Sum [-1.013279e-06]\n",
      "\n",
      "가중치\t: [ 5.1279664e-02 -2.0824373e-06]\n",
      "편향\t: [-0.999997]\n"
     ]
    }
   ],
   "source": [
    "# XOR Gate\n",
    "X3 = np.array([[1, 1], [1, 0], [0, 1], [0, 0]])\n",
    "Y3 = np.array([[0], [1], [1], [0]])\n",
    "\n",
    "W3 = tf.random.normal([2], 0, 1)\n",
    "b3 = tf.random.normal([1], 0, 1)\n",
    "b_x = 1\n",
    "\n",
    "for i in range(2000):\n",
    "    error_sum = 0\n",
    "    \n",
    "    for j in range(4):\n",
    "        output = sigmoid(np.sum(X3[j] * W3) + b_x + b3)\n",
    "        error = Y3[j][0] - output\n",
    "        W3 = W3 + X3[j] * 0.1 * error\n",
    "        b3 = b3 + b_x * 0.1 * error\n",
    "        error_sum += error\n",
    "    \n",
    "    if i % 200 == 0:\n",
    "        print(\"Epoch : {:4d}\\tError Sum {}\".format(i, error_sum))\n",
    "\n",
    "print(\"\\n가중치\\t: {}\".format(W3))\n",
    "print(\"편향\\t: {}\".format(b3))\n"
   ]
  },
  {
   "cell_type": "code",
   "execution_count": 58,
   "id": "d9c09602",
   "metadata": {},
   "outputs": [
    {
     "name": "stdout",
     "output_type": "stream",
     "text": [
      "X: [1 1] Y: [0] Output: [0.27914244]\n",
      "X: [1 0] Y: [1] Output: [0.27914283]\n",
      "X: [0 1] Y: [1] Output: [0.2689416]\n",
      "X: [0 0] Y: [0] Output: [0.26894203]\n"
     ]
    }
   ],
   "source": [
    "for i in range(4):\n",
    "    print(\"X: {} Y: {} Output: {}\".format(X3[i], Y3[i], sigmoid(np.sum(X3[i] * W3) + b3)))"
   ]
  },
  {
   "cell_type": "code",
   "execution_count": 59,
   "id": "aafd0d00",
   "metadata": {},
   "outputs": [
    {
     "name": "stdout",
     "output_type": "stream",
     "text": [
      "Model: \"sequential\"\n",
      "_________________________________________________________________\n",
      "Layer (type)                 Output Shape              Param #   \n",
      "=================================================================\n",
      "dense_2 (Dense)              (None, 2)                 6         \n",
      "_________________________________________________________________\n",
      "dense_3 (Dense)              (None, 1)                 3         \n",
      "=================================================================\n",
      "Total params: 9\n",
      "Trainable params: 9\n",
      "Non-trainable params: 0\n",
      "_________________________________________________________________\n"
     ]
    }
   ],
   "source": [
    "from tensorflow.keras import Sequential\n",
    "from tensorflow.keras.layers import Dense\n",
    "\n",
    "np.random.seed(111)\n",
    "\n",
    "X4 = np.array([[1, 1], [1, 0], [0, 1], [0, 0]])\n",
    "Y4 = np.array([[0], [1], [1], [0]])\n",
    "\n",
    "model = Sequential([\n",
    "    Dense(units=2, activation='sigmoid', input_shape=(2, )),\n",
    "    Dense(units=1, activation='sigmoid')])\n",
    "\n",
    "model.compile(optimizer=tf.keras.optimizers.SGD(lr=0.1), loss='mse')\n",
    "\n",
    "model.summary()"
   ]
  },
  {
   "cell_type": "code",
   "execution_count": 60,
   "id": "e22b5712",
   "metadata": {},
   "outputs": [],
   "source": [
    "history = model.fit(X4, Y4, epochs=10000, batch_size=1, verbose=0)"
   ]
  },
  {
   "cell_type": "code",
   "execution_count": 61,
   "id": "b16bc8e7",
   "metadata": {},
   "outputs": [
    {
     "data": {
      "text/plain": [
       "array([[0.50253373]], dtype=float32)"
      ]
     },
     "execution_count": 61,
     "metadata": {},
     "output_type": "execute_result"
    }
   ],
   "source": [
    "model.predict(X4)"
   ]
  },
  {
   "cell_type": "code",
   "execution_count": 62,
   "id": "c7910ead",
   "metadata": {},
   "outputs": [
    {
     "data": {
      "image/png": "[encoded data removed]",
      "text/plain": [
       "<Figure size 432x288 with 1 Axes>"
      ]
     },
     "metadata": {},
     "output_type": "display_data"
    }
   ],
   "source": [
    "import matplotlib.pyplot as plt\n",
    "plt.style.use('seaborn-white')\n",
    "\n",
    "x = range(50)\n",
    "y = tf.random.normal([50], 0, 1)\n",
    "plt.plot(x, y)\n",
    "plt.show()"
   ]
  },
  {
   "cell_type": "code",
   "execution_count": 63,
   "id": "8fa33522",
   "metadata": {},
   "outputs": [
    {
     "data": {
      "image/png": "[encoded data removed]",
      "text/plain": [
       "<Figure size 432x288 with 1 Axes>"
      ]
     },
     "metadata": {},
     "output_type": "display_data"
    }
   ],
   "source": [
    "x = range(50)\n",
    "y = tf.random.normal([50], 0, 1)\n",
    "plt.plot(x, y, 'ro')\n",
    "plt.show()"
   ]
  },
  {
   "cell_type": "code",
   "execution_count": 64,
   "id": "26752a84",
   "metadata": {},
   "outputs": [
    {
     "data": {
      "image/png": "[encoded data removed]",
      "text/plain": [
       "<Figure size 432x288 with 1 Axes>"
      ]
     },
     "metadata": {},
     "output_type": "display_data"
    }
   ],
   "source": [
    "x = range(30)\n",
    "y = tf.random.normal([30], 0, 1)\n",
    "plt.plot(x, y, 'g-')\n",
    "plt.show()"
   ]
  },
  {
   "cell_type": "code",
   "execution_count": 65,
   "id": "b9be7fa9",
   "metadata": {},
   "outputs": [
    {
     "data": {
      "image/png": "[encoded data removed]",
      "text/plain": [
       "<Figure size 432x288 with 1 Axes>"
      ]
     },
     "metadata": {},
     "output_type": "display_data"
    }
   ],
   "source": [
    "x = range(30)\n",
    "y = tf.random.normal([30], 0, 1)\n",
    "plt.plot(x, y, 'b--')\n",
    "plt.show()"
   ]
  },
  {
   "cell_type": "code",
   "execution_count": 68,
   "id": "728dd189",
   "metadata": {},
   "outputs": [
    {
     "data": {
      "image/png": "[encoded data removed]",
      "text/plain": [
       "<Figure size 432x288 with 1 Axes>"
      ]
     },
     "metadata": {},
     "output_type": "display_data"
    }
   ],
   "source": [
    "random_normal = tf.random.normal([1000], 0, 1)\n",
    "plt.hist(random_normal, bins=100)\n",
    "plt.show()"
   ]
  },
  {
   "cell_type": "code",
   "execution_count": 69,
   "id": "ed9e6f9d",
   "metadata": {},
   "outputs": [
    {
     "data": {
      "text/plain": [
       "[<matplotlib.lines.Line2D at 0x362e9bd30>]"
      ]
     },
     "execution_count": 69,
     "metadata": {},
     "output_type": "execute_result"
    },
    {
     "data": {
      "image/png": "[encoded data removed]",
      "text/plain": [
       "<Figure size 432x288 with 1 Axes>"
      ]
     },
     "metadata": {},
     "output_type": "display_data"
    }
   ],
   "source": [
    "plt.plot(history.history['loss'])"
   ]
  },
  {
   "cell_type": "code",
   "execution_count": null,
   "id": "3c45cfb7",
   "metadata": {},
   "outputs": [],
   "source": []
  }
 ],
 "metadata": {
  "kernelspec": {
   "display_name": "Python 3",
   "language": "python",
   "name": "python3"
  },
  "language_info": {
   "codemirror_mode": {
    "name": "ipython",
    "version": 3
   },
   "file_extension": ".py",
   "mimetype": "text/x-python",
   "name": "python",
   "nbconvert_exporter": "python",
   "pygments_lexer": "ipython3",
   "version": "3.8.10"
  }
 },
 "nbformat": 4,
 "nbformat_minor": 5
}
