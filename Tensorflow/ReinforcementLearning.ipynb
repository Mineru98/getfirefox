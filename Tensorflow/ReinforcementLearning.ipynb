{
 "cells": [
  {
   "cell_type": "markdown",
   "id": "a885c4d4",
   "metadata": {},
   "source": [
    "# 강화학습 개요"
   ]
  },
  {
   "cell_type": "markdown",
   "id": "d9393b05",
   "metadata": {},
   "source": [
    "## 강화학습의 개념\n",
    "\n",
    "### 스키너의 강화 연구\n",
    "\n",
    "강화학습의 개념을 이해하려면 행동심리학과 강화학습 그리고 머신러닝과 강화학습의 연관성에 대해 알아야 한다.\n",
    "핼동심리학에서 \"강화\"라는 개념은 상당히 보편적으로 알려진 개념이다.\n",
    "강화는 동물이 \"시행착오\"를 통해 학습하는 방법 중 하나이다.\n",
    "강화라는 개념을 처음으로 제시한 것은 스키너라는 행동심리학자이다.\n",
    "\n",
    "행동심리학에는 시행착오 학습이라는 개념이 있다.\n",
    "시행착오 학습은 동물들이 이것저것 시도해보면서 그 결과를 통해 학습하는 것을 말한다.\n",
    "스키너는 쥐 실험을 통해 동물이 행동과 그 결과 사이의 관계를 학습하는 것을 확인했다.\n",
    "스키너는 상자 안에 굶긴 쥐를 집어넣고 실험을 수행했다.\n",
    "\n",
    "1. 굶긴 쥐를 상자에 넣는다.\n",
    "2. 쥐는 돌아다니다가 우연히 상자 안에 있는 지렛대를 누르게 된다.\n",
    "3. 지렛대를 누르자 먹이가 나온다.\n",
    "4. 지렛대를 누르는 행동과 먹이와의 상관관계를 모르는 쥐는 다시 돌아다닌다.\n",
    "5. 그러다가 우연히 쥐가 다시 지렛대를 누르면 쥐는 이제 먹이와 지렛대 사이의 관계를 알게 되고 점점 지렛대를 자주 누르게 된다.\n",
    "6. 이 과정을 반복하면서 쥐는 지렛대를 누르면 먹이를 먹을 수 있다는 것을 학습한다.\n",
    "\n",
    "즉, 강화라는 것은 도물이 이전에 배우지 않았지만 직접 시도하며서 행동과 그 결과로 나타나는 좋은 보상 사이의 상관관계를 학습하는 것이다.\n",
    "그러면서 동물이 좋은 보상을 얻게 해주는 행동을 점점 더 많이 하는 것을 말한다.\n",
    "\n",
    "강화의 핵심은 바로 보상을 얻게 해주는 행동의 빈도 증가이다.\n",
    "이때 쥐는 페달을 밟을 때 먹이가 왜 나오는지 모르지만 페달을 밟을 때마다 먹이가 나온다는 건 알게 된다.\n",
    "따라서 이해는 못 하더라도 행동과 행동의 결과를 보상을 통해 연결할 수 있다.\n",
    "\n",
    "### 우리 주변에서의 강화\n",
    "\n",
    "강화는 행동심리학에서 연구됐던 분야지만 사실 강화라는 것은 우리에게 친숙한 개념이다."
   ]
  },
  {
   "cell_type": "markdown",
   "id": "5c617b37",
   "metadata": {},
   "source": []
  },
  {
   "cell_type": "markdown",
   "id": "0fcbd178",
   "metadata": {},
   "source": []
  },
  {
   "cell_type": "markdown",
   "id": "525aa669",
   "metadata": {},
   "source": []
  },
  {
   "cell_type": "markdown",
   "id": "61d1e954",
   "metadata": {},
   "source": []
  },
  {
   "cell_type": "markdown",
   "id": "12235a39",
   "metadata": {},
   "source": []
  },
  {
   "cell_type": "markdown",
   "id": "e695fd73",
   "metadata": {},
   "source": []
  },
  {
   "cell_type": "markdown",
   "id": "1b959666",
   "metadata": {},
   "source": []
  },
  {
   "cell_type": "markdown",
   "id": "e60e7c15",
   "metadata": {},
   "source": []
  }
 ],
 "metadata": {
  "kernelspec": {
   "display_name": "Python 3",
   "language": "python",
   "name": "python3"
  },
  "language_info": {
   "codemirror_mode": {
    "name": "ipython",
    "version": 3
   },
   "file_extension": ".py",
   "mimetype": "text/x-python",
   "name": "python",
   "nbconvert_exporter": "python",
   "pygments_lexer": "ipython3",
   "version": "3.8.10"
  }
 },
 "nbformat": 4,
 "nbformat_minor": 5
}
