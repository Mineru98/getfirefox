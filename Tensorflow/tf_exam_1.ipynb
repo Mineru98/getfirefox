{
 "cells": [
  {
   "cell_type": "code",
   "execution_count": 1,
   "id": "bbdc9919",
   "metadata": {},
   "outputs": [],
   "source": [
    "import tensorflow as tf"
   ]
  },
  {
   "cell_type": "code",
   "execution_count": 2,
   "id": "924ee839",
   "metadata": {},
   "outputs": [],
   "source": [
    "from tensorflow.python.compiler.mlcompute import mlcompute"
   ]
  },
  {
   "cell_type": "code",
   "execution_count": 3,
   "id": "4806703f",
   "metadata": {},
   "outputs": [],
   "source": [
    "mlcompute.set_mlc_device(device_name='cpu') "
   ]
  },
  {
   "cell_type": "code",
   "execution_count": 4,
   "id": "470c16fc",
   "metadata": {},
   "outputs": [],
   "source": [
    "mnist = tf.keras.datasets.mnist\n",
    "(x_train, y_train), (x_test, y_test) = mnist.load_data()\n",
    "x_train, x_test = x_train / 255.0, x_test / 255.0"
   ]
  },
  {
   "cell_type": "code",
   "execution_count": 5,
   "id": "af738ffe",
   "metadata": {},
   "outputs": [],
   "source": [
    "model = tf.keras.models.Sequential([\n",
    "  tf.keras.layers.Flatten(input_shape=(28, 28)),\n",
    "  tf.keras.layers.Dense(128, activation='relu'),\n",
    "  tf.keras.layers.Dropout(0.2),\n",
    "  tf.keras.layers.Dense(10, activation='softmax')\n",
    "])\n",
    "\n",
    "model.compile(optimizer='adam',\n",
    "              loss='sparse_categorical_crossentropy',\n",
    "              metrics=['accuracy'])"
   ]
  },
  {
   "cell_type": "code",
   "execution_count": 6,
   "id": "a1798134",
   "metadata": {},
   "outputs": [
    {
     "name": "stdout",
     "output_type": "stream",
     "text": [
      "Epoch 1/5\n",
      "1875/1875 [==============================] - 1s 347us/step - loss: 0.5150 - accuracy: 0.8459\n",
      "Epoch 2/5\n",
      "1875/1875 [==============================] - 1s 344us/step - loss: 0.1967 - accuracy: 0.9410\n",
      "Epoch 3/5\n",
      "1875/1875 [==============================] - 1s 340us/step - loss: 0.1548 - accuracy: 0.9538\n",
      "Epoch 4/5\n",
      "1875/1875 [==============================] - 1s 340us/step - loss: 0.1311 - accuracy: 0.9610\n",
      "Epoch 5/5\n",
      "1875/1875 [==============================] - 1s 349us/step - loss: 0.1225 - accuracy: 0.9622\n",
      "313/313 - 0s - loss: 0.0949 - accuracy: 0.9713\n"
     ]
    },
    {
     "data": {
      "text/plain": [
       "[0.09490164369344711, 0.9713000059127808]"
      ]
     },
     "execution_count": 6,
     "metadata": {},
     "output_type": "execute_result"
    }
   ],
   "source": [
    "model.fit(x_train, y_train, epochs=5)\n",
    "\n",
    "model.evaluate(x_test,  y_test, verbose=2)"
   ]
  },
  {
   "cell_type": "code",
   "execution_count": null,
   "id": "111f4901",
   "metadata": {},
   "outputs": [],
   "source": []
  }
 ],
 "metadata": {
  "kernelspec": {
   "display_name": "Python 3",
   "language": "python",
   "name": "python3"
  },
  "language_info": {
   "codemirror_mode": {
    "name": "ipython",
    "version": 3
   },
   "file_extension": ".py",
   "mimetype": "text/x-python",
   "name": "python",
   "nbconvert_exporter": "python",
   "pygments_lexer": "ipython3",
   "version": "3.9.4"
  }
 },
 "nbformat": 4,
 "nbformat_minor": 5
}
