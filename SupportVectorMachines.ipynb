{
 "cells": [
  {
   "cell_type": "markdown",
   "id": "111c8e6e",
   "metadata": {},
   "source": [
    "# 서포트 벡터 머신(Support Vector Machines)\n",
    "\n",
    "* 회귀, 분류, 이상치 탐지 등에 사용되는 지도학습 방법\n",
    "* 클래스 사이의 경계에 위치한 데이터 포인트를 서포트 벡터(support vector)라고 함\n",
    "* 각 지지 벡터가 클래스 사이의 결정 경계를 구분하는데 얼마나 중요한지를 학습\n",
    "* 각 지지 벡터 사이의 마진이 가장 큰 방향으로 학습\n",
    "* 지지 벡터 까지의 거리와 지지 벡터의 중요도를 기반으로 예측을 수행\n",
    "\n",
    "![support vector machine](https://upload.wikimedia.org/wikipedia/commons/thumb/2/20/Svm_separating_hyperplanes.png/220px-Svm_separating_hyperplanes.png)\n",
    "\n",
    "* H3은 두 클래스의 점들을 제대로 분류하고 있지 않음\n",
    "* H1과 H2는 두 클래스의 점들을 분류하는데, H2가 H1보다 더 큰 마진을 갖고 분류하는 것을 확인할 수 있음"
   ]
  },
  {
   "cell_type": "code",
   "execution_count": 1,
   "id": "ed188b76",
   "metadata": {},
   "outputs": [],
   "source": [
    "import multiprocessing\n",
    "import pandas as pd\n",
    "import numpy as np\n",
    "import matplotlib.pyplot as plt\n",
    "plt.style.use([\"seaborn-whitegrid\"])"
   ]
  },
  {
   "cell_type": "code",
   "execution_count": 2,
   "id": "630ac129",
   "metadata": {},
   "outputs": [],
   "source": [
    "from sklearn.svm import SVR, SVC\n",
    "from sklearn.datasets import load_boston, load_diabetes\n",
    "from sklearn.datasets import load_breast_cancer, load_iris, load_wine\n",
    "from sklearn.pipeline import make_pipeline, Pipeline\n",
    "from sklearn.model_selection import train_test_split, cross_validate, GridSearchCV\n",
    "from sklearn.preprocessing import StandardScaler, MinMaxScaler\n",
    "from sklearn.manifold import TSNE"
   ]
  },
  {
   "cell_type": "markdown",
   "id": "11d7cc03",
   "metadata": {},
   "source": [
    "### SVM을 이용한 회귀 모델과 분류 모델"
   ]
  },
  {
   "cell_type": "markdown",
   "id": "6f3f5481",
   "metadata": {},
   "source": [
    "#### SVM을 사용한 회귀 모델(SVR)"
   ]
  },
  {
   "cell_type": "code",
   "execution_count": 3,
   "id": "e26db783",
   "metadata": {},
   "outputs": [
    {
     "name": "stdout",
     "output_type": "stream",
     "text": [
      "학습 데이터 점수 : 0.2177283706374875\n",
      "평가 데이터 점수 : 0.13544178468518187\n"
     ]
    }
   ],
   "source": [
    "X, y = load_boston(return_X_y=True)\n",
    "X_train, X_test, y_train, y_test = train_test_split(X, y, random_state=123)\n",
    "\n",
    "model = SVR()\n",
    "model.fit(X_train, y_train)\n",
    "\n",
    "print(\"학습 데이터 점수 : {}\".format(model.score(X_train, y_train)))\n",
    "print(\"평가 데이터 점수 : {}\".format(model.score(X_test, y_test)))"
   ]
  },
  {
   "cell_type": "markdown",
   "id": "4ab0b825",
   "metadata": {},
   "source": [
    "## 커널 기법\n",
    "\n",
    "* 입력 데이터를 고차원 공간에 사상해서 비선형 특징을 학습할 수 있도록 확장하는 방법\n",
    "* scikit-learn에서는 Linear, Polynomial, RBF(Radial Basis Function)등 다양한 커널 기법을 지원\n",
    "\n",
    "![kernel trick](https://scikit-learn.org/stable/_images/sphx_glr_plot_iris_svc_0011.png)"
   ]
  },
  {
   "cell_type": "code",
   "execution_count": 4,
   "id": "309eb834",
   "metadata": {},
   "outputs": [
    {
     "name": "stdout",
     "output_type": "stream",
     "text": [
      "Linear SVR 학습 데이터 점수 : 0.7155065522120606\n",
      "Linear SVR 평가 데이터 점수 : 0.638039631835579\n",
      "Polynomial SVR 학습 데이터 점수 : 0.2024454261446288\n",
      "Polynomial SVR 평가 데이터 점수 : 0.13366845036746255\n",
      "RBF SVR 학습 데이터 점수 : 0.2177283706374875\n",
      "RBF SVR 평가 데이터 점수 : 0.13544178468518187\n"
     ]
    }
   ],
   "source": [
    "X, y = load_boston(return_X_y=True)\n",
    "X_train, X_test, y_train, y_test = train_test_split(X, y, random_state=123)\n",
    "\n",
    "linear_svr = SVR(kernel=\"linear\")\n",
    "linear_svr.fit(X_train, y_train)\n",
    "\n",
    "print(\"Linear SVR 학습 데이터 점수 : {}\".format(linear_svr.score(X_train, y_train)))\n",
    "print(\"Linear SVR 평가 데이터 점수 : {}\".format(linear_svr.score(X_test, y_test)))\n",
    "\n",
    "polynomial_svr = SVR(kernel=\"poly\")\n",
    "polynomial_svr.fit(X_train, y_train)\n",
    "\n",
    "print(\"Polynomial SVR 학습 데이터 점수 : {}\".format(polynomial_svr.score(X_train, y_train)))\n",
    "print(\"Polynomial SVR 평가 데이터 점수 : {}\".format(polynomial_svr.score(X_test, y_test)))\n",
    "\n",
    "rbf_svr = SVR(kernel=\"rbf\")\n",
    "rbf_svr.fit(X_train, y_train)\n",
    "\n",
    "print(\"RBF SVR 학습 데이터 점수 : {}\".format(rbf_svr.score(X_train, y_train)))\n",
    "print(\"RBF SVR 평가 데이터 점수 : {}\".format(rbf_svr.score(X_test, y_test)))"
   ]
  },
  {
   "cell_type": "code",
   "execution_count": 5,
   "id": "9c255059",
   "metadata": {},
   "outputs": [
    {
     "name": "stdout",
     "output_type": "stream",
     "text": [
      "Linear SVC 학습 데이터 점수 : 0.960093896713615\n",
      "Linear SVC 평가 데이터 점수 : 0.986013986013986\n",
      "Polynomial SVC 학습 데이터 점수 : 0.9014084507042254\n",
      "Polynomial SVC 평가 데이터 점수 : 0.9230769230769231\n",
      "RBF SVC 학습 데이터 점수 : 0.9014084507042254\n",
      "RBF SVC 평가 데이터 점수 : 0.9230769230769231\n"
     ]
    }
   ],
   "source": [
    "X, y = load_breast_cancer(return_X_y=True)\n",
    "X_train, X_test, y_train, y_test = train_test_split(X, y, random_state=123)\n",
    "\n",
    "linear_svc = SVC(kernel=\"linear\")\n",
    "linear_svc.fit(X_train, y_train)\n",
    "\n",
    "print(\"Linear SVC 학습 데이터 점수 : {}\".format(linear_svc.score(X_train, y_train)))\n",
    "print(\"Linear SVC 평가 데이터 점수 : {}\".format(linear_svc.score(X_test, y_test)))\n",
    "\n",
    "polynomial_svc = SVC(kernel=\"poly\")\n",
    "polynomial_svc.fit(X_train, y_train)\n",
    "\n",
    "print(\"Polynomial SVC 학습 데이터 점수 : {}\".format(polynomial_svc.score(X_train, y_train)))\n",
    "print(\"Polynomial SVC 평가 데이터 점수 : {}\".format(polynomial_svc.score(X_test, y_test)))\n",
    "\n",
    "rbf_svc = SVC(kernel=\"rbf\")\n",
    "rbf_svc.fit(X_train, y_train)\n",
    "\n",
    "print(\"RBF SVC 학습 데이터 점수 : {}\".format(rbf_svc.score(X_train, y_train)))\n",
    "print(\"RBF SVC 평가 데이터 점수 : {}\".format(rbf_svc.score(X_test, y_test)))"
   ]
  },
  {
   "cell_type": "markdown",
   "id": "7af2d4e3",
   "metadata": {},
   "source": [
    "## 매개변수 튜닝\n",
    "\n",
    "* SVM은 사용하는 커널에 따라 다양한 매개변수 설정 가능\n",
    "* 매개변수를 변경하면서 성능변화를 관찰"
   ]
  },
  {
   "cell_type": "code",
   "execution_count": 6,
   "id": "20f1be24",
   "metadata": {},
   "outputs": [],
   "source": [
    "X, y = load_breast_cancer(return_X_y=True)\n",
    "X_train, X_test, y_train, y_test = train_test_split(X, y, random_state=123)"
   ]
  },
  {
   "cell_type": "code",
   "execution_count": 7,
   "id": "16766173",
   "metadata": {},
   "outputs": [
    {
     "name": "stdout",
     "output_type": "stream",
     "text": [
      "kernel=poly, degree=2, C=0.1, gamma=auto\n",
      "Polynomial SVC 학습 데이터 점수 : 0.9014084507042254\n",
      "Polynomial SVC 평가 데이터 점수 : 0.9230769230769231\n"
     ]
    }
   ],
   "source": [
    "polynomial_svc = SVC(kernel=\"poly\", degree=2, C=0.1, gamma=\"auto\")\n",
    "polynomial_svc.fit(X_train, y_train)\n",
    "\n",
    "print(\"kernel=poly, degree={}, C={}, gamma={}\".format(2, 0.1 ,\"auto\"))\n",
    "\n",
    "print(\"Polynomial SVC 학습 데이터 점수 : {}\".format(rbf_svc.score(X_train, y_train)))\n",
    "print(\"Polynomial SVC 평가 데이터 점수 : {}\".format(rbf_svc.score(X_test, y_test)))"
   ]
  },
  {
   "cell_type": "code",
   "execution_count": 10,
   "id": "955d6cd3",
   "metadata": {},
   "outputs": [
    {
     "name": "stdout",
     "output_type": "stream",
     "text": [
      "kernel=rbf, C=1.5, gamma=scale\n",
      "RBF SVC 학습 데이터 점수 : 0.9154929577464789\n",
      "RBF SVC 평가 데이터 점수 : 0.9370629370629371\n"
     ]
    }
   ],
   "source": [
    "rbf_svc = SVC(kernel=\"rbf\", C=2.0, gamma=\"scale\")\n",
    "rbf_svc.fit(X_train, y_train)\n",
    "\n",
    "print(\"kernel=rbf, C={}, gamma={}\".format(2.0, \"scale\"))\n",
    "\n",
    "print(\"RBF SVC 학습 데이터 점수 : {}\".format(rbf_svc.score(X_train, y_train)))\n",
    "print(\"RBF SVC 평가 데이터 점수 : {}\".format(rbf_svc.score(X_test, y_test)))"
   ]
  },
  {
   "cell_type": "markdown",
   "id": "288e7a69",
   "metadata": {},
   "source": [
    "## 데이터 전처리\n",
    "\n",
    "* SVM은 입력 데이터가 정규화 되어야 좋은 성능을 보임\n",
    "* 주로 모든 특성 값을 [0, 1] 범위로 맞추는 방법을 사용\n",
    "* scikit-learn의 StandardScaler 또는 MinMaxScaler를 사용해 정규화"
   ]
  },
  {
   "cell_type": "code",
   "execution_count": 11,
   "id": "d7b9bdf9",
   "metadata": {},
   "outputs": [],
   "source": [
    "X, y = load_breast_cancer(return_X_y=True)\n",
    "X_train, X_test, y_train, y_test = train_test_split(X, y, random_state=123)"
   ]
  },
  {
   "cell_type": "code",
   "execution_count": 12,
   "id": "7875f945",
   "metadata": {},
   "outputs": [
    {
     "name": "stdout",
     "output_type": "stream",
     "text": [
      "SVC 학습 데이터 점수 : 0.9014084507042254\n",
      "SVC 평가 데이터 점수 : 0.9230769230769231\n"
     ]
    }
   ],
   "source": [
    "model = SVC()\n",
    "model.fit(X_train, y_train)\n",
    "\n",
    "print(\"SVC 학습 데이터 점수 : {}\".format(model.score(X_train, y_train)))\n",
    "print(\"SVC 평가 데이터 점수 : {}\".format(model.score(X_test, y_test)))"
   ]
  },
  {
   "cell_type": "code",
   "execution_count": 13,
   "id": "c0e84c83",
   "metadata": {},
   "outputs": [],
   "source": [
    "scaler = StandardScaler()\n",
    "X_train = scaler.fit_transform(X_train)\n",
    "X_test = scaler.transform(X_test)"
   ]
  },
  {
   "cell_type": "code",
   "execution_count": 14,
   "id": "56498f65",
   "metadata": {},
   "outputs": [
    {
     "name": "stdout",
     "output_type": "stream",
     "text": [
      "SVC 학습 데이터 점수 : 0.9835680751173709\n",
      "SVC 평가 데이터 점수 : 0.986013986013986\n"
     ]
    }
   ],
   "source": [
    "model = SVC()\n",
    "model.fit(X_train, y_train)\n",
    "\n",
    "print(\"SVC 학습 데이터 점수 : {}\".format(model.score(X_train, y_train)))\n",
    "print(\"SVC 평가 데이터 점수 : {}\".format(model.score(X_test, y_test)))"
   ]
  },
  {
   "cell_type": "code",
   "execution_count": 15,
   "id": "8a2389d3",
   "metadata": {},
   "outputs": [],
   "source": [
    "scaler = MinMaxScaler()\n",
    "X_train = scaler.fit_transform(X_train)\n",
    "X_test = scaler.transform(X_test)"
   ]
  },
  {
   "cell_type": "code",
   "execution_count": 16,
   "id": "2bd1575e",
   "metadata": {},
   "outputs": [
    {
     "name": "stdout",
     "output_type": "stream",
     "text": [
      "SVC 학습 데이터 점수 : 0.9812206572769953\n",
      "SVC 평가 데이터 점수 : 0.986013986013986\n"
     ]
    }
   ],
   "source": [
    "model = SVC()\n",
    "model.fit(X_train, y_train)\n",
    "\n",
    "print(\"SVC 학습 데이터 점수 : {}\".format(model.score(X_train, y_train)))\n",
    "print(\"SVC 평가 데이터 점수 : {}\".format(model.score(X_test, y_test)))"
   ]
  },
  {
   "cell_type": "markdown",
   "id": "9e245b7e",
   "metadata": {},
   "source": [
    "## Linear SVR"
   ]
  },
  {
   "cell_type": "code",
   "execution_count": null,
   "id": "48079205",
   "metadata": {},
   "outputs": [],
   "source": []
  }
 ],
 "metadata": {
  "kernelspec": {
   "display_name": "Python 3",
   "language": "python",
   "name": "python3"
  },
  "language_info": {
   "codemirror_mode": {
    "name": "ipython",
    "version": 3
   },
   "file_extension": ".py",
   "mimetype": "text/x-python",
   "name": "python",
   "nbconvert_exporter": "python",
   "pygments_lexer": "ipython3",
   "version": "3.8.10"
  }
 },
 "nbformat": 4,
 "nbformat_minor": 5
}
