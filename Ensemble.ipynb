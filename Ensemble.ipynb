{
 "cells": [
  {
   "cell_type": "markdown",
   "id": "f7e986ed",
   "metadata": {},
   "source": [
    "# 앙상블(Ensemble)\n",
    "\n",
    "* 일반화와 강건성(Robustness)을 향상시키기 위해 여러 모델의 예측 값을 결합하는 방법\n",
    "* 앙상블에는 크게 두가지 종류가 존재\n",
    "  * 평균 방법\n",
    "    * 여러개의 추정값을 독립적으로 구한뒤 평균을 취함\n",
    "    * 결합 추정값은 분산이 줄어들기 때문에 단일 추정값보다 좋은 성능을 보임\n",
    "  * 부스팅 방법\n",
    "    * 순차적으로 모델 생성\n",
    "    * 결합된 모델의 편향을 감소 시키기 위해 노력\n",
    "    * 부스팅 방법의 목표는 여러개의 약한 모델들을 결합해 하나의 강력한 앙상블 모델을 구축하는 것"
   ]
  },
  {
   "cell_type": "markdown",
   "id": "b28d1892",
   "metadata": {},
   "source": [
    "## Bagging meta-estimator\n",
    "\n",
    "* bagging은 bootstrap aggregating의 줄임말\n",
    "* 원래 훈련 데이터셋의 일부를 사용해 여러 모델을 훈련\n",
    "* 각각의 결과를 결합해 최종 결과를 생성\n",
    "* 분산을 줄이고 과적합을 막음\n",
    "* 강력하고 복잡한 모델에서 잘 동작"
   ]
  },
  {
   "cell_type": "code",
   "execution_count": 36,
   "id": "16dc2163",
   "metadata": {},
   "outputs": [],
   "source": [
    "from sklearn.datasets import load_iris, load_wine, load_breast_cancer\n",
    "from sklearn.datasets import load_boston, load_diabetes\n",
    "from sklearn.preprocessing import StandardScaler\n",
    "from sklearn.pipeline import make_pipeline\n",
    "from sklearn.model_selection import cross_validate"
   ]
  },
  {
   "cell_type": "code",
   "execution_count": 5,
   "id": "c95e0206",
   "metadata": {},
   "outputs": [],
   "source": [
    "from sklearn.ensemble import BaggingClassifier\n",
    "from sklearn.neighbors import KNeighborsClassifier\n",
    "from sklearn.svm import SVC\n",
    "from sklearn.tree import DecisionTreeClassifier"
   ]
  },
  {
   "cell_type": "code",
   "execution_count": 42,
   "id": "75958609",
   "metadata": {},
   "outputs": [],
   "source": [
    "from sklearn.ensemble import BaggingRegressor\n",
    "from sklearn.neighbors import KNeighborsRegressor\n",
    "from sklearn.svm import SVR\n",
    "from sklearn.tree import DecisionTreeRegressor"
   ]
  },
  {
   "cell_type": "markdown",
   "id": "3f2e698c",
   "metadata": {},
   "source": [
    "### Bagging을 사용한 분류"
   ]
  },
  {
   "cell_type": "markdown",
   "id": "3374d4a7",
   "metadata": {},
   "source": [
    "#### 데이터셋 불러오기"
   ]
  },
  {
   "cell_type": "code",
   "execution_count": 7,
   "id": "2ae8f6b1",
   "metadata": {},
   "outputs": [],
   "source": [
    "iris = load_iris()\n",
    "wine = load_wine()\n",
    "cancer = load_breast_cancer()"
   ]
  },
  {
   "cell_type": "markdown",
   "id": "de1c820e",
   "metadata": {},
   "source": [
    "#### KNN"
   ]
  },
  {
   "cell_type": "markdown",
   "id": "2559423c",
   "metadata": {},
   "source": [
    "##### 붓꽃 데이터"
   ]
  },
  {
   "cell_type": "code",
   "execution_count": 8,
   "id": "0a1674e5",
   "metadata": {},
   "outputs": [],
   "source": [
    "base_model = make_pipeline(\n",
    "    StandardScaler(),\n",
    "    KNeighborsClassifier()\n",
    ")\n",
    "\n",
    "bagging_model = BaggingClassifier(base_model, n_estimators=10, max_samples=0.5, max_features=0.5)"
   ]
  },
  {
   "cell_type": "code",
   "execution_count": 10,
   "id": "be1e56d7",
   "metadata": {},
   "outputs": [
    {
     "name": "stdout",
     "output_type": "stream",
     "text": [
      "avg fit time : 0.001415395736694336 (+/- 0.0005992305128886332)\n",
      "avg score time : 0.0020985126495361326 (+/- 0.0006733710154526535)\n",
      "avg test score : 0.96 (+/- 0.024944382578492935)\n"
     ]
    }
   ],
   "source": [
    "cross_val = cross_validate(\n",
    "    estimator=base_model,\n",
    "    X=iris.data, y=iris.target,\n",
    "    cv=5\n",
    ")\n",
    "print(\"avg fit time : {} (+/- {})\".format(cross_val[\"fit_time\"].mean(), cross_val[\"fit_time\"].std()))\n",
    "print(\"avg score time : {} (+/- {})\".format(cross_val[\"score_time\"].mean(), cross_val[\"score_time\"].std()))\n",
    "print(\"avg test score : {} (+/- {})\".format(cross_val[\"test_score\"].mean(), cross_val[\"test_score\"].std()))"
   ]
  },
  {
   "cell_type": "code",
   "execution_count": 11,
   "id": "118441d3",
   "metadata": {},
   "outputs": [
    {
     "name": "stdout",
     "output_type": "stream",
     "text": [
      "avg fit time : 0.012061214447021485 (+/- 0.005768281702950531)\n",
      "avg score time : 0.0032387733459472655 (+/- 0.0007328310242160943)\n",
      "avg test score : 0.9533333333333334 (+/- 0.04521553322083511)\n"
     ]
    }
   ],
   "source": [
    "cross_val = cross_validate(\n",
    "    estimator=bagging_model,\n",
    "    X=iris.data, y=iris.target,\n",
    "    cv=5\n",
    ")\n",
    "print(\"avg fit time : {} (+/- {})\".format(cross_val[\"fit_time\"].mean(), cross_val[\"fit_time\"].std()))\n",
    "print(\"avg score time : {} (+/- {})\".format(cross_val[\"score_time\"].mean(), cross_val[\"score_time\"].std()))\n",
    "print(\"avg test score : {} (+/- {})\".format(cross_val[\"test_score\"].mean(), cross_val[\"test_score\"].std()))"
   ]
  },
  {
   "cell_type": "markdown",
   "id": "87206931",
   "metadata": {},
   "source": [
    "##### 와인 데이터"
   ]
  },
  {
   "cell_type": "code",
   "execution_count": 12,
   "id": "c552c1f7",
   "metadata": {},
   "outputs": [],
   "source": [
    "base_model = make_pipeline(\n",
    "    StandardScaler(),\n",
    "    KNeighborsClassifier()\n",
    ")\n",
    "\n",
    "bagging_model = BaggingClassifier(base_model, n_estimators=10, max_samples=0.5, max_features=0.5)"
   ]
  },
  {
   "cell_type": "code",
   "execution_count": 13,
   "id": "00777f4c",
   "metadata": {},
   "outputs": [
    {
     "name": "stdout",
     "output_type": "stream",
     "text": [
      "avg fit time : 0.00148773193359375 (+/- 0.0005281331995077764)\n",
      "avg score time : 0.0023520469665527345 (+/- 0.0009040415830707362)\n",
      "avg test score : 0.9493650793650794 (+/- 0.037910929811115976)\n"
     ]
    }
   ],
   "source": [
    "cross_val = cross_validate(\n",
    "    estimator=base_model,\n",
    "    X=wine.data, y=wine.target,\n",
    "    cv=5\n",
    ")\n",
    "print(\"avg fit time : {} (+/- {})\".format(cross_val[\"fit_time\"].mean(), cross_val[\"fit_time\"].std()))\n",
    "print(\"avg score time : {} (+/- {})\".format(cross_val[\"score_time\"].mean(), cross_val[\"score_time\"].std()))\n",
    "print(\"avg test score : {} (+/- {})\".format(cross_val[\"test_score\"].mean(), cross_val[\"test_score\"].std()))"
   ]
  },
  {
   "cell_type": "code",
   "execution_count": 14,
   "id": "0bf7affc",
   "metadata": {},
   "outputs": [
    {
     "name": "stdout",
     "output_type": "stream",
     "text": [
      "avg fit time : 0.012511587142944336 (+/- 0.00565176088782645)\n",
      "avg score time : 0.0034942626953125 (+/- 0.0007973450616712772)\n",
      "avg test score : 0.9384126984126985 (+/- 0.020454645980853996)\n"
     ]
    }
   ],
   "source": [
    "cross_val = cross_validate(\n",
    "    estimator=bagging_model,\n",
    "    X=wine.data, y=wine.target,\n",
    "    cv=5\n",
    ")\n",
    "print(\"avg fit time : {} (+/- {})\".format(cross_val[\"fit_time\"].mean(), cross_val[\"fit_time\"].std()))\n",
    "print(\"avg score time : {} (+/- {})\".format(cross_val[\"score_time\"].mean(), cross_val[\"score_time\"].std()))\n",
    "print(\"avg test score : {} (+/- {})\".format(cross_val[\"test_score\"].mean(), cross_val[\"test_score\"].std()))"
   ]
  },
  {
   "cell_type": "markdown",
   "id": "80f7832f",
   "metadata": {},
   "source": [
    "##### 유방암 데이터"
   ]
  },
  {
   "cell_type": "code",
   "execution_count": 15,
   "id": "6f410507",
   "metadata": {},
   "outputs": [],
   "source": [
    "base_model = make_pipeline(\n",
    "    StandardScaler(),\n",
    "    KNeighborsClassifier()\n",
    ")\n",
    "\n",
    "bagging_model = BaggingClassifier(base_model, n_estimators=10, max_samples=0.5, max_features=0.5)"
   ]
  },
  {
   "cell_type": "code",
   "execution_count": 16,
   "id": "f906ebdb",
   "metadata": {},
   "outputs": [
    {
     "name": "stdout",
     "output_type": "stream",
     "text": [
      "avg fit time : 0.00142364501953125 (+/- 0.0008537683683582184)\n",
      "avg score time : 0.010377311706542968 (+/- 0.006998926483571368)\n",
      "avg test score : 0.9648501785437045 (+/- 0.009609970350036127)\n"
     ]
    }
   ],
   "source": [
    "cross_val = cross_validate(\n",
    "    estimator=base_model,\n",
    "    X=cancer.data, y=cancer.target,\n",
    "    cv=5\n",
    ")\n",
    "print(\"avg fit time : {} (+/- {})\".format(cross_val[\"fit_time\"].mean(), cross_val[\"fit_time\"].std()))\n",
    "print(\"avg score time : {} (+/- {})\".format(cross_val[\"score_time\"].mean(), cross_val[\"score_time\"].std()))\n",
    "print(\"avg test score : {} (+/- {})\".format(cross_val[\"test_score\"].mean(), cross_val[\"test_score\"].std()))"
   ]
  },
  {
   "cell_type": "code",
   "execution_count": 17,
   "id": "1e378484",
   "metadata": {},
   "outputs": [
    {
     "name": "stdout",
     "output_type": "stream",
     "text": [
      "avg fit time : 0.022642898559570312 (+/- 0.03019439011825988)\n",
      "avg score time : 0.005859231948852539 (+/- 0.0006572396990652549)\n",
      "avg test score : 0.9648501785437045 (+/- 0.005549245701079563)\n"
     ]
    }
   ],
   "source": [
    "cross_val = cross_validate(\n",
    "    estimator=bagging_model,\n",
    "    X=cancer.data, y=cancer.target,\n",
    "    cv=5\n",
    ")\n",
    "print(\"avg fit time : {} (+/- {})\".format(cross_val[\"fit_time\"].mean(), cross_val[\"fit_time\"].std()))\n",
    "print(\"avg score time : {} (+/- {})\".format(cross_val[\"score_time\"].mean(), cross_val[\"score_time\"].std()))\n",
    "print(\"avg test score : {} (+/- {})\".format(cross_val[\"test_score\"].mean(), cross_val[\"test_score\"].std()))"
   ]
  },
  {
   "cell_type": "markdown",
   "id": "5d4078d3",
   "metadata": {},
   "source": [
    "#### SVC"
   ]
  },
  {
   "cell_type": "markdown",
   "id": "583aba45",
   "metadata": {},
   "source": [
    "##### 붓꽃 데이터"
   ]
  },
  {
   "cell_type": "code",
   "execution_count": 18,
   "id": "dfbeee7e",
   "metadata": {},
   "outputs": [],
   "source": [
    "base_model = make_pipeline(\n",
    "    StandardScaler(),\n",
    "    SVC()\n",
    ")\n",
    "\n",
    "bagging_model = BaggingClassifier(base_model, n_estimators=10, max_samples=0.5, max_features=0.5)"
   ]
  },
  {
   "cell_type": "code",
   "execution_count": 19,
   "id": "79e75852",
   "metadata": {},
   "outputs": [
    {
     "name": "stdout",
     "output_type": "stream",
     "text": [
      "avg fit time : 0.002055978775024414 (+/- 0.0010457669272601476)\n",
      "avg score time : 0.0006916999816894531 (+/- 0.0002241628369265914)\n",
      "avg test score : 0.9666666666666666 (+/- 0.02108185106778919)\n"
     ]
    }
   ],
   "source": [
    "cross_val = cross_validate(\n",
    "    estimator=base_model,\n",
    "    X=iris.data, y=iris.target,\n",
    "    cv=5\n",
    ")\n",
    "print(\"avg fit time : {} (+/- {})\".format(cross_val[\"fit_time\"].mean(), cross_val[\"fit_time\"].std()))\n",
    "print(\"avg score time : {} (+/- {})\".format(cross_val[\"score_time\"].mean(), cross_val[\"score_time\"].std()))\n",
    "print(\"avg test score : {} (+/- {})\".format(cross_val[\"test_score\"].mean(), cross_val[\"test_score\"].std()))"
   ]
  },
  {
   "cell_type": "code",
   "execution_count": 20,
   "id": "8eca657f",
   "metadata": {},
   "outputs": [
    {
     "name": "stdout",
     "output_type": "stream",
     "text": [
      "avg fit time : 0.017092466354370117 (+/- 0.0044032972652880645)\n",
      "avg score time : 0.0045321941375732425 (+/- 0.0004840945050530314)\n",
      "avg test score : 0.9666045645086168 (+/- 0.012901097440554028)\n"
     ]
    }
   ],
   "source": [
    "cross_val = cross_validate(\n",
    "    estimator=bagging_model,\n",
    "    X=cancer.data, y=cancer.target,\n",
    "    cv=5\n",
    ")\n",
    "print(\"avg fit time : {} (+/- {})\".format(cross_val[\"fit_time\"].mean(), cross_val[\"fit_time\"].std()))\n",
    "print(\"avg score time : {} (+/- {})\".format(cross_val[\"score_time\"].mean(), cross_val[\"score_time\"].std()))\n",
    "print(\"avg test score : {} (+/- {})\".format(cross_val[\"test_score\"].mean(), cross_val[\"test_score\"].std()))"
   ]
  },
  {
   "cell_type": "markdown",
   "id": "4bbab0f3",
   "metadata": {},
   "source": [
    "##### 와인 데이터"
   ]
  },
  {
   "cell_type": "code",
   "execution_count": 21,
   "id": "4d2c7834",
   "metadata": {},
   "outputs": [],
   "source": [
    "base_model = make_pipeline(\n",
    "    StandardScaler(),\n",
    "    SVC()\n",
    ")\n",
    "\n",
    "bagging_model = BaggingClassifier(base_model, n_estimators=10, max_samples=0.5, max_features=0.5)"
   ]
  },
  {
   "cell_type": "code",
   "execution_count": 22,
   "id": "19308511",
   "metadata": {},
   "outputs": [
    {
     "name": "stdout",
     "output_type": "stream",
     "text": [
      "avg fit time : 0.0023026466369628906 (+/- 0.000400953054785292)\n",
      "avg score time : 0.0008338451385498047 (+/- 8.564831644019779e-05)\n",
      "avg test score : 0.9833333333333334 (+/- 0.022222222222222233)\n"
     ]
    }
   ],
   "source": [
    "cross_val = cross_validate(\n",
    "    estimator=base_model,\n",
    "    X=wine.data, y=wine.target,\n",
    "    cv=5\n",
    ")\n",
    "print(\"avg fit time : {} (+/- {})\".format(cross_val[\"fit_time\"].mean(), cross_val[\"fit_time\"].std()))\n",
    "print(\"avg score time : {} (+/- {})\".format(cross_val[\"score_time\"].mean(), cross_val[\"score_time\"].std()))\n",
    "print(\"avg test score : {} (+/- {})\".format(cross_val[\"test_score\"].mean(), cross_val[\"test_score\"].std()))"
   ]
  },
  {
   "cell_type": "code",
   "execution_count": 23,
   "id": "9337aa13",
   "metadata": {},
   "outputs": [
    {
     "name": "stdout",
     "output_type": "stream",
     "text": [
      "avg fit time : 0.01601419448852539 (+/- 0.006157265951380905)\n",
      "avg score time : 0.001936960220336914 (+/- 0.00038864148566427763)\n",
      "avg test score : 0.9665079365079364 (+/- 0.020746948644437477)\n"
     ]
    }
   ],
   "source": [
    "cross_val = cross_validate(\n",
    "    estimator=bagging_model,\n",
    "    X=wine.data, y=wine.target,\n",
    "    cv=5\n",
    ")\n",
    "print(\"avg fit time : {} (+/- {})\".format(cross_val[\"fit_time\"].mean(), cross_val[\"fit_time\"].std()))\n",
    "print(\"avg score time : {} (+/- {})\".format(cross_val[\"score_time\"].mean(), cross_val[\"score_time\"].std()))\n",
    "print(\"avg test score : {} (+/- {})\".format(cross_val[\"test_score\"].mean(), cross_val[\"test_score\"].std()))"
   ]
  },
  {
   "cell_type": "markdown",
   "id": "cf5c32d6",
   "metadata": {},
   "source": [
    "##### 유방암 데이터"
   ]
  },
  {
   "cell_type": "code",
   "execution_count": 24,
   "id": "50af0569",
   "metadata": {},
   "outputs": [],
   "source": [
    "base_model = make_pipeline(\n",
    "    StandardScaler(),\n",
    "    SVC()\n",
    ")\n",
    "\n",
    "bagging_model = BaggingClassifier(base_model, n_estimators=10, max_samples=0.5, max_features=0.5)"
   ]
  },
  {
   "cell_type": "code",
   "execution_count": 25,
   "id": "593a2373",
   "metadata": {},
   "outputs": [
    {
     "name": "stdout",
     "output_type": "stream",
     "text": [
      "avg fit time : 0.0037891387939453123 (+/- 0.0020459864792854764)\n",
      "avg score time : 0.0012862205505371094 (+/- 0.0008267189777365049)\n",
      "avg test score : 0.9736376339077782 (+/- 0.014678541667933545)\n"
     ]
    }
   ],
   "source": [
    "cross_val = cross_validate(\n",
    "    estimator=base_model,\n",
    "    X=cancer.data, y=cancer.target,\n",
    "    cv=5\n",
    ")\n",
    "print(\"avg fit time : {} (+/- {})\".format(cross_val[\"fit_time\"].mean(), cross_val[\"fit_time\"].std()))\n",
    "print(\"avg score time : {} (+/- {})\".format(cross_val[\"score_time\"].mean(), cross_val[\"score_time\"].std()))\n",
    "print(\"avg test score : {} (+/- {})\".format(cross_val[\"test_score\"].mean(), cross_val[\"test_score\"].std()))"
   ]
  },
  {
   "cell_type": "code",
   "execution_count": 26,
   "id": "73a356e3",
   "metadata": {},
   "outputs": [
    {
     "name": "stdout",
     "output_type": "stream",
     "text": [
      "avg fit time : 0.01792149543762207 (+/- 0.007245902452851581)\n",
      "avg score time : 0.004671049118041992 (+/- 0.0005456176006148764)\n",
      "avg test score : 0.9630957925787922 (+/- 0.014027872671634403)\n"
     ]
    }
   ],
   "source": [
    "cross_val = cross_validate(\n",
    "    estimator=bagging_model,\n",
    "    X=cancer.data, y=cancer.target,\n",
    "    cv=5\n",
    ")\n",
    "print(\"avg fit time : {} (+/- {})\".format(cross_val[\"fit_time\"].mean(), cross_val[\"fit_time\"].std()))\n",
    "print(\"avg score time : {} (+/- {})\".format(cross_val[\"score_time\"].mean(), cross_val[\"score_time\"].std()))\n",
    "print(\"avg test score : {} (+/- {})\".format(cross_val[\"test_score\"].mean(), cross_val[\"test_score\"].std()))"
   ]
  },
  {
   "cell_type": "markdown",
   "id": "f8cb90bb",
   "metadata": {},
   "source": [
    "#### Decision Tree"
   ]
  },
  {
   "cell_type": "markdown",
   "id": "da9d5bad",
   "metadata": {},
   "source": [
    "##### 붓꽃 데이터"
   ]
  },
  {
   "cell_type": "code",
   "execution_count": 27,
   "id": "0ebcf841",
   "metadata": {},
   "outputs": [],
   "source": [
    "base_model = make_pipeline(\n",
    "    StandardScaler(),\n",
    "    DecisionTreeClassifier()\n",
    ")\n",
    "\n",
    "bagging_model = BaggingClassifier(base_model, n_estimators=10, max_samples=0.5, max_features=0.5)"
   ]
  },
  {
   "cell_type": "code",
   "execution_count": 28,
   "id": "75818179",
   "metadata": {},
   "outputs": [
    {
     "name": "stdout",
     "output_type": "stream",
     "text": [
      "avg fit time : 0.0018534183502197266 (+/- 0.0010189442112240456)\n",
      "avg score time : 0.0004413604736328125 (+/- 0.00010705003759639017)\n",
      "avg test score : 0.9666666666666668 (+/- 0.036514837167011066)\n"
     ]
    }
   ],
   "source": [
    "cross_val = cross_validate(\n",
    "    estimator=base_model,\n",
    "    X=iris.data, y=iris.target,\n",
    "    cv=5\n",
    ")\n",
    "print(\"avg fit time : {} (+/- {})\".format(cross_val[\"fit_time\"].mean(), cross_val[\"fit_time\"].std()))\n",
    "print(\"avg score time : {} (+/- {})\".format(cross_val[\"score_time\"].mean(), cross_val[\"score_time\"].std()))\n",
    "print(\"avg test score : {} (+/- {})\".format(cross_val[\"test_score\"].mean(), cross_val[\"test_score\"].std()))"
   ]
  },
  {
   "cell_type": "code",
   "execution_count": 29,
   "id": "c7be50f6",
   "metadata": {},
   "outputs": [
    {
     "name": "stdout",
     "output_type": "stream",
     "text": [
      "avg fit time : 0.012614917755126954 (+/- 0.0049090418864234635)\n",
      "avg score time : 0.0008601188659667969 (+/- 7.65176711432489e-05)\n",
      "avg test score : 0.9466666666666665 (+/- 0.03399346342395189)\n"
     ]
    }
   ],
   "source": [
    "cross_val = cross_validate(\n",
    "    estimator=bagging_model,\n",
    "    X=iris.data, y=iris.target,\n",
    "    cv=5\n",
    ")\n",
    "print(\"avg fit time : {} (+/- {})\".format(cross_val[\"fit_time\"].mean(), cross_val[\"fit_time\"].std()))\n",
    "print(\"avg score time : {} (+/- {})\".format(cross_val[\"score_time\"].mean(), cross_val[\"score_time\"].std()))\n",
    "print(\"avg test score : {} (+/- {})\".format(cross_val[\"test_score\"].mean(), cross_val[\"test_score\"].std()))"
   ]
  },
  {
   "cell_type": "markdown",
   "id": "6087f5ed",
   "metadata": {},
   "source": [
    "##### 와인 데이터"
   ]
  },
  {
   "cell_type": "code",
   "execution_count": 30,
   "id": "3851d2cf",
   "metadata": {},
   "outputs": [],
   "source": [
    "base_model = make_pipeline(\n",
    "    StandardScaler(),\n",
    "    DecisionTreeClassifier()\n",
    ")\n",
    "\n",
    "bagging_model = BaggingClassifier(base_model, n_estimators=10, max_samples=0.5, max_features=0.5)"
   ]
  },
  {
   "cell_type": "code",
   "execution_count": 31,
   "id": "358860fc",
   "metadata": {},
   "outputs": [
    {
     "name": "stdout",
     "output_type": "stream",
     "text": [
      "avg fit time : 0.0017827987670898438 (+/- 0.00023741619154321326)\n",
      "avg score time : 0.0003842353820800781 (+/- 8.3945363579487e-05)\n",
      "avg test score : 0.8709523809523809 (+/- 0.051305948266633)\n"
     ]
    }
   ],
   "source": [
    "cross_val = cross_validate(\n",
    "    estimator=base_model,\n",
    "    X=wine.data, y=wine.target,\n",
    "    cv=5\n",
    ")\n",
    "print(\"avg fit time : {} (+/- {})\".format(cross_val[\"fit_time\"].mean(), cross_val[\"fit_time\"].std()))\n",
    "print(\"avg score time : {} (+/- {})\".format(cross_val[\"score_time\"].mean(), cross_val[\"score_time\"].std()))\n",
    "print(\"avg test score : {} (+/- {})\".format(cross_val[\"test_score\"].mean(), cross_val[\"test_score\"].std()))"
   ]
  },
  {
   "cell_type": "code",
   "execution_count": 32,
   "id": "b3b20f77",
   "metadata": {},
   "outputs": [
    {
     "name": "stdout",
     "output_type": "stream",
     "text": [
      "avg fit time : 0.013465785980224609 (+/- 0.004857615911885542)\n",
      "avg score time : 0.0009153842926025391 (+/- 5.1288175598823304e-05)\n",
      "avg test score : 0.9553968253968254 (+/- 0.037610674843479096)\n"
     ]
    }
   ],
   "source": [
    "cross_val = cross_validate(\n",
    "    estimator=bagging_model,\n",
    "    X=wine.data, y=wine.target,\n",
    "    cv=5\n",
    ")\n",
    "print(\"avg fit time : {} (+/- {})\".format(cross_val[\"fit_time\"].mean(), cross_val[\"fit_time\"].std()))\n",
    "print(\"avg score time : {} (+/- {})\".format(cross_val[\"score_time\"].mean(), cross_val[\"score_time\"].std()))\n",
    "print(\"avg test score : {} (+/- {})\".format(cross_val[\"test_score\"].mean(), cross_val[\"test_score\"].std()))"
   ]
  },
  {
   "cell_type": "markdown",
   "id": "f9b58426",
   "metadata": {},
   "source": [
    "##### 유방암 데이터"
   ]
  },
  {
   "cell_type": "code",
   "execution_count": 33,
   "id": "07b30723",
   "metadata": {},
   "outputs": [],
   "source": [
    "base_model = make_pipeline(\n",
    "    StandardScaler(),\n",
    "    DecisionTreeClassifier()\n",
    ")\n",
    "\n",
    "bagging_model = BaggingClassifier(base_model, n_estimators=10, max_samples=0.5, max_features=0.5)"
   ]
  },
  {
   "cell_type": "code",
   "execution_count": 34,
   "id": "b28c6688",
   "metadata": {},
   "outputs": [
    {
     "name": "stdout",
     "output_type": "stream",
     "text": [
      "avg fit time : 0.007410192489624023 (+/- 0.0011814101746197376)\n",
      "avg score time : 0.00040678977966308595 (+/- 0.00017386566950672606)\n",
      "avg test score : 0.9208818506443098 (+/- 0.011367663900812813)\n"
     ]
    }
   ],
   "source": [
    "cross_val = cross_validate(\n",
    "    estimator=base_model,\n",
    "    X=cancer.data, y=cancer.target,\n",
    "    cv=5\n",
    ")\n",
    "print(\"avg fit time : {} (+/- {})\".format(cross_val[\"fit_time\"].mean(), cross_val[\"fit_time\"].std()))\n",
    "print(\"avg score time : {} (+/- {})\".format(cross_val[\"score_time\"].mean(), cross_val[\"score_time\"].std()))\n",
    "print(\"avg test score : {} (+/- {})\".format(cross_val[\"test_score\"].mean(), cross_val[\"test_score\"].std()))"
   ]
  },
  {
   "cell_type": "code",
   "execution_count": 35,
   "id": "9e9c371b",
   "metadata": {},
   "outputs": [
    {
     "name": "stdout",
     "output_type": "stream",
     "text": [
      "avg fit time : 0.021436691284179688 (+/- 0.0075137363999600625)\n",
      "avg score time : 0.0010018348693847656 (+/- 0.00023843569694103361)\n",
      "avg test score : 0.952585002328831 (+/- 0.01305405236401316)\n"
     ]
    }
   ],
   "source": [
    "cross_val = cross_validate(\n",
    "    estimator=bagging_model,\n",
    "    X=cancer.data, y=cancer.target,\n",
    "    cv=5\n",
    ")\n",
    "print(\"avg fit time : {} (+/- {})\".format(cross_val[\"fit_time\"].mean(), cross_val[\"fit_time\"].std()))\n",
    "print(\"avg score time : {} (+/- {})\".format(cross_val[\"score_time\"].mean(), cross_val[\"score_time\"].std()))\n",
    "print(\"avg test score : {} (+/- {})\".format(cross_val[\"test_score\"].mean(), cross_val[\"test_score\"].std()))"
   ]
  },
  {
   "cell_type": "markdown",
   "id": "5350ef92",
   "metadata": {},
   "source": [
    "### Bagging을 사용한 회귀"
   ]
  },
  {
   "cell_type": "markdown",
   "id": "576a375c",
   "metadata": {},
   "source": [
    "#### 데이터셋 불러오기"
   ]
  },
  {
   "cell_type": "code",
   "execution_count": 38,
   "id": "cb9d4a79",
   "metadata": {},
   "outputs": [],
   "source": [
    "boston = load_boston()\n",
    "diabetes = load_diabetes()"
   ]
  },
  {
   "cell_type": "markdown",
   "id": "95d2d418",
   "metadata": {},
   "source": [
    "#### KNN"
   ]
  },
  {
   "cell_type": "markdown",
   "id": "96b5c32f",
   "metadata": {},
   "source": [
    "##### 보스턴 주택 가격 데이터"
   ]
  },
  {
   "cell_type": "code",
   "execution_count": 43,
   "id": "6c09dc5b",
   "metadata": {},
   "outputs": [],
   "source": [
    "base_model = make_pipeline(\n",
    "    StandardScaler(),\n",
    "    KNeighborsRegressor()\n",
    ")\n",
    "\n",
    "bagging_model = BaggingRegressor(base_model, n_estimators=10, max_samples=0.5, max_features=0.5)"
   ]
  },
  {
   "cell_type": "code",
   "execution_count": 44,
   "id": "bc2500a1",
   "metadata": {},
   "outputs": [
    {
     "name": "stdout",
     "output_type": "stream",
     "text": [
      "avg fit time : 0.001759815216064453 (+/- 0.0007601353762795599)\n",
      "avg score time : 0.0023005008697509766 (+/- 0.000883677845604637)\n",
      "avg test score : 0.47357748833823543 (+/- 0.13243123464477455)\n"
     ]
    }
   ],
   "source": [
    "cross_val = cross_validate(\n",
    "    estimator=base_model,\n",
    "    X=boston.data, y=boston.target,\n",
    "    cv=5\n",
    ")\n",
    "print(\"avg fit time : {} (+/- {})\".format(cross_val[\"fit_time\"].mean(), cross_val[\"fit_time\"].std()))\n",
    "print(\"avg score time : {} (+/- {})\".format(cross_val[\"score_time\"].mean(), cross_val[\"score_time\"].std()))\n",
    "print(\"avg test score : {} (+/- {})\".format(cross_val[\"test_score\"].mean(), cross_val[\"test_score\"].std()))"
   ]
  },
  {
   "cell_type": "code",
   "execution_count": 45,
   "id": "d5cf06f4",
   "metadata": {},
   "outputs": [
    {
     "name": "stdout",
     "output_type": "stream",
     "text": [
      "avg fit time : 0.010712766647338867 (+/- 0.0058968633192018165)\n",
      "avg score time : 0.003631258010864258 (+/- 0.00024809881789860305)\n",
      "avg test score : 0.4992203990238428 (+/- 0.1214285724303666)\n"
     ]
    }
   ],
   "source": [
    "cross_val = cross_validate(\n",
    "    estimator=bagging_model,\n",
    "    X=boston.data, y=boston.target,\n",
    "    cv=5\n",
    ")\n",
    "print(\"avg fit time : {} (+/- {})\".format(cross_val[\"fit_time\"].mean(), cross_val[\"fit_time\"].std()))\n",
    "print(\"avg score time : {} (+/- {})\".format(cross_val[\"score_time\"].mean(), cross_val[\"score_time\"].std()))\n",
    "print(\"avg test score : {} (+/- {})\".format(cross_val[\"test_score\"].mean(), cross_val[\"test_score\"].std()))"
   ]
  },
  {
   "cell_type": "markdown",
   "id": "2d20ec8f",
   "metadata": {},
   "source": [
    "##### 당뇨병 데이터"
   ]
  },
  {
   "cell_type": "code",
   "execution_count": 46,
   "id": "23e910ee",
   "metadata": {},
   "outputs": [],
   "source": [
    "base_model = make_pipeline(\n",
    "    StandardScaler(),\n",
    "    KNeighborsRegressor()\n",
    ")\n",
    "\n",
    "bagging_model = BaggingRegressor(base_model, n_estimators=10, max_samples=0.5, max_features=0.5)"
   ]
  },
  {
   "cell_type": "code",
   "execution_count": 47,
   "id": "ac42ce62",
   "metadata": {},
   "outputs": [
    {
     "name": "stdout",
     "output_type": "stream",
     "text": [
      "avg fit time : 0.0017104148864746094 (+/- 0.0008435605533813964)\n",
      "avg score time : 0.0018630027770996094 (+/- 0.0004943005392948625)\n",
      "avg test score : 0.3689720650295623 (+/- 0.044659049060165365)\n"
     ]
    }
   ],
   "source": [
    "cross_val = cross_validate(\n",
    "    estimator=base_model,\n",
    "    X=diabetes.data, y=diabetes.target,\n",
    "    cv=5\n",
    ")\n",
    "print(\"avg fit time : {} (+/- {})\".format(cross_val[\"fit_time\"].mean(), cross_val[\"fit_time\"].std()))\n",
    "print(\"avg score time : {} (+/- {})\".format(cross_val[\"score_time\"].mean(), cross_val[\"score_time\"].std()))\n",
    "print(\"avg test score : {} (+/- {})\".format(cross_val[\"test_score\"].mean(), cross_val[\"test_score\"].std()))"
   ]
  },
  {
   "cell_type": "code",
   "execution_count": 48,
   "id": "8910b04f",
   "metadata": {},
   "outputs": [
    {
     "name": "stdout",
     "output_type": "stream",
     "text": [
      "avg fit time : 0.010668373107910157 (+/- 0.005990193967423894)\n",
      "avg score time : 0.0038419723510742187 (+/- 0.0005258139926263126)\n",
      "avg test score : 0.3965541729094708 (+/- 0.06995635450284457)\n"
     ]
    }
   ],
   "source": [
    "cross_val = cross_validate(\n",
    "    estimator=bagging_model,\n",
    "    X=diabetes.data, y=diabetes.target,\n",
    "    cv=5\n",
    ")\n",
    "print(\"avg fit time : {} (+/- {})\".format(cross_val[\"fit_time\"].mean(), cross_val[\"fit_time\"].std()))\n",
    "print(\"avg score time : {} (+/- {})\".format(cross_val[\"score_time\"].mean(), cross_val[\"score_time\"].std()))\n",
    "print(\"avg test score : {} (+/- {})\".format(cross_val[\"test_score\"].mean(), cross_val[\"test_score\"].std()))"
   ]
  },
  {
   "cell_type": "markdown",
   "id": "d34c722f",
   "metadata": {},
   "source": [
    "#### SVR"
   ]
  },
  {
   "cell_type": "markdown",
   "id": "646ff86a",
   "metadata": {},
   "source": [
    "##### 보스턴 주택 가격 데이터"
   ]
  },
  {
   "cell_type": "code",
   "execution_count": 49,
   "id": "59d7ebe4",
   "metadata": {},
   "outputs": [],
   "source": [
    "base_model = make_pipeline(\n",
    "    StandardScaler(),\n",
    "    SVR()\n",
    ")\n",
    "\n",
    "bagging_model = BaggingRegressor(base_model, n_estimators=10, max_samples=0.5, max_features=0.5)"
   ]
  },
  {
   "cell_type": "code",
   "execution_count": 50,
   "id": "6f4422a6",
   "metadata": {},
   "outputs": [
    {
     "name": "stdout",
     "output_type": "stream",
     "text": [
      "avg fit time : 0.0069140434265136715 (+/- 0.004441731086414138)\n",
      "avg score time : 0.0018841743469238282 (+/- 0.00011062348707702104)\n",
      "avg test score : 0.17631266230186604 (+/- 0.522491491512898)\n"
     ]
    }
   ],
   "source": [
    "cross_val = cross_validate(\n",
    "    estimator=base_model,\n",
    "    X=boston.data, y=boston.target,\n",
    "    cv=5\n",
    ")\n",
    "print(\"avg fit time : {} (+/- {})\".format(cross_val[\"fit_time\"].mean(), cross_val[\"fit_time\"].std()))\n",
    "print(\"avg score time : {} (+/- {})\".format(cross_val[\"score_time\"].mean(), cross_val[\"score_time\"].std()))\n",
    "print(\"avg test score : {} (+/- {})\".format(cross_val[\"test_score\"].mean(), cross_val[\"test_score\"].std()))"
   ]
  },
  {
   "cell_type": "code",
   "execution_count": 51,
   "id": "3357739b",
   "metadata": {},
   "outputs": [
    {
     "name": "stdout",
     "output_type": "stream",
     "text": [
      "avg fit time : 0.01911478042602539 (+/- 0.005144104398862236)\n",
      "avg score time : 0.008036947250366211 (+/- 0.0005520189054432421)\n",
      "avg test score : 0.09298838255918784 (+/- 0.3602102434602145)\n"
     ]
    }
   ],
   "source": [
    "cross_val = cross_validate(\n",
    "    estimator=bagging_model,\n",
    "    X=boston.data, y=boston.target,\n",
    "    cv=5\n",
    ")\n",
    "print(\"avg fit time : {} (+/- {})\".format(cross_val[\"fit_time\"].mean(), cross_val[\"fit_time\"].std()))\n",
    "print(\"avg score time : {} (+/- {})\".format(cross_val[\"score_time\"].mean(), cross_val[\"score_time\"].std()))\n",
    "print(\"avg test score : {} (+/- {})\".format(cross_val[\"test_score\"].mean(), cross_val[\"test_score\"].std()))"
   ]
  },
  {
   "cell_type": "markdown",
   "id": "381f31ee",
   "metadata": {},
   "source": [
    "##### 당뇨병 데이터"
   ]
  },
  {
   "cell_type": "code",
   "execution_count": 52,
   "id": "3538827f",
   "metadata": {},
   "outputs": [],
   "source": [
    "base_model = make_pipeline(\n",
    "    StandardScaler(),\n",
    "    SVR()\n",
    ")\n",
    "\n",
    "bagging_model = BaggingRegressor(base_model, n_estimators=10, max_samples=0.5, max_features=0.5)"
   ]
  },
  {
   "cell_type": "code",
   "execution_count": 53,
   "id": "6369a603",
   "metadata": {},
   "outputs": [
    {
     "name": "stdout",
     "output_type": "stream",
     "text": [
      "avg fit time : 0.005385637283325195 (+/- 0.0037336164994106746)\n",
      "avg score time : 0.0017621994018554687 (+/- 0.0003587677084303775)\n",
      "avg test score : 0.14659936199629436 (+/- 0.02190798003342926)\n"
     ]
    }
   ],
   "source": [
    "cross_val = cross_validate(\n",
    "    estimator=base_model,\n",
    "    X=diabetes.data, y=diabetes.target,\n",
    "    cv=5\n",
    ")\n",
    "print(\"avg fit time : {} (+/- {})\".format(cross_val[\"fit_time\"].mean(), cross_val[\"fit_time\"].std()))\n",
    "print(\"avg score time : {} (+/- {})\".format(cross_val[\"score_time\"].mean(), cross_val[\"score_time\"].std()))\n",
    "print(\"avg test score : {} (+/- {})\".format(cross_val[\"test_score\"].mean(), cross_val[\"test_score\"].std()))"
   ]
  },
  {
   "cell_type": "code",
   "execution_count": 54,
   "id": "d0113c66",
   "metadata": {},
   "outputs": [
    {
     "name": "stdout",
     "output_type": "stream",
     "text": [
      "avg fit time : 0.016515588760375975 (+/- 0.005617482051999203)\n",
      "avg score time : 0.006556844711303711 (+/- 0.0007055688002283409)\n",
      "avg test score : 0.059949307360234315 (+/- 0.032604381868061215)\n"
     ]
    }
   ],
   "source": [
    "cross_val = cross_validate(\n",
    "    estimator=bagging_model,\n",
    "    X=diabetes.data, y=diabetes.target,\n",
    "    cv=5\n",
    ")\n",
    "print(\"avg fit time : {} (+/- {})\".format(cross_val[\"fit_time\"].mean(), cross_val[\"fit_time\"].std()))\n",
    "print(\"avg score time : {} (+/- {})\".format(cross_val[\"score_time\"].mean(), cross_val[\"score_time\"].std()))\n",
    "print(\"avg test score : {} (+/- {})\".format(cross_val[\"test_score\"].mean(), cross_val[\"test_score\"].std()))"
   ]
  },
  {
   "cell_type": "markdown",
   "id": "e0dc6bed",
   "metadata": {},
   "source": [
    "#### Decision Tree"
   ]
  },
  {
   "cell_type": "markdown",
   "id": "3bc90373",
   "metadata": {},
   "source": [
    "##### 보스턴 주택 가격 데이터"
   ]
  },
  {
   "cell_type": "code",
   "execution_count": 55,
   "id": "17e7977b",
   "metadata": {},
   "outputs": [],
   "source": [
    "base_model = make_pipeline(\n",
    "    StandardScaler(),\n",
    "    DecisionTreeRegressor()\n",
    ")\n",
    "\n",
    "bagging_model = BaggingRegressor(base_model, n_estimators=10, max_samples=0.5, max_features=0.5)"
   ]
  },
  {
   "cell_type": "code",
   "execution_count": 56,
   "id": "5f05b401",
   "metadata": {},
   "outputs": [
    {
     "name": "stdout",
     "output_type": "stream",
     "text": [
      "avg fit time : 0.004807615280151367 (+/- 0.0007538427293245176)\n",
      "avg score time : 0.000522613525390625 (+/- 0.0001848177397565174)\n",
      "avg test score : 0.10468765942368866 (+/- 0.9851980767138045)\n"
     ]
    }
   ],
   "source": [
    "cross_val = cross_validate(\n",
    "    estimator=base_model,\n",
    "    X=boston.data, y=boston.target,\n",
    "    cv=5\n",
    ")\n",
    "print(\"avg fit time : {} (+/- {})\".format(cross_val[\"fit_time\"].mean(), cross_val[\"fit_time\"].std()))\n",
    "print(\"avg score time : {} (+/- {})\".format(cross_val[\"score_time\"].mean(), cross_val[\"score_time\"].std()))\n",
    "print(\"avg test score : {} (+/- {})\".format(cross_val[\"test_score\"].mean(), cross_val[\"test_score\"].std()))"
   ]
  },
  {
   "cell_type": "code",
   "execution_count": 57,
   "id": "9ea2de1c",
   "metadata": {},
   "outputs": [
    {
     "name": "stdout",
     "output_type": "stream",
     "text": [
      "avg fit time : 0.015772294998168946 (+/- 0.005013588892850026)\n",
      "avg score time : 0.0008565425872802734 (+/- 9.608932500587256e-05)\n",
      "avg test score : 0.4362717068043554 (+/- 0.4121217955791576)\n"
     ]
    }
   ],
   "source": [
    "cross_val = cross_validate(\n",
    "    estimator=bagging_model,\n",
    "    X=boston.data, y=boston.target,\n",
    "    cv=5\n",
    ")\n",
    "print(\"avg fit time : {} (+/- {})\".format(cross_val[\"fit_time\"].mean(), cross_val[\"fit_time\"].std()))\n",
    "print(\"avg score time : {} (+/- {})\".format(cross_val[\"score_time\"].mean(), cross_val[\"score_time\"].std()))\n",
    "print(\"avg test score : {} (+/- {})\".format(cross_val[\"test_score\"].mean(), cross_val[\"test_score\"].std()))"
   ]
  },
  {
   "cell_type": "markdown",
   "id": "4a6a163a",
   "metadata": {},
   "source": [
    "##### 당뇨병 데이터"
   ]
  },
  {
   "cell_type": "code",
   "execution_count": 58,
   "id": "813b1da5",
   "metadata": {},
   "outputs": [],
   "source": [
    "base_model = make_pipeline(\n",
    "    StandardScaler(),\n",
    "    DecisionTreeRegressor()\n",
    ")\n",
    "\n",
    "bagging_model = BaggingRegressor(base_model, n_estimators=10, max_samples=0.5, max_features=0.5)"
   ]
  },
  {
   "cell_type": "code",
   "execution_count": 59,
   "id": "bec52452",
   "metadata": {},
   "outputs": [
    {
     "name": "stdout",
     "output_type": "stream",
     "text": [
      "avg fit time : 0.0034531116485595702 (+/- 0.0008152977655261128)\n",
      "avg score time : 0.0004782676696777344 (+/- 0.00017816661652187134)\n",
      "avg test score : -0.12439887092799551 (+/- 0.10497244792854409)\n"
     ]
    }
   ],
   "source": [
    "cross_val = cross_validate(\n",
    "    estimator=base_model,\n",
    "    X=diabetes.data, y=diabetes.target,\n",
    "    cv=5\n",
    ")\n",
    "print(\"avg fit time : {} (+/- {})\".format(cross_val[\"fit_time\"].mean(), cross_val[\"fit_time\"].std()))\n",
    "print(\"avg score time : {} (+/- {})\".format(cross_val[\"score_time\"].mean(), cross_val[\"score_time\"].std()))\n",
    "print(\"avg test score : {} (+/- {})\".format(cross_val[\"test_score\"].mean(), cross_val[\"test_score\"].std()))"
   ]
  },
  {
   "cell_type": "code",
   "execution_count": 60,
   "id": "2ae185eb",
   "metadata": {},
   "outputs": [
    {
     "name": "stdout",
     "output_type": "stream",
     "text": [
      "avg fit time : 0.015687036514282226 (+/- 0.005207596405584561)\n",
      "avg score time : 0.0009302139282226562 (+/- 0.00014515768971402234)\n",
      "avg test score : 0.37104467453420403 (+/- 0.06169126426439304)\n"
     ]
    }
   ],
   "source": [
    "cross_val = cross_validate(\n",
    "    estimator=bagging_model,\n",
    "    X=diabetes.data, y=diabetes.target,\n",
    "    cv=5\n",
    ")\n",
    "print(\"avg fit time : {} (+/- {})\".format(cross_val[\"fit_time\"].mean(), cross_val[\"fit_time\"].std()))\n",
    "print(\"avg score time : {} (+/- {})\".format(cross_val[\"score_time\"].mean(), cross_val[\"score_time\"].std()))\n",
    "print(\"avg test score : {} (+/- {})\".format(cross_val[\"test_score\"].mean(), cross_val[\"test_score\"].std()))"
   ]
  },
  {
   "cell_type": "markdown",
   "id": "7acc989a",
   "metadata": {},
   "source": [
    "## Forests of randomized trees\n",
    "\n",
    "* `sklearn.ensemble` 모듈에는 무작위 결정 트리를 기반으로하는 두 개의 평균화 알고리즘이 존재\n",
    "  * Random Forest\n",
    "  * Extra-Trees\n",
    "* 모델 구성에 임의성을 추가해 다양한 모델 집합이 생성\n",
    "* 앙상블 모델의 예측은 각 모델의 평균"
   ]
  },
  {
   "cell_type": "code",
   "execution_count": null,
   "id": "e1e7fad0",
   "metadata": {},
   "outputs": [],
   "source": []
  },
  {
   "cell_type": "markdown",
   "id": "141936ec",
   "metadata": {},
   "source": [
    "### Random Forests 분류"
   ]
  },
  {
   "cell_type": "code",
   "execution_count": null,
   "id": "ef6fe8bc",
   "metadata": {},
   "outputs": [],
   "source": []
  },
  {
   "cell_type": "code",
   "execution_count": null,
   "id": "795371c1",
   "metadata": {},
   "outputs": [],
   "source": []
  },
  {
   "cell_type": "code",
   "execution_count": null,
   "id": "d85932a2",
   "metadata": {},
   "outputs": [],
   "source": []
  },
  {
   "cell_type": "code",
   "execution_count": null,
   "id": "62621a2a",
   "metadata": {},
   "outputs": [],
   "source": []
  },
  {
   "cell_type": "markdown",
   "id": "564f364e",
   "metadata": {},
   "source": [
    "### Random Forests 회귀"
   ]
  },
  {
   "cell_type": "code",
   "execution_count": null,
   "id": "177b5938",
   "metadata": {},
   "outputs": [],
   "source": []
  },
  {
   "cell_type": "code",
   "execution_count": null,
   "id": "3fc2e340",
   "metadata": {},
   "outputs": [],
   "source": []
  },
  {
   "cell_type": "code",
   "execution_count": null,
   "id": "835b5528",
   "metadata": {},
   "outputs": [],
   "source": []
  },
  {
   "cell_type": "markdown",
   "id": "550af421",
   "metadata": {},
   "source": [
    "### Extremely Randomized Trees 분류"
   ]
  },
  {
   "cell_type": "code",
   "execution_count": null,
   "id": "29ca4d75",
   "metadata": {},
   "outputs": [],
   "source": []
  },
  {
   "cell_type": "code",
   "execution_count": null,
   "id": "9426f98a",
   "metadata": {},
   "outputs": [],
   "source": []
  },
  {
   "cell_type": "code",
   "execution_count": null,
   "id": "9ee056b7",
   "metadata": {},
   "outputs": [],
   "source": []
  },
  {
   "cell_type": "code",
   "execution_count": null,
   "id": "5a761f6f",
   "metadata": {},
   "outputs": [],
   "source": []
  },
  {
   "cell_type": "markdown",
   "id": "dcf17aae",
   "metadata": {},
   "source": [
    "### Extremely Randomized Trees 회귀"
   ]
  },
  {
   "cell_type": "code",
   "execution_count": null,
   "id": "997b77d9",
   "metadata": {},
   "outputs": [],
   "source": []
  },
  {
   "cell_type": "code",
   "execution_count": null,
   "id": "cfc8843a",
   "metadata": {},
   "outputs": [],
   "source": []
  },
  {
   "cell_type": "code",
   "execution_count": null,
   "id": "63eaa100",
   "metadata": {},
   "outputs": [],
   "source": []
  },
  {
   "cell_type": "markdown",
   "id": "4eec3dd0",
   "metadata": {},
   "source": [
    "### Random Forest, Extra Tree 시각화\n",
    "\n",
    "* 결정 트리, Random Forest, Extra Tree의 결정 경계와 회귀식 시각화"
   ]
  },
  {
   "cell_type": "code",
   "execution_count": null,
   "id": "892c5c3f",
   "metadata": {},
   "outputs": [],
   "source": []
  },
  {
   "cell_type": "code",
   "execution_count": null,
   "id": "c9de0e6d",
   "metadata": {},
   "outputs": [],
   "source": []
  },
  {
   "cell_type": "code",
   "execution_count": null,
   "id": "69938aba",
   "metadata": {},
   "outputs": [],
   "source": []
  },
  {
   "cell_type": "code",
   "execution_count": null,
   "id": "fa23edbb",
   "metadata": {},
   "outputs": [],
   "source": []
  },
  {
   "cell_type": "code",
   "execution_count": null,
   "id": "2cce75d4",
   "metadata": {},
   "outputs": [],
   "source": []
  },
  {
   "cell_type": "code",
   "execution_count": null,
   "id": "b1c0e882",
   "metadata": {},
   "outputs": [],
   "source": []
  },
  {
   "cell_type": "markdown",
   "id": "01d8dd1e",
   "metadata": {},
   "source": [
    "## AdaBoost\n",
    "\n",
    "* 대표적인 부스팅 알고리즘\n",
    "* 일련의 약한 모델들을 학습\n",
    "* 수정된 버전의 데이터를 반복 학습 (가중치가 적용된)\n",
    "* 가중치 투표(또는 합)을 통해 각 모델의 예측 값을 결합\n",
    "* 첫 단계에서는 원본 데이터를 학습하고 연속적인 반복마다 개별 샘플에 대한 가중치가 수정되고 다시 모델이 학습\n",
    "  * 잘못 예측된 샘플은 가중치 증가, 올바르게 예측된 샘플은 가중치 감소\n",
    "  * 각각의 약한 모델들은 예측하기 어려운 샘플에 집중하게 됨\n",
    "\n",
    "![AdaBoost](https://scikit-learn.org/stable/_images/sphx_glr_plot_adaboost_hastie_10_2_0011.png)"
   ]
  },
  {
   "cell_type": "code",
   "execution_count": null,
   "id": "0a7bf42d",
   "metadata": {},
   "outputs": [],
   "source": []
  },
  {
   "cell_type": "markdown",
   "id": "2f073922",
   "metadata": {},
   "source": [
    "### AdaBoost 분류"
   ]
  },
  {
   "cell_type": "code",
   "execution_count": null,
   "id": "009eb6ec",
   "metadata": {},
   "outputs": [],
   "source": []
  },
  {
   "cell_type": "code",
   "execution_count": null,
   "id": "78411efb",
   "metadata": {},
   "outputs": [],
   "source": []
  },
  {
   "cell_type": "code",
   "execution_count": null,
   "id": "8662dd13",
   "metadata": {},
   "outputs": [],
   "source": []
  },
  {
   "cell_type": "code",
   "execution_count": null,
   "id": "2d10283a",
   "metadata": {},
   "outputs": [],
   "source": []
  },
  {
   "cell_type": "markdown",
   "id": "a60d31ab",
   "metadata": {},
   "source": [
    "### AdaBoost 회귀"
   ]
  },
  {
   "cell_type": "code",
   "execution_count": null,
   "id": "7baf516e",
   "metadata": {},
   "outputs": [],
   "source": []
  },
  {
   "cell_type": "code",
   "execution_count": null,
   "id": "6db5d4c8",
   "metadata": {},
   "outputs": [],
   "source": []
  },
  {
   "cell_type": "code",
   "execution_count": null,
   "id": "9c51559d",
   "metadata": {},
   "outputs": [],
   "source": []
  },
  {
   "cell_type": "markdown",
   "id": "fca5d7b3",
   "metadata": {},
   "source": [
    "## Gradient Tree Boosting\n",
    "\n",
    "* 임의의 차별화 가능한 손실함수로 일반화한 부스팅 알고리즘\n",
    "* 웹 검색, 분류 및 회귀 등 다양한 분야에서 모두 사용 가능"
   ]
  },
  {
   "cell_type": "code",
   "execution_count": null,
   "id": "4387d53c",
   "metadata": {},
   "outputs": [],
   "source": []
  },
  {
   "cell_type": "markdown",
   "id": "a5f434be",
   "metadata": {},
   "source": [
    "### Gradient Tree Boosting 분류"
   ]
  },
  {
   "cell_type": "code",
   "execution_count": null,
   "id": "0ba622b0",
   "metadata": {},
   "outputs": [],
   "source": []
  },
  {
   "cell_type": "code",
   "execution_count": null,
   "id": "7565ef77",
   "metadata": {},
   "outputs": [],
   "source": []
  },
  {
   "cell_type": "code",
   "execution_count": null,
   "id": "30219ac1",
   "metadata": {},
   "outputs": [],
   "source": []
  },
  {
   "cell_type": "code",
   "execution_count": null,
   "id": "8e321fde",
   "metadata": {},
   "outputs": [],
   "source": []
  },
  {
   "cell_type": "markdown",
   "id": "0e5e1d61",
   "metadata": {},
   "source": [
    "### Gradient Tree Boosting 회귀"
   ]
  },
  {
   "cell_type": "code",
   "execution_count": null,
   "id": "0b3197e1",
   "metadata": {},
   "outputs": [],
   "source": []
  },
  {
   "cell_type": "code",
   "execution_count": null,
   "id": "4ebed84a",
   "metadata": {},
   "outputs": [],
   "source": []
  },
  {
   "cell_type": "code",
   "execution_count": null,
   "id": "306f4e69",
   "metadata": {},
   "outputs": [],
   "source": []
  },
  {
   "cell_type": "markdown",
   "id": "9353319e",
   "metadata": {},
   "source": [
    "## 투표 기반 분류 (Voting Classifier)\n",
    "\n",
    "* 서로 다른 모델들의 결과를 투표를 통해 결합\n",
    "* 두가지 방법으로 투표 가능\n",
    "  * 가장 많이 예측된 클래스를 정답으로 채택 (hard voting)\n",
    "  * 예측된 확률의 가중치 평균 (soft voting)"
   ]
  },
  {
   "cell_type": "code",
   "execution_count": null,
   "id": "39c45648",
   "metadata": {},
   "outputs": [],
   "source": []
  },
  {
   "cell_type": "code",
   "execution_count": null,
   "id": "017fdb2c",
   "metadata": {},
   "outputs": [],
   "source": []
  },
  {
   "cell_type": "code",
   "execution_count": null,
   "id": "b9d5c052",
   "metadata": {},
   "outputs": [],
   "source": []
  },
  {
   "cell_type": "code",
   "execution_count": null,
   "id": "36dc5aea",
   "metadata": {},
   "outputs": [],
   "source": []
  },
  {
   "cell_type": "code",
   "execution_count": null,
   "id": "04a92afc",
   "metadata": {},
   "outputs": [],
   "source": []
  },
  {
   "cell_type": "markdown",
   "id": "3f6e04fd",
   "metadata": {},
   "source": [
    "### 결정 경계 시각화"
   ]
  },
  {
   "cell_type": "code",
   "execution_count": null,
   "id": "a0098f19",
   "metadata": {},
   "outputs": [],
   "source": []
  },
  {
   "cell_type": "code",
   "execution_count": null,
   "id": "55f0266e",
   "metadata": {},
   "outputs": [],
   "source": []
  },
  {
   "cell_type": "code",
   "execution_count": null,
   "id": "a142bbfb",
   "metadata": {},
   "outputs": [],
   "source": []
  },
  {
   "cell_type": "code",
   "execution_count": null,
   "id": "aa23aa4f",
   "metadata": {},
   "outputs": [],
   "source": []
  },
  {
   "cell_type": "code",
   "execution_count": null,
   "id": "f06f3928",
   "metadata": {},
   "outputs": [],
   "source": []
  },
  {
   "cell_type": "markdown",
   "id": "cafe8a14",
   "metadata": {},
   "source": [
    "## 투표 기반 회귀 (Voting Regressor)\n",
    "\n",
    "* 서로 다른 모델의 예측 값의 평균을 사용"
   ]
  },
  {
   "cell_type": "code",
   "execution_count": null,
   "id": "4ce97536",
   "metadata": {},
   "outputs": [],
   "source": []
  },
  {
   "cell_type": "code",
   "execution_count": null,
   "id": "efe1ae19",
   "metadata": {},
   "outputs": [],
   "source": []
  },
  {
   "cell_type": "code",
   "execution_count": null,
   "id": "25fa329b",
   "metadata": {},
   "outputs": [],
   "source": []
  },
  {
   "cell_type": "markdown",
   "id": "e25f4ab2",
   "metadata": {},
   "source": [
    "### 회귀식 시각화"
   ]
  },
  {
   "cell_type": "code",
   "execution_count": null,
   "id": "d7c6d18b",
   "metadata": {},
   "outputs": [],
   "source": []
  },
  {
   "cell_type": "code",
   "execution_count": null,
   "id": "1b138a9f",
   "metadata": {},
   "outputs": [],
   "source": []
  },
  {
   "cell_type": "code",
   "execution_count": null,
   "id": "8d4782c8",
   "metadata": {},
   "outputs": [],
   "source": []
  },
  {
   "cell_type": "code",
   "execution_count": null,
   "id": "3c37f682",
   "metadata": {},
   "outputs": [],
   "source": []
  },
  {
   "cell_type": "markdown",
   "id": "47adefc1",
   "metadata": {},
   "source": [
    "## 스택 일반화 (Stacked Generalization)\n",
    "\n",
    "* 각 모델의 예측 값을 최종 모델의 입력으로 사용\n",
    "* 모델의 편향을 줄이는데 효과적"
   ]
  },
  {
   "cell_type": "markdown",
   "id": "1b0d6b55",
   "metadata": {},
   "source": [
    "### 스택 회귀"
   ]
  },
  {
   "cell_type": "code",
   "execution_count": null,
   "id": "f76f9fdd",
   "metadata": {},
   "outputs": [],
   "source": []
  },
  {
   "cell_type": "code",
   "execution_count": null,
   "id": "3554996b",
   "metadata": {},
   "outputs": [],
   "source": []
  },
  {
   "cell_type": "code",
   "execution_count": null,
   "id": "aae3ec69",
   "metadata": {},
   "outputs": [],
   "source": []
  },
  {
   "cell_type": "code",
   "execution_count": null,
   "id": "70b8b5e9",
   "metadata": {},
   "outputs": [],
   "source": []
  },
  {
   "cell_type": "markdown",
   "id": "16cc6fc0",
   "metadata": {},
   "source": [
    "#### 회귀식 시각화"
   ]
  },
  {
   "cell_type": "code",
   "execution_count": null,
   "id": "1ca2e160",
   "metadata": {},
   "outputs": [],
   "source": []
  },
  {
   "cell_type": "code",
   "execution_count": null,
   "id": "253a9069",
   "metadata": {},
   "outputs": [],
   "source": []
  },
  {
   "cell_type": "code",
   "execution_count": null,
   "id": "87681a59",
   "metadata": {},
   "outputs": [],
   "source": []
  },
  {
   "cell_type": "markdown",
   "id": "c0797cd0",
   "metadata": {},
   "source": [
    "### 스택 분류"
   ]
  },
  {
   "cell_type": "code",
   "execution_count": null,
   "id": "d5099e2f",
   "metadata": {},
   "outputs": [],
   "source": []
  },
  {
   "cell_type": "code",
   "execution_count": null,
   "id": "43848dc5",
   "metadata": {},
   "outputs": [],
   "source": []
  },
  {
   "cell_type": "code",
   "execution_count": null,
   "id": "01cedc49",
   "metadata": {},
   "outputs": [],
   "source": []
  },
  {
   "cell_type": "code",
   "execution_count": null,
   "id": "5391da67",
   "metadata": {},
   "outputs": [],
   "source": []
  },
  {
   "cell_type": "markdown",
   "id": "0de7e878",
   "metadata": {},
   "source": [
    "#### 결정 경계 시각화"
   ]
  },
  {
   "cell_type": "code",
   "execution_count": null,
   "id": "42ab744b",
   "metadata": {},
   "outputs": [],
   "source": []
  },
  {
   "cell_type": "code",
   "execution_count": null,
   "id": "51a7408b",
   "metadata": {},
   "outputs": [],
   "source": []
  },
  {
   "cell_type": "code",
   "execution_count": null,
   "id": "8887fd23",
   "metadata": {},
   "outputs": [],
   "source": []
  },
  {
   "cell_type": "code",
   "execution_count": null,
   "id": "a1bcff6d",
   "metadata": {},
   "outputs": [],
   "source": []
  }
 ],
 "metadata": {
  "kernelspec": {
   "display_name": "Python 3",
   "language": "python",
   "name": "python3"
  },
  "language_info": {
   "codemirror_mode": {
    "name": "ipython",
    "version": 3
   },
   "file_extension": ".py",
   "mimetype": "text/x-python",
   "name": "python",
   "nbconvert_exporter": "python",
   "pygments_lexer": "ipython3",
   "version": "3.8.10"
  }
 },
 "nbformat": 4,
 "nbformat_minor": 5
}
